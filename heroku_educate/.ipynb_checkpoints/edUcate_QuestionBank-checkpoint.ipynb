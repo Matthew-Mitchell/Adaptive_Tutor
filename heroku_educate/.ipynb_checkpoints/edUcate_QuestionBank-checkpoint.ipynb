{
 "cells": [
  {
   "cell_type": "code",
   "execution_count": 1,
   "metadata": {
    "collapsed": true
   },
   "outputs": [],
   "source": [
    "import pandas as pd\n",
    "import numpy as np"
   ]
  },
  {
   "cell_type": "code",
   "execution_count": 2,
   "metadata": {
    "collapsed": false
   },
   "outputs": [
    {
     "data": {
      "text/plain": [
       "u'/Users/matthewmitchell/Desktop/Delta_Math_Data/my_app'"
      ]
     },
     "execution_count": 2,
     "metadata": {},
     "output_type": "execute_result"
    }
   ],
   "source": [
    "pwd"
   ]
  },
  {
   "cell_type": "code",
   "execution_count": 3,
   "metadata": {
    "collapsed": false
   },
   "outputs": [
    {
     "name": "stdout",
     "output_type": "stream",
     "text": [
      "Flask_Tests.ipynb              app.py                         question_difficulty_sep14.csv  \u001b[34mtemplates\u001b[m\u001b[m/\r\n"
     ]
    }
   ],
   "source": [
    "ls"
   ]
  },
  {
   "cell_type": "code",
   "execution_count": 8,
   "metadata": {
    "collapsed": false
   },
   "outputs": [],
   "source": [
    "questions = pd.read_csv(\"question_difficulty_sep14.csv\")\n",
    "questions.columns=['index','problem','avg','difficulty']"
   ]
  },
  {
   "cell_type": "code",
   "execution_count": 9,
   "metadata": {
    "collapsed": false
   },
   "outputs": [
    {
     "data": {
      "text/plain": [
       "'_bmueller_quadVertexToStandard'"
      ]
     },
     "execution_count": 9,
     "metadata": {},
     "output_type": "execute_result"
    }
   ],
   "source": [
    "np.random.choice(questions.problem)"
   ]
  },
  {
   "cell_type": "code",
   "execution_count": 10,
   "metadata": {
    "collapsed": false
   },
   "outputs": [
    {
     "data": {
      "text/plain": [
       "124"
      ]
     },
     "execution_count": 10,
     "metadata": {},
     "output_type": "execute_result"
    }
   ],
   "source": [
    "len(questions)"
   ]
  },
  {
   "cell_type": "code",
   "execution_count": 11,
   "metadata": {
    "collapsed": false
   },
   "outputs": [
    {
     "data": {
      "text/html": [
       "<div>\n",
       "<table border=\"1\" class=\"dataframe\">\n",
       "  <thead>\n",
       "    <tr style=\"text-align: right;\">\n",
       "      <th></th>\n",
       "      <th>index</th>\n",
       "      <th>problem</th>\n",
       "      <th>avg</th>\n",
       "      <th>difficulty</th>\n",
       "    </tr>\n",
       "  </thead>\n",
       "  <tbody>\n",
       "    <tr>\n",
       "      <th>0</th>\n",
       "      <td>0</td>\n",
       "      <td>_ajacoby_idPropertyLvl1</td>\n",
       "      <td>0.586922</td>\n",
       "      <td>2.065388</td>\n",
       "    </tr>\n",
       "    <tr>\n",
       "      <th>1</th>\n",
       "      <td>1</td>\n",
       "      <td>_ajacoby_idPropertyLvl2</td>\n",
       "      <td>0.507386</td>\n",
       "      <td>2.463069</td>\n",
       "    </tr>\n",
       "    <tr>\n",
       "      <th>2</th>\n",
       "      <td>2</td>\n",
       "      <td>_bmueller_ptWordProblems</td>\n",
       "      <td>0.594412</td>\n",
       "      <td>2.027938</td>\n",
       "    </tr>\n",
       "    <tr>\n",
       "      <th>3</th>\n",
       "      <td>3</td>\n",
       "      <td>_bmueller_quadFactoredToStandard</td>\n",
       "      <td>0.306127</td>\n",
       "      <td>3.469364</td>\n",
       "    </tr>\n",
       "    <tr>\n",
       "      <th>4</th>\n",
       "      <td>4</td>\n",
       "      <td>_bmueller_quadInterceptCoefficients</td>\n",
       "      <td>0.478771</td>\n",
       "      <td>2.606143</td>\n",
       "    </tr>\n",
       "  </tbody>\n",
       "</table>\n",
       "</div>"
      ],
      "text/plain": [
       "   index                              problem       avg  difficulty\n",
       "0      0              _ajacoby_idPropertyLvl1  0.586922    2.065388\n",
       "1      1              _ajacoby_idPropertyLvl2  0.507386    2.463069\n",
       "2      2             _bmueller_ptWordProblems  0.594412    2.027938\n",
       "3      3     _bmueller_quadFactoredToStandard  0.306127    3.469364\n",
       "4      4  _bmueller_quadInterceptCoefficients  0.478771    2.606143"
      ]
     },
     "execution_count": 11,
     "metadata": {},
     "output_type": "execute_result"
    }
   ],
   "source": [
    "questions.head()"
   ]
  },
  {
   "cell_type": "code",
   "execution_count": 13,
   "metadata": {
    "collapsed": false
   },
   "outputs": [
    {
     "data": {
      "text/plain": [
       "'_ajacoby_idPropertyLvl2'"
      ]
     },
     "execution_count": 13,
     "metadata": {},
     "output_type": "execute_result"
    }
   ],
   "source": [
    "questions.ix[1].problem"
   ]
  },
  {
   "cell_type": "code",
   "execution_count": 14,
   "metadata": {
    "collapsed": false
   },
   "outputs": [
    {
     "data": {
      "text/plain": [
       "2.46306873207"
      ]
     },
     "execution_count": 14,
     "metadata": {},
     "output_type": "execute_result"
    }
   ],
   "source": [
    "questions.ix[1].difficulty"
   ]
  },
  {
   "cell_type": "code",
   "execution_count": 15,
   "metadata": {
    "collapsed": false
   },
   "outputs": [
    {
     "data": {
      "text/plain": [
       "index                               1\n",
       "problem       _ajacoby_idPropertyLvl2\n",
       "avg                         0.5073863\n",
       "difficulty                   2.463069\n",
       "Name: 1, dtype: object"
      ]
     },
     "execution_count": 15,
     "metadata": {},
     "output_type": "execute_result"
    }
   ],
   "source": [
    "questions.ix[1]"
   ]
  },
  {
   "cell_type": "code",
   "execution_count": 16,
   "metadata": {
    "collapsed": false
   },
   "outputs": [],
   "source": [
    "user_qs = questions[(questions.difficulty<2+0.5) & (questions.difficulty>2-0.5) ]"
   ]
  },
  {
   "cell_type": "code",
   "execution_count": 17,
   "metadata": {
    "collapsed": false
   },
   "outputs": [
    {
     "data": {
      "text/html": [
       "<div>\n",
       "<table border=\"1\" class=\"dataframe\">\n",
       "  <thead>\n",
       "    <tr style=\"text-align: right;\">\n",
       "      <th></th>\n",
       "      <th>index</th>\n",
       "      <th>avg</th>\n",
       "      <th>difficulty</th>\n",
       "    </tr>\n",
       "  </thead>\n",
       "  <tbody>\n",
       "    <tr>\n",
       "      <th>count</th>\n",
       "      <td>124.000000</td>\n",
       "      <td>124.000000</td>\n",
       "      <td>124.000000</td>\n",
       "    </tr>\n",
       "    <tr>\n",
       "      <th>mean</th>\n",
       "      <td>63.024194</td>\n",
       "      <td>0.426826</td>\n",
       "      <td>2.865869</td>\n",
       "    </tr>\n",
       "    <tr>\n",
       "      <th>std</th>\n",
       "      <td>37.659895</td>\n",
       "      <td>0.182725</td>\n",
       "      <td>0.913626</td>\n",
       "    </tr>\n",
       "    <tr>\n",
       "      <th>min</th>\n",
       "      <td>0.000000</td>\n",
       "      <td>0.017609</td>\n",
       "      <td>0.948454</td>\n",
       "    </tr>\n",
       "    <tr>\n",
       "      <th>25%</th>\n",
       "      <td>30.750000</td>\n",
       "      <td>0.305907</td>\n",
       "      <td>2.274158</td>\n",
       "    </tr>\n",
       "    <tr>\n",
       "      <th>50%</th>\n",
       "      <td>62.500000</td>\n",
       "      <td>0.433045</td>\n",
       "      <td>2.834775</td>\n",
       "    </tr>\n",
       "    <tr>\n",
       "      <th>75%</th>\n",
       "      <td>95.250000</td>\n",
       "      <td>0.545168</td>\n",
       "      <td>3.470467</td>\n",
       "    </tr>\n",
       "    <tr>\n",
       "      <th>max</th>\n",
       "      <td>129.000000</td>\n",
       "      <td>0.810309</td>\n",
       "      <td>4.911956</td>\n",
       "    </tr>\n",
       "  </tbody>\n",
       "</table>\n",
       "</div>"
      ],
      "text/plain": [
       "            index         avg  difficulty\n",
       "count  124.000000  124.000000  124.000000\n",
       "mean    63.024194    0.426826    2.865869\n",
       "std     37.659895    0.182725    0.913626\n",
       "min      0.000000    0.017609    0.948454\n",
       "25%     30.750000    0.305907    2.274158\n",
       "50%     62.500000    0.433045    2.834775\n",
       "75%     95.250000    0.545168    3.470467\n",
       "max    129.000000    0.810309    4.911956"
      ]
     },
     "execution_count": 17,
     "metadata": {},
     "output_type": "execute_result"
    }
   ],
   "source": [
    "questions.describe()"
   ]
  },
  {
   "cell_type": "code",
   "execution_count": 18,
   "metadata": {
    "collapsed": false
   },
   "outputs": [
    {
     "data": {
      "text/html": [
       "<div>\n",
       "<table border=\"1\" class=\"dataframe\">\n",
       "  <thead>\n",
       "    <tr style=\"text-align: right;\">\n",
       "      <th></th>\n",
       "      <th>index</th>\n",
       "      <th>avg</th>\n",
       "      <th>difficulty</th>\n",
       "    </tr>\n",
       "  </thead>\n",
       "  <tbody>\n",
       "    <tr>\n",
       "      <th>count</th>\n",
       "      <td>38.000000</td>\n",
       "      <td>38.000000</td>\n",
       "      <td>38.000000</td>\n",
       "    </tr>\n",
       "    <tr>\n",
       "      <th>mean</th>\n",
       "      <td>59.763158</td>\n",
       "      <td>0.579604</td>\n",
       "      <td>2.101980</td>\n",
       "    </tr>\n",
       "    <tr>\n",
       "      <th>std</th>\n",
       "      <td>40.883773</td>\n",
       "      <td>0.055162</td>\n",
       "      <td>0.275808</td>\n",
       "    </tr>\n",
       "    <tr>\n",
       "      <th>min</th>\n",
       "      <td>0.000000</td>\n",
       "      <td>0.504115</td>\n",
       "      <td>1.523765</td>\n",
       "    </tr>\n",
       "    <tr>\n",
       "      <th>25%</th>\n",
       "      <td>28.500000</td>\n",
       "      <td>0.540285</td>\n",
       "      <td>1.991378</td>\n",
       "    </tr>\n",
       "    <tr>\n",
       "      <th>50%</th>\n",
       "      <td>50.500000</td>\n",
       "      <td>0.569323</td>\n",
       "      <td>2.153383</td>\n",
       "    </tr>\n",
       "    <tr>\n",
       "      <th>75%</th>\n",
       "      <td>97.500000</td>\n",
       "      <td>0.601724</td>\n",
       "      <td>2.298573</td>\n",
       "    </tr>\n",
       "    <tr>\n",
       "      <th>max</th>\n",
       "      <td>128.000000</td>\n",
       "      <td>0.695247</td>\n",
       "      <td>2.479424</td>\n",
       "    </tr>\n",
       "  </tbody>\n",
       "</table>\n",
       "</div>"
      ],
      "text/plain": [
       "            index        avg  difficulty\n",
       "count   38.000000  38.000000   38.000000\n",
       "mean    59.763158   0.579604    2.101980\n",
       "std     40.883773   0.055162    0.275808\n",
       "min      0.000000   0.504115    1.523765\n",
       "25%     28.500000   0.540285    1.991378\n",
       "50%     50.500000   0.569323    2.153383\n",
       "75%     97.500000   0.601724    2.298573\n",
       "max    128.000000   0.695247    2.479424"
      ]
     },
     "execution_count": 18,
     "metadata": {},
     "output_type": "execute_result"
    }
   ],
   "source": [
    "user_qs.describe()"
   ]
  },
  {
   "cell_type": "code",
   "execution_count": 24,
   "metadata": {
    "collapsed": false
   },
   "outputs": [
    {
     "data": {
      "text/html": [
       "<div>\n",
       "<table border=\"1\" class=\"dataframe\">\n",
       "  <thead>\n",
       "    <tr style=\"text-align: right;\">\n",
       "      <th></th>\n",
       "      <th>index</th>\n",
       "      <th>problem</th>\n",
       "      <th>avg</th>\n",
       "      <th>difficulty</th>\n",
       "    </tr>\n",
       "  </thead>\n",
       "  <tbody>\n",
       "    <tr>\n",
       "      <th>0</th>\n",
       "      <td>0</td>\n",
       "      <td>_ajacoby_idPropertyLvl1</td>\n",
       "      <td>0.586922</td>\n",
       "      <td>2.065388</td>\n",
       "    </tr>\n",
       "    <tr>\n",
       "      <th>1</th>\n",
       "      <td>1</td>\n",
       "      <td>_ajacoby_idPropertyLvl2</td>\n",
       "      <td>0.507386</td>\n",
       "      <td>2.463069</td>\n",
       "    </tr>\n",
       "    <tr>\n",
       "      <th>2</th>\n",
       "      <td>2</td>\n",
       "      <td>_bmueller_ptWordProblems</td>\n",
       "      <td>0.594412</td>\n",
       "      <td>2.027938</td>\n",
       "    </tr>\n",
       "    <tr>\n",
       "      <th>4</th>\n",
       "      <td>4</td>\n",
       "      <td>_bmueller_quadInterceptCoefficients</td>\n",
       "      <td>0.478771</td>\n",
       "      <td>2.606143</td>\n",
       "    </tr>\n",
       "    <tr>\n",
       "      <th>5</th>\n",
       "      <td>5</td>\n",
       "      <td>_bmueller_quadStandardCoefficients</td>\n",
       "      <td>0.424498</td>\n",
       "      <td>2.877511</td>\n",
       "    </tr>\n",
       "    <tr>\n",
       "      <th>6</th>\n",
       "      <td>6</td>\n",
       "      <td>_bmueller_quadVertexCoefficients</td>\n",
       "      <td>0.468979</td>\n",
       "      <td>2.655105</td>\n",
       "    </tr>\n",
       "    <tr>\n",
       "      <th>8</th>\n",
       "      <td>8</td>\n",
       "      <td>_bmueller_rateOfChangeUnits</td>\n",
       "      <td>0.425657</td>\n",
       "      <td>2.871714</td>\n",
       "    </tr>\n",
       "    <tr>\n",
       "      <th>9</th>\n",
       "      <td>9</td>\n",
       "      <td>_bmueller_tableToEquation1</td>\n",
       "      <td>0.405235</td>\n",
       "      <td>2.973825</td>\n",
       "    </tr>\n",
       "    <tr>\n",
       "      <th>14</th>\n",
       "      <td>14</td>\n",
       "      <td>_jhall_AlgTiles1</td>\n",
       "      <td>0.560920</td>\n",
       "      <td>2.195401</td>\n",
       "    </tr>\n",
       "    <tr>\n",
       "      <th>15</th>\n",
       "      <td>15</td>\n",
       "      <td>_jhall_AlgTiles2</td>\n",
       "      <td>0.567596</td>\n",
       "      <td>2.162021</td>\n",
       "    </tr>\n",
       "    <tr>\n",
       "      <th>16</th>\n",
       "      <td>16</td>\n",
       "      <td>_jhall_AlgTiles3</td>\n",
       "      <td>0.564834</td>\n",
       "      <td>2.175829</td>\n",
       "    </tr>\n",
       "    <tr>\n",
       "      <th>18</th>\n",
       "      <td>18</td>\n",
       "      <td>_jhall_CLTAlgTiles2</td>\n",
       "      <td>0.583739</td>\n",
       "      <td>2.081303</td>\n",
       "    </tr>\n",
       "    <tr>\n",
       "      <th>20</th>\n",
       "      <td>20</td>\n",
       "      <td>_jhall_ExpressMat1</td>\n",
       "      <td>0.498623</td>\n",
       "      <td>2.506885</td>\n",
       "    </tr>\n",
       "    <tr>\n",
       "      <th>30</th>\n",
       "      <td>30</td>\n",
       "      <td>_jhall_elimlevel1FIRSTsteponly</td>\n",
       "      <td>0.596705</td>\n",
       "      <td>2.016473</td>\n",
       "    </tr>\n",
       "    <tr>\n",
       "      <th>34</th>\n",
       "      <td>34</td>\n",
       "      <td>addRationalalsA1</td>\n",
       "      <td>0.596117</td>\n",
       "      <td>2.019415</td>\n",
       "    </tr>\n",
       "    <tr>\n",
       "      <th>43</th>\n",
       "      <td>43</td>\n",
       "      <td>differencePerfectSquares</td>\n",
       "      <td>0.588063</td>\n",
       "      <td>2.059684</td>\n",
       "    </tr>\n",
       "    <tr>\n",
       "      <th>44</th>\n",
       "      <td>44</td>\n",
       "      <td>dividingPowers</td>\n",
       "      <td>0.442764</td>\n",
       "      <td>2.786178</td>\n",
       "    </tr>\n",
       "    <tr>\n",
       "      <th>46</th>\n",
       "      <td>46</td>\n",
       "      <td>factorTrinomial23456Level0</td>\n",
       "      <td>0.522014</td>\n",
       "      <td>2.389930</td>\n",
       "    </tr>\n",
       "    <tr>\n",
       "      <th>48</th>\n",
       "      <td>48</td>\n",
       "      <td>factorTrinomialHardGuided</td>\n",
       "      <td>0.540109</td>\n",
       "      <td>2.299455</td>\n",
       "    </tr>\n",
       "    <tr>\n",
       "      <th>49</th>\n",
       "      <td>49</td>\n",
       "      <td>factorTrinomialHardLevel1</td>\n",
       "      <td>0.540814</td>\n",
       "      <td>2.295929</td>\n",
       "    </tr>\n",
       "    <tr>\n",
       "      <th>50</th>\n",
       "      <td>50</td>\n",
       "      <td>factorTrinomialsGuided</td>\n",
       "      <td>0.434221</td>\n",
       "      <td>2.828895</td>\n",
       "    </tr>\n",
       "    <tr>\n",
       "      <th>52</th>\n",
       "      <td>52</td>\n",
       "      <td>functionNotationGivenOutput</td>\n",
       "      <td>0.510487</td>\n",
       "      <td>2.447566</td>\n",
       "    </tr>\n",
       "    <tr>\n",
       "      <th>54</th>\n",
       "      <td>54</td>\n",
       "      <td>gcfFactorVariableOnly</td>\n",
       "      <td>0.451322</td>\n",
       "      <td>2.743392</td>\n",
       "    </tr>\n",
       "    <tr>\n",
       "      <th>55</th>\n",
       "      <td>55</td>\n",
       "      <td>graphInputVsOutput</td>\n",
       "      <td>0.440535</td>\n",
       "      <td>2.797326</td>\n",
       "    </tr>\n",
       "    <tr>\n",
       "      <th>56</th>\n",
       "      <td>57</td>\n",
       "      <td>graphingLines</td>\n",
       "      <td>0.571051</td>\n",
       "      <td>2.144746</td>\n",
       "    </tr>\n",
       "    <tr>\n",
       "      <th>57</th>\n",
       "      <td>58</td>\n",
       "      <td>greatestCommonFactor</td>\n",
       "      <td>0.493351</td>\n",
       "      <td>2.533244</td>\n",
       "    </tr>\n",
       "    <tr>\n",
       "      <th>62</th>\n",
       "      <td>63</td>\n",
       "      <td>intervalNotation</td>\n",
       "      <td>0.413232</td>\n",
       "      <td>2.933838</td>\n",
       "    </tr>\n",
       "    <tr>\n",
       "      <th>64</th>\n",
       "      <td>65</td>\n",
       "      <td>lineFromPointSlopeDiag</td>\n",
       "      <td>0.467133</td>\n",
       "      <td>2.664337</td>\n",
       "    </tr>\n",
       "    <tr>\n",
       "      <th>66</th>\n",
       "      <td>67</td>\n",
       "      <td>lineFromTwoPointsDiag</td>\n",
       "      <td>0.408170</td>\n",
       "      <td>2.959150</td>\n",
       "    </tr>\n",
       "    <tr>\n",
       "      <th>71</th>\n",
       "      <td>72</td>\n",
       "      <td>linearSystemGraphicallyL1</td>\n",
       "      <td>0.494563</td>\n",
       "      <td>2.527187</td>\n",
       "    </tr>\n",
       "    <tr>\n",
       "      <th>72</th>\n",
       "      <td>73</td>\n",
       "      <td>literalOneStepLevel1</td>\n",
       "      <td>0.413968</td>\n",
       "      <td>2.930159</td>\n",
       "    </tr>\n",
       "    <tr>\n",
       "      <th>74</th>\n",
       "      <td>75</td>\n",
       "      <td>meanGraphicallyLong</td>\n",
       "      <td>0.543728</td>\n",
       "      <td>2.281361</td>\n",
       "    </tr>\n",
       "    <tr>\n",
       "      <th>78</th>\n",
       "      <td>79</td>\n",
       "      <td>multiplyBinomials</td>\n",
       "      <td>0.504115</td>\n",
       "      <td>2.479424</td>\n",
       "    </tr>\n",
       "    <tr>\n",
       "      <th>83</th>\n",
       "      <td>84</td>\n",
       "      <td>multiplyPowers</td>\n",
       "      <td>0.532157</td>\n",
       "      <td>2.339215</td>\n",
       "    </tr>\n",
       "    <tr>\n",
       "      <th>84</th>\n",
       "      <td>85</td>\n",
       "      <td>parabolaAValue</td>\n",
       "      <td>0.431869</td>\n",
       "      <td>2.840656</td>\n",
       "    </tr>\n",
       "    <tr>\n",
       "      <th>85</th>\n",
       "      <td>86</td>\n",
       "      <td>parallelEquations</td>\n",
       "      <td>0.425585</td>\n",
       "      <td>2.872073</td>\n",
       "    </tr>\n",
       "    <tr>\n",
       "      <th>87</th>\n",
       "      <td>90</td>\n",
       "      <td>percentIncreaseDecrease</td>\n",
       "      <td>0.531784</td>\n",
       "      <td>2.341082</td>\n",
       "    </tr>\n",
       "    <tr>\n",
       "      <th>88</th>\n",
       "      <td>91</td>\n",
       "      <td>percentIncreaseDecreaseLevel2</td>\n",
       "      <td>0.457311</td>\n",
       "      <td>2.713443</td>\n",
       "    </tr>\n",
       "    <tr>\n",
       "      <th>91</th>\n",
       "      <td>94</td>\n",
       "      <td>percentIncreaseDecreaseWordProblems</td>\n",
       "      <td>0.483053</td>\n",
       "      <td>2.584733</td>\n",
       "    </tr>\n",
       "    <tr>\n",
       "      <th>95</th>\n",
       "      <td>98</td>\n",
       "      <td>powersMix</td>\n",
       "      <td>0.408475</td>\n",
       "      <td>2.957625</td>\n",
       "    </tr>\n",
       "    <tr>\n",
       "      <th>97</th>\n",
       "      <td>100</td>\n",
       "      <td>quadLinearSystem</td>\n",
       "      <td>0.542400</td>\n",
       "      <td>2.288002</td>\n",
       "    </tr>\n",
       "    <tr>\n",
       "      <th>103</th>\n",
       "      <td>107</td>\n",
       "      <td>reducingFractions</td>\n",
       "      <td>0.544360</td>\n",
       "      <td>2.278201</td>\n",
       "    </tr>\n",
       "    <tr>\n",
       "      <th>104</th>\n",
       "      <td>108</td>\n",
       "      <td>reducingRadicalsGuided</td>\n",
       "      <td>0.410866</td>\n",
       "      <td>2.945671</td>\n",
       "    </tr>\n",
       "    <tr>\n",
       "      <th>105</th>\n",
       "      <td>109</td>\n",
       "      <td>samePerpenParallelNeither</td>\n",
       "      <td>0.542541</td>\n",
       "      <td>2.287294</td>\n",
       "    </tr>\n",
       "    <tr>\n",
       "      <th>106</th>\n",
       "      <td>110</td>\n",
       "      <td>simplifyBasicRadicalWithX</td>\n",
       "      <td>0.547594</td>\n",
       "      <td>2.262030</td>\n",
       "    </tr>\n",
       "    <tr>\n",
       "      <th>107</th>\n",
       "      <td>112</td>\n",
       "      <td>simplifyRational</td>\n",
       "      <td>0.458928</td>\n",
       "      <td>2.705359</td>\n",
       "    </tr>\n",
       "    <tr>\n",
       "      <th>108</th>\n",
       "      <td>113</td>\n",
       "      <td>slopeFromPoints</td>\n",
       "      <td>0.441452</td>\n",
       "      <td>2.792741</td>\n",
       "    </tr>\n",
       "    <tr>\n",
       "      <th>109</th>\n",
       "      <td>114</td>\n",
       "      <td>slopeGraphically</td>\n",
       "      <td>0.462392</td>\n",
       "      <td>2.688039</td>\n",
       "    </tr>\n",
       "    <tr>\n",
       "      <th>112</th>\n",
       "      <td>117</td>\n",
       "      <td>solveQuadraticFactoring</td>\n",
       "      <td>0.531864</td>\n",
       "      <td>2.340680</td>\n",
       "    </tr>\n",
       "    <tr>\n",
       "      <th>114</th>\n",
       "      <td>119</td>\n",
       "      <td>solveTrinomialFactorA1</td>\n",
       "      <td>0.532610</td>\n",
       "      <td>2.336950</td>\n",
       "    </tr>\n",
       "    <tr>\n",
       "      <th>115</th>\n",
       "      <td>120</td>\n",
       "      <td>solveTrinomialFactorA23456</td>\n",
       "      <td>0.499193</td>\n",
       "      <td>2.504033</td>\n",
       "    </tr>\n",
       "    <tr>\n",
       "      <th>116</th>\n",
       "      <td>121</td>\n",
       "      <td>standardToSlopeIntForm</td>\n",
       "      <td>0.408613</td>\n",
       "      <td>2.956935</td>\n",
       "    </tr>\n",
       "    <tr>\n",
       "      <th>119</th>\n",
       "      <td>125</td>\n",
       "      <td>writeLineEquation</td>\n",
       "      <td>0.514493</td>\n",
       "      <td>2.427533</td>\n",
       "    </tr>\n",
       "    <tr>\n",
       "      <th>122</th>\n",
       "      <td>128</td>\n",
       "      <td>xGameLevel3</td>\n",
       "      <td>0.574799</td>\n",
       "      <td>2.126007</td>\n",
       "    </tr>\n",
       "  </tbody>\n",
       "</table>\n",
       "</div>"
      ],
      "text/plain": [
       "     index                              problem       avg  difficulty\n",
       "0        0              _ajacoby_idPropertyLvl1  0.586922    2.065388\n",
       "1        1              _ajacoby_idPropertyLvl2  0.507386    2.463069\n",
       "2        2             _bmueller_ptWordProblems  0.594412    2.027938\n",
       "4        4  _bmueller_quadInterceptCoefficients  0.478771    2.606143\n",
       "5        5   _bmueller_quadStandardCoefficients  0.424498    2.877511\n",
       "6        6     _bmueller_quadVertexCoefficients  0.468979    2.655105\n",
       "8        8          _bmueller_rateOfChangeUnits  0.425657    2.871714\n",
       "9        9           _bmueller_tableToEquation1  0.405235    2.973825\n",
       "14      14                     _jhall_AlgTiles1  0.560920    2.195401\n",
       "15      15                     _jhall_AlgTiles2  0.567596    2.162021\n",
       "16      16                     _jhall_AlgTiles3  0.564834    2.175829\n",
       "18      18                  _jhall_CLTAlgTiles2  0.583739    2.081303\n",
       "20      20                   _jhall_ExpressMat1  0.498623    2.506885\n",
       "30      30       _jhall_elimlevel1FIRSTsteponly  0.596705    2.016473\n",
       "34      34                     addRationalalsA1  0.596117    2.019415\n",
       "43      43             differencePerfectSquares  0.588063    2.059684\n",
       "44      44                       dividingPowers  0.442764    2.786178\n",
       "46      46           factorTrinomial23456Level0  0.522014    2.389930\n",
       "48      48            factorTrinomialHardGuided  0.540109    2.299455\n",
       "49      49            factorTrinomialHardLevel1  0.540814    2.295929\n",
       "50      50               factorTrinomialsGuided  0.434221    2.828895\n",
       "52      52          functionNotationGivenOutput  0.510487    2.447566\n",
       "54      54                gcfFactorVariableOnly  0.451322    2.743392\n",
       "55      55                   graphInputVsOutput  0.440535    2.797326\n",
       "56      57                        graphingLines  0.571051    2.144746\n",
       "57      58                 greatestCommonFactor  0.493351    2.533244\n",
       "62      63                     intervalNotation  0.413232    2.933838\n",
       "64      65               lineFromPointSlopeDiag  0.467133    2.664337\n",
       "66      67                lineFromTwoPointsDiag  0.408170    2.959150\n",
       "71      72            linearSystemGraphicallyL1  0.494563    2.527187\n",
       "72      73                 literalOneStepLevel1  0.413968    2.930159\n",
       "74      75                  meanGraphicallyLong  0.543728    2.281361\n",
       "78      79                    multiplyBinomials  0.504115    2.479424\n",
       "83      84                       multiplyPowers  0.532157    2.339215\n",
       "84      85                       parabolaAValue  0.431869    2.840656\n",
       "85      86                    parallelEquations  0.425585    2.872073\n",
       "87      90              percentIncreaseDecrease  0.531784    2.341082\n",
       "88      91        percentIncreaseDecreaseLevel2  0.457311    2.713443\n",
       "91      94  percentIncreaseDecreaseWordProblems  0.483053    2.584733\n",
       "95      98                            powersMix  0.408475    2.957625\n",
       "97     100                     quadLinearSystem  0.542400    2.288002\n",
       "103    107                    reducingFractions  0.544360    2.278201\n",
       "104    108               reducingRadicalsGuided  0.410866    2.945671\n",
       "105    109            samePerpenParallelNeither  0.542541    2.287294\n",
       "106    110            simplifyBasicRadicalWithX  0.547594    2.262030\n",
       "107    112                     simplifyRational  0.458928    2.705359\n",
       "108    113                      slopeFromPoints  0.441452    2.792741\n",
       "109    114                     slopeGraphically  0.462392    2.688039\n",
       "112    117              solveQuadraticFactoring  0.531864    2.340680\n",
       "114    119               solveTrinomialFactorA1  0.532610    2.336950\n",
       "115    120           solveTrinomialFactorA23456  0.499193    2.504033\n",
       "116    121               standardToSlopeIntForm  0.408613    2.956935\n",
       "119    125                    writeLineEquation  0.514493    2.427533\n",
       "122    128                          xGameLevel3  0.574799    2.126007"
      ]
     },
     "execution_count": 24,
     "metadata": {},
     "output_type": "execute_result"
    }
   ],
   "source": [
    "questions[(questions.difficulty>2)&(questions.difficulty<3)]"
   ]
  },
  {
   "cell_type": "code",
   "execution_count": 29,
   "metadata": {
    "collapsed": true
   },
   "outputs": [],
   "source": [
    "final_qs = ['meanFromFrequency','pointSlopeForm','axisOfSymmetryVertex', '_bmueller_quadFactoredToStandard',\n",
    "           'dividingPowers', 'differencePerfectSquares', 'slopeFromPoints']"
   ]
  },
  {
   "cell_type": "code",
   "execution_count": 31,
   "metadata": {
    "collapsed": false
   },
   "outputs": [],
   "source": [
    "betaq = questions[questions.problem.isin(final_qs)]"
   ]
  },
  {
   "cell_type": "code",
   "execution_count": 34,
   "metadata": {
    "collapsed": false
   },
   "outputs": [],
   "source": [
    "betaq = betaq.reset_index()"
   ]
  },
  {
   "cell_type": "code",
   "execution_count": 37,
   "metadata": {
    "collapsed": false
   },
   "outputs": [],
   "source": [
    "betaq = betaq.drop(['level_0','index'], axis=1)"
   ]
  },
  {
   "cell_type": "code",
   "execution_count": 38,
   "metadata": {
    "collapsed": false
   },
   "outputs": [
    {
     "data": {
      "text/html": [
       "<div>\n",
       "<table border=\"1\" class=\"dataframe\">\n",
       "  <thead>\n",
       "    <tr style=\"text-align: right;\">\n",
       "      <th></th>\n",
       "      <th>problem</th>\n",
       "      <th>avg</th>\n",
       "      <th>difficulty</th>\n",
       "    </tr>\n",
       "  </thead>\n",
       "  <tbody>\n",
       "    <tr>\n",
       "      <th>0</th>\n",
       "      <td>_bmueller_quadFactoredToStandard</td>\n",
       "      <td>0.306127</td>\n",
       "      <td>3.469364</td>\n",
       "    </tr>\n",
       "    <tr>\n",
       "      <th>1</th>\n",
       "      <td>axisOfSymmetryVertex</td>\n",
       "      <td>0.226395</td>\n",
       "      <td>3.868027</td>\n",
       "    </tr>\n",
       "    <tr>\n",
       "      <th>2</th>\n",
       "      <td>differencePerfectSquares</td>\n",
       "      <td>0.588063</td>\n",
       "      <td>2.059684</td>\n",
       "    </tr>\n",
       "    <tr>\n",
       "      <th>3</th>\n",
       "      <td>dividingPowers</td>\n",
       "      <td>0.442764</td>\n",
       "      <td>2.786178</td>\n",
       "    </tr>\n",
       "    <tr>\n",
       "      <th>4</th>\n",
       "      <td>meanFromFrequency</td>\n",
       "      <td>0.106817</td>\n",
       "      <td>4.465914</td>\n",
       "    </tr>\n",
       "    <tr>\n",
       "      <th>5</th>\n",
       "      <td>pointSlopeForm</td>\n",
       "      <td>0.076262</td>\n",
       "      <td>4.618688</td>\n",
       "    </tr>\n",
       "    <tr>\n",
       "      <th>6</th>\n",
       "      <td>slopeFromPoints</td>\n",
       "      <td>0.441452</td>\n",
       "      <td>2.792741</td>\n",
       "    </tr>\n",
       "  </tbody>\n",
       "</table>\n",
       "</div>"
      ],
      "text/plain": [
       "                            problem       avg  difficulty\n",
       "0  _bmueller_quadFactoredToStandard  0.306127    3.469364\n",
       "1              axisOfSymmetryVertex  0.226395    3.868027\n",
       "2          differencePerfectSquares  0.588063    2.059684\n",
       "3                    dividingPowers  0.442764    2.786178\n",
       "4                 meanFromFrequency  0.106817    4.465914\n",
       "5                    pointSlopeForm  0.076262    4.618688\n",
       "6                   slopeFromPoints  0.441452    2.792741"
      ]
     },
     "execution_count": 38,
     "metadata": {},
     "output_type": "execute_result"
    }
   ],
   "source": [
    "betaq"
   ]
  },
  {
   "cell_type": "code",
   "execution_count": 39,
   "metadata": {
    "collapsed": true
   },
   "outputs": [],
   "source": [
    "def Qslopefrompoints():\n",
    "    x1 = np.random.randint(-10,10)\n",
    "    x2 = np.random.randint(-10,10)\n",
    "    y1 = np.random.randint(-10,10)\n",
    "    y2 = np.random.randint(-10,10)\n",
    "    q = 'Find the slope between (%s, %s) and (%s, %s).' %(x1,y1,x2,y2)\n",
    "    a ='%s/%s'%((y2-y1),(x2-x1))\n",
    "    return [q,a]"
   ]
  },
  {
   "cell_type": "code",
   "execution_count": 44,
   "metadata": {
    "collapsed": false
   },
   "outputs": [],
   "source": [
    "qas6 = [Qslopefrompoints() for i in range(50)]"
   ]
  },
  {
   "cell_type": "code",
   "execution_count": 46,
   "metadata": {
    "collapsed": false
   },
   "outputs": [
    {
     "data": {
      "text/plain": [
       "1"
      ]
     },
     "execution_count": 46,
     "metadata": {},
     "output_type": "execute_result"
    }
   ],
   "source": [
    "-2/-2"
   ]
  },
  {
   "cell_type": "code",
   "execution_count": 198,
   "metadata": {
    "collapsed": false
   },
   "outputs": [],
   "source": [
    "def vertexfromeq():\n",
    "    a = np.random.randint(1,5)\n",
    "    b = np.random.randint(1,5)\n",
    "    c = np.random.randint(1,5)\n",
    "    q = 'Find the vertex of the equation y=%sx^2+%sx+%s. Write your answer in the form (x,y).' %(a,b,c)\n",
    "    x = -b/(2.0*a)\n",
    "    y = a*(x**2)+b*x+c\n",
    "    ans = '(%s,%s)'%(x,y)\n",
    "    return [q,ans]"
   ]
  },
  {
   "cell_type": "code",
   "execution_count": 199,
   "metadata": {
    "collapsed": false
   },
   "outputs": [],
   "source": [
    "def Qdividingpowers():\n",
    "    a = np.random.randint(1,5)\n",
    "    b = np.random.randint(1,5)\n",
    "    q = 'Simplify the expression x^%s/x^%s.' %(a,b)\n",
    "    if a==b:\n",
    "        ans = '1'\n",
    "    elif a>b:\n",
    "        ans = 'x^%s' %(a-b)\n",
    "    elif a<b:\n",
    "        ans = '1/x^%s' %(b-a)\n",
    "    return [q, ans]"
   ]
  },
  {
   "cell_type": "code",
   "execution_count": 62,
   "metadata": {
    "collapsed": false
   },
   "outputs": [],
   "source": [
    "qas3 = [Qdividingpowers() for i in range(50)]"
   ]
  },
  {
   "cell_type": "code",
   "execution_count": 63,
   "metadata": {
    "collapsed": false
   },
   "outputs": [
    {
     "data": {
      "text/plain": [
       "[['Simplify the expression x^-5/x^0.', '1/x^5'],\n",
       " ['Simplify the expression x^0/x^0.', '1'],\n",
       " ['Simplify the expression x^2/x^-2.', 'x^4'],\n",
       " ['Simplify the expression x^-2/x^1.', '1/x^3'],\n",
       " ['Simplify the expression x^1/x^2.', '1/x^1'],\n",
       " ['Simplify the expression x^-3/x^-3.', '1'],\n",
       " ['Simplify the expression x^-4/x^1.', '1/x^5'],\n",
       " ['Simplify the expression x^-2/x^4.', '1/x^6'],\n",
       " ['Simplify the expression x^-4/x^-3.', '1/x^1'],\n",
       " ['Simplify the expression x^2/x^4.', '1/x^2'],\n",
       " ['Simplify the expression x^2/x^2.', '1'],\n",
       " ['Simplify the expression x^-5/x^-5.', '1'],\n",
       " ['Simplify the expression x^0/x^3.', '1/x^3'],\n",
       " ['Simplify the expression x^-1/x^-4.', 'x^3'],\n",
       " ['Simplify the expression x^1/x^1.', '1'],\n",
       " ['Simplify the expression x^-4/x^2.', '1/x^6'],\n",
       " ['Simplify the expression x^-2/x^-5.', 'x^3'],\n",
       " ['Simplify the expression x^-4/x^-1.', '1/x^3'],\n",
       " ['Simplify the expression x^-3/x^-4.', 'x^1'],\n",
       " ['Simplify the expression x^-4/x^-1.', '1/x^3'],\n",
       " ['Simplify the expression x^-4/x^-4.', '1'],\n",
       " ['Simplify the expression x^0/x^0.', '1'],\n",
       " ['Simplify the expression x^2/x^-2.', 'x^4'],\n",
       " ['Simplify the expression x^2/x^-5.', 'x^7'],\n",
       " ['Simplify the expression x^-5/x^-1.', '1/x^4'],\n",
       " ['Simplify the expression x^0/x^-3.', 'x^3'],\n",
       " ['Simplify the expression x^-3/x^-4.', 'x^1'],\n",
       " ['Simplify the expression x^1/x^2.', '1/x^1'],\n",
       " ['Simplify the expression x^-2/x^-2.', '1'],\n",
       " ['Simplify the expression x^3/x^1.', 'x^2'],\n",
       " ['Simplify the expression x^-3/x^-2.', '1/x^1'],\n",
       " ['Simplify the expression x^-2/x^-1.', '1/x^1'],\n",
       " ['Simplify the expression x^-5/x^-5.', '1'],\n",
       " ['Simplify the expression x^-1/x^-4.', 'x^3'],\n",
       " ['Simplify the expression x^-5/x^-2.', '1/x^3'],\n",
       " ['Simplify the expression x^-4/x^1.', '1/x^5'],\n",
       " ['Simplify the expression x^0/x^1.', '1/x^1'],\n",
       " ['Simplify the expression x^2/x^-1.', 'x^3'],\n",
       " ['Simplify the expression x^-4/x^4.', '1/x^8'],\n",
       " ['Simplify the expression x^-1/x^-3.', 'x^2'],\n",
       " ['Simplify the expression x^0/x^2.', '1/x^2'],\n",
       " ['Simplify the expression x^-3/x^-4.', 'x^1'],\n",
       " ['Simplify the expression x^0/x^3.', '1/x^3'],\n",
       " ['Simplify the expression x^4/x^0.', 'x^4'],\n",
       " ['Simplify the expression x^3/x^3.', '1'],\n",
       " ['Simplify the expression x^-1/x^-1.', '1'],\n",
       " ['Simplify the expression x^1/x^1.', '1'],\n",
       " ['Simplify the expression x^-1/x^2.', '1/x^3'],\n",
       " ['Simplify the expression x^1/x^-5.', 'x^6'],\n",
       " ['Simplify the expression x^1/x^1.', '1']]"
      ]
     },
     "execution_count": 63,
     "metadata": {},
     "output_type": "execute_result"
    }
   ],
   "source": [
    "qas3"
   ]
  },
  {
   "cell_type": "code",
   "execution_count": 55,
   "metadata": {
    "collapsed": true
   },
   "outputs": [],
   "source": [
    "qas1 = [vertexfromeq() for i in range(50)]"
   ]
  },
  {
   "cell_type": "code",
   "execution_count": 56,
   "metadata": {
    "collapsed": false
   },
   "outputs": [
    {
     "data": {
      "text/plain": [
       "[['Find the vertex of the equation y=4x^2+-5x+-2. Write your answer in the form (x,y).',\n",
       "  '(0.625,-3.5625)'],\n",
       " ['Find the vertex of the equation y=2x^2+-3x+-2. Write your answer in the form (x,y).',\n",
       "  '(0.75,-3.125)'],\n",
       " ['Find the vertex of the equation y=2x^2+-3x+3. Write your answer in the form (x,y).',\n",
       "  '(0.75,1.875)'],\n",
       " ['Find the vertex of the equation y=4x^2+-5x+-1. Write your answer in the form (x,y).',\n",
       "  '(0.625,-2.5625)'],\n",
       " ['Find the vertex of the equation y=4x^2+-5x+0. Write your answer in the form (x,y).',\n",
       "  '(0.625,-1.5625)'],\n",
       " ['Find the vertex of the equation y=2x^2+1x+3. Write your answer in the form (x,y).',\n",
       "  '(-0.25,2.875)'],\n",
       " ['Find the vertex of the equation y=1x^2+-1x+3. Write your answer in the form (x,y).',\n",
       "  '(0.5,2.75)'],\n",
       " ['Find the vertex of the equation y=4x^2+-2x+-1. Write your answer in the form (x,y).',\n",
       "  '(0.25,-1.25)'],\n",
       " ['Find the vertex of the equation y=2x^2+-4x+4. Write your answer in the form (x,y).',\n",
       "  '(1.0,2.0)'],\n",
       " ['Find the vertex of the equation y=3x^2+0x+-2. Write your answer in the form (x,y).',\n",
       "  '(0.0,-2.0)'],\n",
       " ['Find the vertex of the equation y=1x^2+1x+-2. Write your answer in the form (x,y).',\n",
       "  '(-0.5,-2.25)'],\n",
       " ['Find the vertex of the equation y=2x^2+1x+2. Write your answer in the form (x,y).',\n",
       "  '(-0.25,1.875)'],\n",
       " ['Find the vertex of the equation y=3x^2+3x+-2. Write your answer in the form (x,y).',\n",
       "  '(-0.5,-2.75)'],\n",
       " ['Find the vertex of the equation y=1x^2+2x+3. Write your answer in the form (x,y).',\n",
       "  '(-1.0,2.0)'],\n",
       " ['Find the vertex of the equation y=2x^2+2x+-3. Write your answer in the form (x,y).',\n",
       "  '(-0.5,-3.5)'],\n",
       " ['Find the vertex of the equation y=1x^2+-4x+3. Write your answer in the form (x,y).',\n",
       "  '(2.0,-1.0)'],\n",
       " ['Find the vertex of the equation y=3x^2+1x+-4. Write your answer in the form (x,y).',\n",
       "  '(-0.166666666667,-4.08333333333)'],\n",
       " ['Find the vertex of the equation y=4x^2+-4x+4. Write your answer in the form (x,y).',\n",
       "  '(0.5,3.0)'],\n",
       " ['Find the vertex of the equation y=3x^2+-2x+-4. Write your answer in the form (x,y).',\n",
       "  '(0.333333333333,-4.33333333333)'],\n",
       " ['Find the vertex of the equation y=1x^2+4x+4. Write your answer in the form (x,y).',\n",
       "  '(-2.0,0.0)'],\n",
       " ['Find the vertex of the equation y=1x^2+-3x+3. Write your answer in the form (x,y).',\n",
       "  '(1.5,0.75)'],\n",
       " ['Find the vertex of the equation y=1x^2+-5x+2. Write your answer in the form (x,y).',\n",
       "  '(2.5,-4.25)'],\n",
       " ['Find the vertex of the equation y=1x^2+-3x+-2. Write your answer in the form (x,y).',\n",
       "  '(1.5,-4.25)'],\n",
       " ['Find the vertex of the equation y=2x^2+4x+-3. Write your answer in the form (x,y).',\n",
       "  '(-1.0,-5.0)'],\n",
       " ['Find the vertex of the equation y=2x^2+-1x+1. Write your answer in the form (x,y).',\n",
       "  '(0.25,0.875)'],\n",
       " ['Find the vertex of the equation y=1x^2+-1x+1. Write your answer in the form (x,y).',\n",
       "  '(0.5,0.75)'],\n",
       " ['Find the vertex of the equation y=1x^2+-3x+-5. Write your answer in the form (x,y).',\n",
       "  '(1.5,-7.25)'],\n",
       " ['Find the vertex of the equation y=1x^2+1x+-3. Write your answer in the form (x,y).',\n",
       "  '(-0.5,-3.25)'],\n",
       " ['Find the vertex of the equation y=3x^2+-2x+0. Write your answer in the form (x,y).',\n",
       "  '(0.333333333333,-0.333333333333)'],\n",
       " ['Find the vertex of the equation y=4x^2+4x+-5. Write your answer in the form (x,y).',\n",
       "  '(-0.5,-6.0)'],\n",
       " ['Find the vertex of the equation y=3x^2+2x+2. Write your answer in the form (x,y).',\n",
       "  '(-0.333333333333,1.66666666667)'],\n",
       " ['Find the vertex of the equation y=1x^2+3x+1. Write your answer in the form (x,y).',\n",
       "  '(-1.5,-1.25)'],\n",
       " ['Find the vertex of the equation y=4x^2+0x+1. Write your answer in the form (x,y).',\n",
       "  '(0.0,1.0)'],\n",
       " ['Find the vertex of the equation y=2x^2+-5x+4. Write your answer in the form (x,y).',\n",
       "  '(1.25,0.875)'],\n",
       " ['Find the vertex of the equation y=4x^2+-4x+-1. Write your answer in the form (x,y).',\n",
       "  '(0.5,-2.0)'],\n",
       " ['Find the vertex of the equation y=2x^2+0x+3. Write your answer in the form (x,y).',\n",
       "  '(0.0,3.0)'],\n",
       " ['Find the vertex of the equation y=2x^2+-5x+1. Write your answer in the form (x,y).',\n",
       "  '(1.25,-2.125)'],\n",
       " ['Find the vertex of the equation y=1x^2+0x+-1. Write your answer in the form (x,y).',\n",
       "  '(0.0,-1.0)'],\n",
       " ['Find the vertex of the equation y=2x^2+3x+-1. Write your answer in the form (x,y).',\n",
       "  '(-0.75,-2.125)'],\n",
       " ['Find the vertex of the equation y=1x^2+-1x+-3. Write your answer in the form (x,y).',\n",
       "  '(0.5,-3.25)'],\n",
       " ['Find the vertex of the equation y=2x^2+1x+4. Write your answer in the form (x,y).',\n",
       "  '(-0.25,3.875)'],\n",
       " ['Find the vertex of the equation y=3x^2+-5x+2. Write your answer in the form (x,y).',\n",
       "  '(0.833333333333,-0.0833333333333)'],\n",
       " ['Find the vertex of the equation y=1x^2+-3x+-5. Write your answer in the form (x,y).',\n",
       "  '(1.5,-7.25)'],\n",
       " ['Find the vertex of the equation y=1x^2+2x+-4. Write your answer in the form (x,y).',\n",
       "  '(-1.0,-5.0)'],\n",
       " ['Find the vertex of the equation y=4x^2+-4x+-2. Write your answer in the form (x,y).',\n",
       "  '(0.5,-3.0)'],\n",
       " ['Find the vertex of the equation y=1x^2+-3x+-4. Write your answer in the form (x,y).',\n",
       "  '(1.5,-6.25)'],\n",
       " ['Find the vertex of the equation y=3x^2+-5x+1. Write your answer in the form (x,y).',\n",
       "  '(0.833333333333,-1.08333333333)'],\n",
       " ['Find the vertex of the equation y=1x^2+1x+-5. Write your answer in the form (x,y).',\n",
       "  '(-0.5,-5.25)'],\n",
       " ['Find the vertex of the equation y=3x^2+1x+0. Write your answer in the form (x,y).',\n",
       "  '(-0.166666666667,-0.0833333333333)'],\n",
       " ['Find the vertex of the equation y=1x^2+4x+-4. Write your answer in the form (x,y).',\n",
       "  '(-2.0,-8.0)']]"
      ]
     },
     "execution_count": 56,
     "metadata": {},
     "output_type": "execute_result"
    }
   ],
   "source": [
    "qas1"
   ]
  },
  {
   "cell_type": "code",
   "execution_count": 50,
   "metadata": {
    "collapsed": false
   },
   "outputs": [],
   "source": [
    "vertexfromeq()"
   ]
  },
  {
   "cell_type": "code",
   "execution_count": 64,
   "metadata": {
    "collapsed": false
   },
   "outputs": [
    {
     "data": {
      "text/html": [
       "<div>\n",
       "<table border=\"1\" class=\"dataframe\">\n",
       "  <thead>\n",
       "    <tr style=\"text-align: right;\">\n",
       "      <th></th>\n",
       "      <th>problem</th>\n",
       "      <th>avg</th>\n",
       "      <th>difficulty</th>\n",
       "    </tr>\n",
       "  </thead>\n",
       "  <tbody>\n",
       "    <tr>\n",
       "      <th>0</th>\n",
       "      <td>_bmueller_quadFactoredToStandard</td>\n",
       "      <td>0.306127</td>\n",
       "      <td>3.469364</td>\n",
       "    </tr>\n",
       "    <tr>\n",
       "      <th>1</th>\n",
       "      <td>axisOfSymmetryVertex</td>\n",
       "      <td>0.226395</td>\n",
       "      <td>3.868027</td>\n",
       "    </tr>\n",
       "    <tr>\n",
       "      <th>2</th>\n",
       "      <td>differencePerfectSquares</td>\n",
       "      <td>0.588063</td>\n",
       "      <td>2.059684</td>\n",
       "    </tr>\n",
       "    <tr>\n",
       "      <th>3</th>\n",
       "      <td>dividingPowers</td>\n",
       "      <td>0.442764</td>\n",
       "      <td>2.786178</td>\n",
       "    </tr>\n",
       "    <tr>\n",
       "      <th>4</th>\n",
       "      <td>meanFromFrequency</td>\n",
       "      <td>0.106817</td>\n",
       "      <td>4.465914</td>\n",
       "    </tr>\n",
       "    <tr>\n",
       "      <th>5</th>\n",
       "      <td>pointSlopeForm</td>\n",
       "      <td>0.076262</td>\n",
       "      <td>4.618688</td>\n",
       "    </tr>\n",
       "    <tr>\n",
       "      <th>6</th>\n",
       "      <td>slopeFromPoints</td>\n",
       "      <td>0.441452</td>\n",
       "      <td>2.792741</td>\n",
       "    </tr>\n",
       "  </tbody>\n",
       "</table>\n",
       "</div>"
      ],
      "text/plain": [
       "                            problem       avg  difficulty\n",
       "0  _bmueller_quadFactoredToStandard  0.306127    3.469364\n",
       "1              axisOfSymmetryVertex  0.226395    3.868027\n",
       "2          differencePerfectSquares  0.588063    2.059684\n",
       "3                    dividingPowers  0.442764    2.786178\n",
       "4                 meanFromFrequency  0.106817    4.465914\n",
       "5                    pointSlopeForm  0.076262    4.618688\n",
       "6                   slopeFromPoints  0.441452    2.792741"
      ]
     },
     "execution_count": 64,
     "metadata": {},
     "output_type": "execute_result"
    }
   ],
   "source": [
    "betaq"
   ]
  },
  {
   "cell_type": "code",
   "execution_count": 65,
   "metadata": {
    "collapsed": true
   },
   "outputs": [],
   "source": [
    "finalq = ['axisOfSymmetryVertex','dividingPowers','slopeFromPoints']"
   ]
  },
  {
   "cell_type": "code",
   "execution_count": 66,
   "metadata": {
    "collapsed": true
   },
   "outputs": [],
   "source": [
    "betaqfinal = betaq[betaq.problem.isin(finalq)]"
   ]
  },
  {
   "cell_type": "code",
   "execution_count": 67,
   "metadata": {
    "collapsed": false
   },
   "outputs": [
    {
     "data": {
      "text/html": [
       "<div>\n",
       "<table border=\"1\" class=\"dataframe\">\n",
       "  <thead>\n",
       "    <tr style=\"text-align: right;\">\n",
       "      <th></th>\n",
       "      <th>problem</th>\n",
       "      <th>avg</th>\n",
       "      <th>difficulty</th>\n",
       "    </tr>\n",
       "  </thead>\n",
       "  <tbody>\n",
       "    <tr>\n",
       "      <th>1</th>\n",
       "      <td>axisOfSymmetryVertex</td>\n",
       "      <td>0.226395</td>\n",
       "      <td>3.868027</td>\n",
       "    </tr>\n",
       "    <tr>\n",
       "      <th>3</th>\n",
       "      <td>dividingPowers</td>\n",
       "      <td>0.442764</td>\n",
       "      <td>2.786178</td>\n",
       "    </tr>\n",
       "    <tr>\n",
       "      <th>6</th>\n",
       "      <td>slopeFromPoints</td>\n",
       "      <td>0.441452</td>\n",
       "      <td>2.792741</td>\n",
       "    </tr>\n",
       "  </tbody>\n",
       "</table>\n",
       "</div>"
      ],
      "text/plain": [
       "                problem       avg  difficulty\n",
       "1  axisOfSymmetryVertex  0.226395    3.868027\n",
       "3        dividingPowers  0.442764    2.786178\n",
       "6       slopeFromPoints  0.441452    2.792741"
      ]
     },
     "execution_count": 67,
     "metadata": {},
     "output_type": "execute_result"
    }
   ],
   "source": [
    "betaqfinal"
   ]
  },
  {
   "cell_type": "code",
   "execution_count": 68,
   "metadata": {
    "collapsed": true
   },
   "outputs": [],
   "source": [
    "qas3 = [Qdividingpowers() for i in range(50)]\n",
    "qas_all = [qas1,qas3,qas6]"
   ]
  },
  {
   "cell_type": "code",
   "execution_count": 69,
   "metadata": {
    "collapsed": false
   },
   "outputs": [
    {
     "name": "stderr",
     "output_type": "stream",
     "text": [
      "/Users/matthewmitchell/anaconda/lib/python2.7/site-packages/IPython/kernel/__main__.py:1: SettingWithCopyWarning: \n",
      "A value is trying to be set on a copy of a slice from a DataFrame.\n",
      "Try using .loc[row_indexer,col_indexer] = value instead\n",
      "\n",
      "See the the caveats in the documentation: http://pandas.pydata.org/pandas-docs/stable/indexing.html#indexing-view-versus-copy\n",
      "  if __name__ == '__main__':\n"
     ]
    }
   ],
   "source": [
    "qas3 = [Qdividingpowers() for i in range(50)]\n",
    "qas_all = [qas1,qas3,qas6]\n",
    "betaqfinal['QA']=qas_all"
   ]
  },
  {
   "cell_type": "code",
   "execution_count": 125,
   "metadata": {
    "collapsed": false
   },
   "outputs": [
    {
     "data": {
      "text/plain": [
       "[['Find the vertex of the equation y=4x^2+-5x+-2. Write your answer in the form (x,y).',\n",
       "  '(0.625,-3.5625)'],\n",
       " ['Find the vertex of the equation y=2x^2+-3x+-2. Write your answer in the form (x,y).',\n",
       "  '(0.75,-3.125)'],\n",
       " ['Find the vertex of the equation y=2x^2+-3x+3. Write your answer in the form (x,y).',\n",
       "  '(0.75,1.875)'],\n",
       " ['Find the vertex of the equation y=4x^2+-5x+-1. Write your answer in the form (x,y).',\n",
       "  '(0.625,-2.5625)'],\n",
       " ['Find the vertex of the equation y=4x^2+-5x+0. Write your answer in the form (x,y).',\n",
       "  '(0.625,-1.5625)'],\n",
       " ['Find the vertex of the equation y=2x^2+1x+3. Write your answer in the form (x,y).',\n",
       "  '(-0.25,2.875)'],\n",
       " ['Find the vertex of the equation y=1x^2+-1x+3. Write your answer in the form (x,y).',\n",
       "  '(0.5,2.75)'],\n",
       " ['Find the vertex of the equation y=4x^2+-2x+-1. Write your answer in the form (x,y).',\n",
       "  '(0.25,-1.25)'],\n",
       " ['Find the vertex of the equation y=2x^2+-4x+4. Write your answer in the form (x,y).',\n",
       "  '(1.0,2.0)'],\n",
       " ['Find the vertex of the equation y=3x^2+0x+-2. Write your answer in the form (x,y).',\n",
       "  '(0.0,-2.0)'],\n",
       " ['Find the vertex of the equation y=1x^2+1x+-2. Write your answer in the form (x,y).',\n",
       "  '(-0.5,-2.25)'],\n",
       " ['Find the vertex of the equation y=2x^2+1x+2. Write your answer in the form (x,y).',\n",
       "  '(-0.25,1.875)'],\n",
       " ['Find the vertex of the equation y=3x^2+3x+-2. Write your answer in the form (x,y).',\n",
       "  '(-0.5,-2.75)'],\n",
       " ['Find the vertex of the equation y=1x^2+2x+3. Write your answer in the form (x,y).',\n",
       "  '(-1.0,2.0)'],\n",
       " ['Find the vertex of the equation y=2x^2+2x+-3. Write your answer in the form (x,y).',\n",
       "  '(-0.5,-3.5)'],\n",
       " ['Find the vertex of the equation y=1x^2+-4x+3. Write your answer in the form (x,y).',\n",
       "  '(2.0,-1.0)'],\n",
       " ['Find the vertex of the equation y=3x^2+1x+-4. Write your answer in the form (x,y).',\n",
       "  '(-0.166666666667,-4.08333333333)'],\n",
       " ['Find the vertex of the equation y=4x^2+-4x+4. Write your answer in the form (x,y).',\n",
       "  '(0.5,3.0)'],\n",
       " ['Find the vertex of the equation y=3x^2+-2x+-4. Write your answer in the form (x,y).',\n",
       "  '(0.333333333333,-4.33333333333)'],\n",
       " ['Find the vertex of the equation y=1x^2+4x+4. Write your answer in the form (x,y).',\n",
       "  '(-2.0,0.0)'],\n",
       " ['Find the vertex of the equation y=1x^2+-3x+3. Write your answer in the form (x,y).',\n",
       "  '(1.5,0.75)'],\n",
       " ['Find the vertex of the equation y=1x^2+-5x+2. Write your answer in the form (x,y).',\n",
       "  '(2.5,-4.25)'],\n",
       " ['Find the vertex of the equation y=1x^2+-3x+-2. Write your answer in the form (x,y).',\n",
       "  '(1.5,-4.25)'],\n",
       " ['Find the vertex of the equation y=2x^2+4x+-3. Write your answer in the form (x,y).',\n",
       "  '(-1.0,-5.0)'],\n",
       " ['Find the vertex of the equation y=2x^2+-1x+1. Write your answer in the form (x,y).',\n",
       "  '(0.25,0.875)'],\n",
       " ['Find the vertex of the equation y=1x^2+-1x+1. Write your answer in the form (x,y).',\n",
       "  '(0.5,0.75)'],\n",
       " ['Find the vertex of the equation y=1x^2+-3x+-5. Write your answer in the form (x,y).',\n",
       "  '(1.5,-7.25)'],\n",
       " ['Find the vertex of the equation y=1x^2+1x+-3. Write your answer in the form (x,y).',\n",
       "  '(-0.5,-3.25)'],\n",
       " ['Find the vertex of the equation y=3x^2+-2x+0. Write your answer in the form (x,y).',\n",
       "  '(0.333333333333,-0.333333333333)'],\n",
       " ['Find the vertex of the equation y=4x^2+4x+-5. Write your answer in the form (x,y).',\n",
       "  '(-0.5,-6.0)'],\n",
       " ['Find the vertex of the equation y=3x^2+2x+2. Write your answer in the form (x,y).',\n",
       "  '(-0.333333333333,1.66666666667)'],\n",
       " ['Find the vertex of the equation y=1x^2+3x+1. Write your answer in the form (x,y).',\n",
       "  '(-1.5,-1.25)'],\n",
       " ['Find the vertex of the equation y=4x^2+0x+1. Write your answer in the form (x,y).',\n",
       "  '(0.0,1.0)'],\n",
       " ['Find the vertex of the equation y=2x^2+-5x+4. Write your answer in the form (x,y).',\n",
       "  '(1.25,0.875)'],\n",
       " ['Find the vertex of the equation y=4x^2+-4x+-1. Write your answer in the form (x,y).',\n",
       "  '(0.5,-2.0)'],\n",
       " ['Find the vertex of the equation y=2x^2+0x+3. Write your answer in the form (x,y).',\n",
       "  '(0.0,3.0)'],\n",
       " ['Find the vertex of the equation y=2x^2+-5x+1. Write your answer in the form (x,y).',\n",
       "  '(1.25,-2.125)'],\n",
       " ['Find the vertex of the equation y=1x^2+0x+-1. Write your answer in the form (x,y).',\n",
       "  '(0.0,-1.0)'],\n",
       " ['Find the vertex of the equation y=2x^2+3x+-1. Write your answer in the form (x,y).',\n",
       "  '(-0.75,-2.125)'],\n",
       " ['Find the vertex of the equation y=1x^2+-1x+-3. Write your answer in the form (x,y).',\n",
       "  '(0.5,-3.25)'],\n",
       " ['Find the vertex of the equation y=2x^2+1x+4. Write your answer in the form (x,y).',\n",
       "  '(-0.25,3.875)'],\n",
       " ['Find the vertex of the equation y=3x^2+-5x+2. Write your answer in the form (x,y).',\n",
       "  '(0.833333333333,-0.0833333333333)'],\n",
       " ['Find the vertex of the equation y=1x^2+-3x+-5. Write your answer in the form (x,y).',\n",
       "  '(1.5,-7.25)'],\n",
       " ['Find the vertex of the equation y=1x^2+2x+-4. Write your answer in the form (x,y).',\n",
       "  '(-1.0,-5.0)'],\n",
       " ['Find the vertex of the equation y=4x^2+-4x+-2. Write your answer in the form (x,y).',\n",
       "  '(0.5,-3.0)'],\n",
       " ['Find the vertex of the equation y=1x^2+-3x+-4. Write your answer in the form (x,y).',\n",
       "  '(1.5,-6.25)'],\n",
       " ['Find the vertex of the equation y=3x^2+-5x+1. Write your answer in the form (x,y).',\n",
       "  '(0.833333333333,-1.08333333333)'],\n",
       " ['Find the vertex of the equation y=1x^2+1x+-5. Write your answer in the form (x,y).',\n",
       "  '(-0.5,-5.25)'],\n",
       " ['Find the vertex of the equation y=3x^2+1x+0. Write your answer in the form (x,y).',\n",
       "  '(-0.166666666667,-0.0833333333333)'],\n",
       " ['Find the vertex of the equation y=1x^2+4x+-4. Write your answer in the form (x,y).',\n",
       "  '(-2.0,-8.0)']]"
      ]
     },
     "execution_count": 125,
     "metadata": {},
     "output_type": "execute_result"
    }
   ],
   "source": [
    "betaqfinal.ix[1].QA"
   ]
  },
  {
   "cell_type": "code",
   "execution_count": 71,
   "metadata": {
    "collapsed": true
   },
   "outputs": [],
   "source": [
    "betaqfinal.to_csv('beta_QA.csv')"
   ]
  },
  {
   "cell_type": "code",
   "execution_count": 76,
   "metadata": {
    "collapsed": false
   },
   "outputs": [
    {
     "name": "stdout",
     "output_type": "stream",
     "text": [
      "/Users/matthewmitchell/Desktop/Delta_Math_Data\n"
     ]
    }
   ],
   "source": [
    "cd .."
   ]
  },
  {
   "cell_type": "code",
   "execution_count": 78,
   "metadata": {
    "collapsed": false
   },
   "outputs": [
    {
     "name": "stdout",
     "output_type": "stream",
     "text": [
      "/Users/matthewmitchell/Desktop/Delta_Math_Data/my_app\n"
     ]
    }
   ],
   "source": [
    "cd my_app/"
   ]
  },
  {
   "cell_type": "code",
   "execution_count": 79,
   "metadata": {
    "collapsed": false
   },
   "outputs": [
    {
     "name": "stdout",
     "output_type": "stream",
     "text": [
      "Flask_Tests.ipynb  README.md          \u001b[34medUcateBeta\u001b[m\u001b[m/\r\n"
     ]
    }
   ],
   "source": [
    "ls"
   ]
  },
  {
   "cell_type": "code",
   "execution_count": 80,
   "metadata": {
    "collapsed": false
   },
   "outputs": [
    {
     "name": "stdout",
     "output_type": "stream",
     "text": [
      "/Users/matthewmitchell/Desktop/Delta_Math_Data/my_app/edUcateBeta\n"
     ]
    }
   ],
   "source": [
    "cd edUcateBeta/"
   ]
  },
  {
   "cell_type": "code",
   "execution_count": 81,
   "metadata": {
    "collapsed": false
   },
   "outputs": [
    {
     "name": "stdout",
     "output_type": "stream",
     "text": [
      "app.py                         beta_QA.csv                    question_difficulty_sep14.csv  \u001b[34mtemplates\u001b[m\u001b[m/\r\n"
     ]
    }
   ],
   "source": [
    "ls"
   ]
  },
  {
   "cell_type": "code",
   "execution_count": 73,
   "metadata": {
    "collapsed": false
   },
   "outputs": [
    {
     "data": {
      "text/html": [
       "<div>\n",
       "<table border=\"1\" class=\"dataframe\">\n",
       "  <thead>\n",
       "    <tr style=\"text-align: right;\">\n",
       "      <th></th>\n",
       "      <th>problem</th>\n",
       "      <th>avg</th>\n",
       "      <th>difficulty</th>\n",
       "      <th>QA</th>\n",
       "    </tr>\n",
       "  </thead>\n",
       "  <tbody>\n",
       "    <tr>\n",
       "      <th>1</th>\n",
       "      <td>axisOfSymmetryVertex</td>\n",
       "      <td>0.226395</td>\n",
       "      <td>3.868027</td>\n",
       "      <td>[[Find the vertex of the equation y=4x^2+-5x+-...</td>\n",
       "    </tr>\n",
       "    <tr>\n",
       "      <th>3</th>\n",
       "      <td>dividingPowers</td>\n",
       "      <td>0.442764</td>\n",
       "      <td>2.786178</td>\n",
       "      <td>[[Simplify the expression x^-5/x^0., 1/x^5], [...</td>\n",
       "    </tr>\n",
       "    <tr>\n",
       "      <th>6</th>\n",
       "      <td>slopeFromPoints</td>\n",
       "      <td>0.441452</td>\n",
       "      <td>2.792741</td>\n",
       "      <td>[[Find the slope between (-5, -3) and (0, -5)....</td>\n",
       "    </tr>\n",
       "  </tbody>\n",
       "</table>\n",
       "</div>"
      ],
      "text/plain": [
       "                problem       avg  difficulty  \\\n",
       "1  axisOfSymmetryVertex  0.226395    3.868027   \n",
       "3        dividingPowers  0.442764    2.786178   \n",
       "6       slopeFromPoints  0.441452    2.792741   \n",
       "\n",
       "                                                  QA  \n",
       "1  [[Find the vertex of the equation y=4x^2+-5x+-...  \n",
       "3  [[Simplify the expression x^-5/x^0., 1/x^5], [...  \n",
       "6  [[Find the slope between (-5, -3) and (0, -5)....  "
      ]
     },
     "execution_count": 73,
     "metadata": {},
     "output_type": "execute_result"
    }
   ],
   "source": [
    "betaqfinal"
   ]
  },
  {
   "cell_type": "code",
   "execution_count": 82,
   "metadata": {
    "collapsed": false
   },
   "outputs": [],
   "source": [
    "questions = pd.read_csv(\"beta_QA.csv\")\n",
    "questions.columns=['index','problem','avg','difficulty','QA']"
   ]
  },
  {
   "cell_type": "code",
   "execution_count": 83,
   "metadata": {
    "collapsed": false
   },
   "outputs": [
    {
     "data": {
      "text/html": [
       "<div>\n",
       "<table border=\"1\" class=\"dataframe\">\n",
       "  <thead>\n",
       "    <tr style=\"text-align: right;\">\n",
       "      <th></th>\n",
       "      <th>index</th>\n",
       "      <th>problem</th>\n",
       "      <th>avg</th>\n",
       "      <th>difficulty</th>\n",
       "      <th>QA</th>\n",
       "    </tr>\n",
       "  </thead>\n",
       "  <tbody>\n",
       "    <tr>\n",
       "      <th>0</th>\n",
       "      <td>1</td>\n",
       "      <td>axisOfSymmetryVertex</td>\n",
       "      <td>0.226395</td>\n",
       "      <td>3.868027</td>\n",
       "      <td>[['Find the vertex of the equation y=4x^2+-5x+...</td>\n",
       "    </tr>\n",
       "    <tr>\n",
       "      <th>1</th>\n",
       "      <td>3</td>\n",
       "      <td>dividingPowers</td>\n",
       "      <td>0.442764</td>\n",
       "      <td>2.786178</td>\n",
       "      <td>[['Simplify the expression x^-5/x^0.', '1/x^5'...</td>\n",
       "    </tr>\n",
       "    <tr>\n",
       "      <th>2</th>\n",
       "      <td>6</td>\n",
       "      <td>slopeFromPoints</td>\n",
       "      <td>0.441452</td>\n",
       "      <td>2.792741</td>\n",
       "      <td>[['Find the slope between (-5, -3) and (0, -5)...</td>\n",
       "    </tr>\n",
       "  </tbody>\n",
       "</table>\n",
       "</div>"
      ],
      "text/plain": [
       "   index               problem       avg  difficulty  \\\n",
       "0      1  axisOfSymmetryVertex  0.226395    3.868027   \n",
       "1      3        dividingPowers  0.442764    2.786178   \n",
       "2      6       slopeFromPoints  0.441452    2.792741   \n",
       "\n",
       "                                                  QA  \n",
       "0  [['Find the vertex of the equation y=4x^2+-5x+...  \n",
       "1  [['Simplify the expression x^-5/x^0.', '1/x^5'...  \n",
       "2  [['Find the slope between (-5, -3) and (0, -5)...  "
      ]
     },
     "execution_count": 83,
     "metadata": {},
     "output_type": "execute_result"
    }
   ],
   "source": [
    "questions.head()"
   ]
  },
  {
   "cell_type": "code",
   "execution_count": 92,
   "metadata": {
    "collapsed": false
   },
   "outputs": [
    {
     "data": {
      "text/plain": [
       "0    [['Find the vertex of the equation y=4x^2+-5x+...\n",
       "1    [['Simplify the expression x^-5/x^0.', '1/x^5'...\n",
       "2    [['Find the slope between (-5, -3) and (0, -5)...\n",
       "Name: QA, dtype: object"
      ]
     },
     "execution_count": 92,
     "metadata": {},
     "output_type": "execute_result"
    }
   ],
   "source": [
    "questions.QA.astype(list)"
   ]
  },
  {
   "cell_type": "code",
   "execution_count": 95,
   "metadata": {
    "collapsed": false
   },
   "outputs": [
    {
     "ename": "AttributeError",
     "evalue": "'str' object has no attribute 'astype'",
     "output_type": "error",
     "traceback": [
      "\u001b[0;31m---------------------------------------------------------------------------\u001b[0m",
      "\u001b[0;31mAttributeError\u001b[0m                            Traceback (most recent call last)",
      "\u001b[0;32m<ipython-input-95-bc05eed0382e>\u001b[0m in \u001b[0;36m<module>\u001b[0;34m()\u001b[0m\n\u001b[0;32m----> 1\u001b[0;31m \u001b[0mquestions\u001b[0m\u001b[0;34m.\u001b[0m\u001b[0mix\u001b[0m\u001b[0;34m[\u001b[0m\u001b[0;36m0\u001b[0m\u001b[0;34m]\u001b[0m\u001b[0;34m.\u001b[0m\u001b[0mQA\u001b[0m\u001b[0;34m.\u001b[0m\u001b[0mastype\u001b[0m\u001b[0;34m(\u001b[0m\u001b[0mlist\u001b[0m\u001b[0;34m)\u001b[0m\u001b[0;34m\u001b[0m\u001b[0m\n\u001b[0m",
      "\u001b[0;31mAttributeError\u001b[0m: 'str' object has no attribute 'astype'"
     ]
    }
   ],
   "source": [
    "questions.ix[0].QA.astype"
   ]
  },
  {
   "cell_type": "code",
   "execution_count": 99,
   "metadata": {
    "collapsed": false
   },
   "outputs": [],
   "source": [
    "qas1d = tuple(qas1)"
   ]
  },
  {
   "cell_type": "code",
   "execution_count": 101,
   "metadata": {
    "collapsed": false
   },
   "outputs": [
    {
     "data": {
      "text/plain": [
       "tuple"
      ]
     },
     "execution_count": 101,
     "metadata": {},
     "output_type": "execute_result"
    }
   ],
   "source": [
    "type(qas1t)"
   ]
  },
  {
   "cell_type": "code",
   "execution_count": 102,
   "metadata": {
    "collapsed": false
   },
   "outputs": [
    {
     "data": {
      "text/plain": [
       "50"
      ]
     },
     "execution_count": 102,
     "metadata": {},
     "output_type": "execute_result"
    }
   ],
   "source": [
    "len(qas1t)"
   ]
  },
  {
   "cell_type": "code",
   "execution_count": 105,
   "metadata": {
    "collapsed": false
   },
   "outputs": [],
   "source": [
    "questions.ix[0].QA = qas1t"
   ]
  },
  {
   "cell_type": "code",
   "execution_count": 117,
   "metadata": {
    "collapsed": false
   },
   "outputs": [],
   "source": [
    "questions['A','B']=[['A','B'],['A','B'],['A','B']]"
   ]
  },
  {
   "cell_type": "code",
   "execution_count": 120,
   "metadata": {
    "collapsed": false
   },
   "outputs": [
    {
     "data": {
      "text/html": [
       "<div>\n",
       "<table border=\"1\" class=\"dataframe\">\n",
       "  <thead>\n",
       "    <tr style=\"text-align: right;\">\n",
       "      <th></th>\n",
       "      <th>index</th>\n",
       "      <th>problem</th>\n",
       "      <th>avg</th>\n",
       "      <th>difficulty</th>\n",
       "      <th>QA</th>\n",
       "      <th>(A, B)</th>\n",
       "    </tr>\n",
       "  </thead>\n",
       "  <tbody>\n",
       "    <tr>\n",
       "      <th>0</th>\n",
       "      <td>1</td>\n",
       "      <td>axisOfSymmetryVertex</td>\n",
       "      <td>0.226395</td>\n",
       "      <td>3.868027</td>\n",
       "      <td>[['Find the vertex of the equation y=4x^2+-5x+...</td>\n",
       "      <td>[A, B]</td>\n",
       "    </tr>\n",
       "    <tr>\n",
       "      <th>1</th>\n",
       "      <td>3</td>\n",
       "      <td>dividingPowers</td>\n",
       "      <td>0.442764</td>\n",
       "      <td>2.786178</td>\n",
       "      <td>[['Simplify the expression x^-5/x^0.', '1/x^5'...</td>\n",
       "      <td>[A, B]</td>\n",
       "    </tr>\n",
       "    <tr>\n",
       "      <th>2</th>\n",
       "      <td>6</td>\n",
       "      <td>slopeFromPoints</td>\n",
       "      <td>0.441452</td>\n",
       "      <td>2.792741</td>\n",
       "      <td>[['Find the slope between (-5, -3) and (0, -5)...</td>\n",
       "      <td>[A, B]</td>\n",
       "    </tr>\n",
       "  </tbody>\n",
       "</table>\n",
       "</div>"
      ],
      "text/plain": [
       "   index               problem       avg  difficulty  \\\n",
       "0      1  axisOfSymmetryVertex  0.226395    3.868027   \n",
       "1      3        dividingPowers  0.442764    2.786178   \n",
       "2      6       slopeFromPoints  0.441452    2.792741   \n",
       "\n",
       "                                                  QA  (A, B)  \n",
       "0  [['Find the vertex of the equation y=4x^2+-5x+...  [A, B]  \n",
       "1  [['Simplify the expression x^-5/x^0.', '1/x^5'...  [A, B]  \n",
       "2  [['Find the slope between (-5, -3) and (0, -5)...  [A, B]  "
      ]
     },
     "execution_count": 120,
     "metadata": {},
     "output_type": "execute_result"
    }
   ],
   "source": [
    "questions"
   ]
  },
  {
   "cell_type": "code",
   "execution_count": 109,
   "metadata": {
    "collapsed": false
   },
   "outputs": [],
   "source": [
    "new_cols = ['Question%s' %i for i in range(50)]"
   ]
  },
  {
   "cell_type": "code",
   "execution_count": 127,
   "metadata": {
    "collapsed": false
   },
   "outputs": [
    {
     "data": {
      "text/plain": [
       "u'/Users/matthewmitchell/Desktop/Delta_Math_Data/my_app/edUcateBeta'"
      ]
     },
     "execution_count": 127,
     "metadata": {},
     "output_type": "execute_result"
    }
   ],
   "source": [
    "pwd"
   ]
  },
  {
   "cell_type": "code",
   "execution_count": 128,
   "metadata": {
    "collapsed": false
   },
   "outputs": [
    {
     "name": "stdout",
     "output_type": "stream",
     "text": [
      "app.py                         beta_QA.csv                    question_difficulty_sep14.csv  \u001b[34mtemplates\u001b[m\u001b[m/\r\n"
     ]
    }
   ],
   "source": [
    "ls"
   ]
  },
  {
   "cell_type": "code",
   "execution_count": 129,
   "metadata": {
    "collapsed": true
   },
   "outputs": [],
   "source": [
    "betaqfinal.to_json('beta_QA.json')"
   ]
  },
  {
   "cell_type": "code",
   "execution_count": 156,
   "metadata": {
    "collapsed": true
   },
   "outputs": [],
   "source": [
    "beta_QA_json = pd.read_json('beta_QA.json')"
   ]
  },
  {
   "cell_type": "code",
   "execution_count": 157,
   "metadata": {
    "collapsed": false
   },
   "outputs": [
    {
     "data": {
      "text/html": [
       "<div>\n",
       "<table border=\"1\" class=\"dataframe\">\n",
       "  <thead>\n",
       "    <tr style=\"text-align: right;\">\n",
       "      <th></th>\n",
       "      <th>QA</th>\n",
       "      <th>avg</th>\n",
       "      <th>difficulty</th>\n",
       "      <th>problem</th>\n",
       "    </tr>\n",
       "  </thead>\n",
       "  <tbody>\n",
       "    <tr>\n",
       "      <th>0</th>\n",
       "      <td>[[Find the vertex of the equation y=4x^2+-5x+-...</td>\n",
       "      <td>0.226395</td>\n",
       "      <td>3.868027</td>\n",
       "      <td>axisOfSymmetryVertex</td>\n",
       "    </tr>\n",
       "    <tr>\n",
       "      <th>1</th>\n",
       "      <td>[[Simplify the expression x^-5/x^0., 1/x^5], [...</td>\n",
       "      <td>0.442764</td>\n",
       "      <td>2.786178</td>\n",
       "      <td>dividingPowers</td>\n",
       "    </tr>\n",
       "    <tr>\n",
       "      <th>2</th>\n",
       "      <td>[[Find the slope between (-5, -3) and (0, -5)....</td>\n",
       "      <td>0.441452</td>\n",
       "      <td>2.792741</td>\n",
       "      <td>slopeFromPoints</td>\n",
       "    </tr>\n",
       "  </tbody>\n",
       "</table>\n",
       "</div>"
      ],
      "text/plain": [
       "                                                  QA       avg  difficulty  \\\n",
       "0  [[Find the vertex of the equation y=4x^2+-5x+-...  0.226395    3.868027   \n",
       "1  [[Simplify the expression x^-5/x^0., 1/x^5], [...  0.442764    2.786178   \n",
       "2  [[Find the slope between (-5, -3) and (0, -5)....  0.441452    2.792741   \n",
       "\n",
       "                problem  \n",
       "0  axisOfSymmetryVertex  \n",
       "1        dividingPowers  \n",
       "2       slopeFromPoints  "
      ]
     },
     "execution_count": 157,
     "metadata": {},
     "output_type": "execute_result"
    }
   ],
   "source": [
    "beta_QA_json"
   ]
  },
  {
   "cell_type": "code",
   "execution_count": 143,
   "metadata": {
    "collapsed": false
   },
   "outputs": [
    {
     "data": {
      "text/plain": [
       "50"
      ]
     },
     "execution_count": 143,
     "metadata": {},
     "output_type": "execute_result"
    }
   ],
   "source": [
    "len(beta_QA_json.ix[1].QA)"
   ]
  },
  {
   "cell_type": "code",
   "execution_count": 142,
   "metadata": {
    "collapsed": false
   },
   "outputs": [
    {
     "data": {
      "text/plain": [
       "23"
      ]
     },
     "execution_count": 142,
     "metadata": {},
     "output_type": "execute_result"
    }
   ],
   "source": [
    "np.random.choice(len(beta_QA_json.ix[1].QA))"
   ]
  },
  {
   "cell_type": "code",
   "execution_count": 151,
   "metadata": {
    "collapsed": true
   },
   "outputs": [],
   "source": [
    "beta_QA_json = beta_QA_json.reset_index()"
   ]
  },
  {
   "cell_type": "code",
   "execution_count": 153,
   "metadata": {
    "collapsed": false
   },
   "outputs": [],
   "source": [
    "beta_QA_json = beta_QA_json.drop('index', axis=1)"
   ]
  },
  {
   "cell_type": "code",
   "execution_count": 160,
   "metadata": {
    "collapsed": false
   },
   "outputs": [
    {
     "data": {
      "text/plain": [
       "[u'Simplify the expression x^0/x^-3.', u'x^3']"
      ]
     },
     "execution_count": 160,
     "metadata": {},
     "output_type": "execute_result"
    }
   ],
   "source": [
    "beta_QA_json.ix[1].QA[25]"
   ]
  },
  {
   "cell_type": "code",
   "execution_count": 203,
   "metadata": {
    "collapsed": false
   },
   "outputs": [],
   "source": [
    "beta_QA.to_json('beta_QA.json')"
   ]
  },
  {
   "cell_type": "code",
   "execution_count": 180,
   "metadata": {
    "collapsed": true
   },
   "outputs": [],
   "source": [
    "beta_QA = pd.read_json('beta_QA.json')"
   ]
  },
  {
   "cell_type": "code",
   "execution_count": 201,
   "metadata": {
    "collapsed": false
   },
   "outputs": [],
   "source": [
    "beta_QA['modD']=[3,1,2]"
   ]
  },
  {
   "cell_type": "code",
   "execution_count": 202,
   "metadata": {
    "collapsed": false
   },
   "outputs": [
    {
     "data": {
      "text/html": [
       "<div>\n",
       "<table border=\"1\" class=\"dataframe\">\n",
       "  <thead>\n",
       "    <tr style=\"text-align: right;\">\n",
       "      <th></th>\n",
       "      <th>QA</th>\n",
       "      <th>avg</th>\n",
       "      <th>difficulty</th>\n",
       "      <th>modD</th>\n",
       "      <th>problem</th>\n",
       "    </tr>\n",
       "  </thead>\n",
       "  <tbody>\n",
       "    <tr>\n",
       "      <th>0</th>\n",
       "      <td>[[Find the vertex of the equation y=4x^2+-5x+-...</td>\n",
       "      <td>0.226395</td>\n",
       "      <td>3.868027</td>\n",
       "      <td>3</td>\n",
       "      <td>axisOfSymmetryVertex</td>\n",
       "    </tr>\n",
       "    <tr>\n",
       "      <th>1</th>\n",
       "      <td>[[Simplify the expression x^-5/x^0., 1/x^5], [...</td>\n",
       "      <td>0.442764</td>\n",
       "      <td>2.786178</td>\n",
       "      <td>1</td>\n",
       "      <td>dividingPowers</td>\n",
       "    </tr>\n",
       "    <tr>\n",
       "      <th>2</th>\n",
       "      <td>[[Find the slope between (-5, -3) and (0, -5)....</td>\n",
       "      <td>0.441452</td>\n",
       "      <td>2.792741</td>\n",
       "      <td>2</td>\n",
       "      <td>slopeFromPoints</td>\n",
       "    </tr>\n",
       "  </tbody>\n",
       "</table>\n",
       "</div>"
      ],
      "text/plain": [
       "                                                  QA       avg  difficulty  \\\n",
       "0  [[Find the vertex of the equation y=4x^2+-5x+-...  0.226395    3.868027   \n",
       "1  [[Simplify the expression x^-5/x^0., 1/x^5], [...  0.442764    2.786178   \n",
       "2  [[Find the slope between (-5, -3) and (0, -5)....  0.441452    2.792741   \n",
       "\n",
       "   modD               problem  \n",
       "0     3  axisOfSymmetryVertex  \n",
       "1     1        dividingPowers  \n",
       "2     2       slopeFromPoints  "
      ]
     },
     "execution_count": 202,
     "metadata": {},
     "output_type": "execute_result"
    }
   ],
   "source": [
    "beta_QA"
   ]
  },
  {
   "cell_type": "code",
   "execution_count": 200,
   "metadata": {
    "collapsed": false
   },
   "outputs": [
    {
     "data": {
      "text/html": [
       "<div>\n",
       "<table border=\"1\" class=\"dataframe\">\n",
       "  <thead>\n",
       "    <tr style=\"text-align: right;\">\n",
       "      <th></th>\n",
       "      <th>QA</th>\n",
       "      <th>avg</th>\n",
       "      <th>difficulty</th>\n",
       "      <th>modD</th>\n",
       "      <th>problem</th>\n",
       "    </tr>\n",
       "  </thead>\n",
       "  <tbody>\n",
       "    <tr>\n",
       "      <th>0</th>\n",
       "      <td>[[Find the vertex of the equation y=4x^2+-5x+-...</td>\n",
       "      <td>0.226395</td>\n",
       "      <td>3.868027</td>\n",
       "      <td>1</td>\n",
       "      <td>axisOfSymmetryVertex</td>\n",
       "    </tr>\n",
       "    <tr>\n",
       "      <th>1</th>\n",
       "      <td>[[Simplify the expression x^-5/x^0., 1/x^5], [...</td>\n",
       "      <td>0.442764</td>\n",
       "      <td>2.786178</td>\n",
       "      <td>2</td>\n",
       "      <td>dividingPowers</td>\n",
       "    </tr>\n",
       "    <tr>\n",
       "      <th>2</th>\n",
       "      <td>[[Find the slope between (-5, -3) and (0, -5)....</td>\n",
       "      <td>0.441452</td>\n",
       "      <td>2.792741</td>\n",
       "      <td>3</td>\n",
       "      <td>slopeFromPoints</td>\n",
       "    </tr>\n",
       "  </tbody>\n",
       "</table>\n",
       "</div>"
      ],
      "text/plain": [
       "                                                  QA       avg  difficulty  \\\n",
       "0  [[Find the vertex of the equation y=4x^2+-5x+-...  0.226395    3.868027   \n",
       "1  [[Simplify the expression x^-5/x^0., 1/x^5], [...  0.442764    2.786178   \n",
       "2  [[Find the slope between (-5, -3) and (0, -5)....  0.441452    2.792741   \n",
       "\n",
       "   modD               problem  \n",
       "0     1  axisOfSymmetryVertex  \n",
       "1     2        dividingPowers  \n",
       "2     3       slopeFromPoints  "
      ]
     },
     "execution_count": 200,
     "metadata": {},
     "output_type": "execute_result"
    }
   ],
   "source": [
    "beta_QA"
   ]
  },
  {
   "cell_type": "code",
   "execution_count": 197,
   "metadata": {
    "collapsed": false
   },
   "outputs": [
    {
     "data": {
      "text/plain": [
       "[u'Simplify the expression x^2/x^2.', u'1']"
      ]
     },
     "execution_count": 197,
     "metadata": {},
     "output_type": "execute_result"
    }
   ],
   "source": [
    "list(beta_QA[beta_QA.modD==2].QA)[0][10]"
   ]
  },
  {
   "cell_type": "code",
   "execution_count": 204,
   "metadata": {
    "collapsed": false
   },
   "outputs": [
    {
     "data": {
      "text/html": [
       "<div>\n",
       "<table border=\"1\" class=\"dataframe\">\n",
       "  <thead>\n",
       "    <tr style=\"text-align: right;\">\n",
       "      <th></th>\n",
       "      <th>QA</th>\n",
       "      <th>avg</th>\n",
       "      <th>difficulty</th>\n",
       "      <th>modD</th>\n",
       "      <th>problem</th>\n",
       "    </tr>\n",
       "  </thead>\n",
       "  <tbody>\n",
       "    <tr>\n",
       "      <th>0</th>\n",
       "      <td>[[Find the vertex of the equation y=4x^2+-5x+-...</td>\n",
       "      <td>0.226395</td>\n",
       "      <td>3.868027</td>\n",
       "      <td>3</td>\n",
       "      <td>axisOfSymmetryVertex</td>\n",
       "    </tr>\n",
       "    <tr>\n",
       "      <th>1</th>\n",
       "      <td>[[Simplify the expression x^-5/x^0., 1/x^5], [...</td>\n",
       "      <td>0.442764</td>\n",
       "      <td>2.786178</td>\n",
       "      <td>1</td>\n",
       "      <td>dividingPowers</td>\n",
       "    </tr>\n",
       "    <tr>\n",
       "      <th>2</th>\n",
       "      <td>[[Find the slope between (-5, -3) and (0, -5)....</td>\n",
       "      <td>0.441452</td>\n",
       "      <td>2.792741</td>\n",
       "      <td>2</td>\n",
       "      <td>slopeFromPoints</td>\n",
       "    </tr>\n",
       "  </tbody>\n",
       "</table>\n",
       "</div>"
      ],
      "text/plain": [
       "                                                  QA       avg  difficulty  \\\n",
       "0  [[Find the vertex of the equation y=4x^2+-5x+-...  0.226395    3.868027   \n",
       "1  [[Simplify the expression x^-5/x^0., 1/x^5], [...  0.442764    2.786178   \n",
       "2  [[Find the slope between (-5, -3) and (0, -5)....  0.441452    2.792741   \n",
       "\n",
       "   modD               problem  \n",
       "0     3  axisOfSymmetryVertex  \n",
       "1     1        dividingPowers  \n",
       "2     2       slopeFromPoints  "
      ]
     },
     "execution_count": 204,
     "metadata": {},
     "output_type": "execute_result"
    }
   ],
   "source": [
    "beta_QA"
   ]
  },
  {
   "cell_type": "code",
   "execution_count": 205,
   "metadata": {
    "collapsed": true
   },
   "outputs": [],
   "source": [
    "beta_QA_L2 = beta_QA"
   ]
  },
  {
   "cell_type": "code",
   "execution_count": 207,
   "metadata": {
    "collapsed": false
   },
   "outputs": [],
   "source": [
    "beta_QAL12 = pd.concat([beta_QA, beta_QA_L2])"
   ]
  },
  {
   "cell_type": "code",
   "execution_count": 209,
   "metadata": {
    "collapsed": false
   },
   "outputs": [],
   "source": [
    "beta_QAL12 = beta_QAL12.reset_index()"
   ]
  },
  {
   "cell_type": "code",
   "execution_count": 211,
   "metadata": {
    "collapsed": false
   },
   "outputs": [],
   "source": [
    "beta_QAL12 = beta_QAL12.drop('index', axis=1)"
   ]
  },
  {
   "cell_type": "code",
   "execution_count": 213,
   "metadata": {
    "collapsed": false
   },
   "outputs": [],
   "source": [
    "beta_QAL12.modD=[6,2,4,5,1,3]"
   ]
  },
  {
   "cell_type": "code",
   "execution_count": 214,
   "metadata": {
    "collapsed": false
   },
   "outputs": [
    {
     "data": {
      "text/html": [
       "<div>\n",
       "<table border=\"1\" class=\"dataframe\">\n",
       "  <thead>\n",
       "    <tr style=\"text-align: right;\">\n",
       "      <th></th>\n",
       "      <th>QA</th>\n",
       "      <th>avg</th>\n",
       "      <th>difficulty</th>\n",
       "      <th>modD</th>\n",
       "      <th>problem</th>\n",
       "    </tr>\n",
       "  </thead>\n",
       "  <tbody>\n",
       "    <tr>\n",
       "      <th>0</th>\n",
       "      <td>[[Find the vertex of the equation y=4x^2+-5x+-...</td>\n",
       "      <td>0.226395</td>\n",
       "      <td>3.868027</td>\n",
       "      <td>6</td>\n",
       "      <td>axisOfSymmetryVertex</td>\n",
       "    </tr>\n",
       "    <tr>\n",
       "      <th>1</th>\n",
       "      <td>[[Simplify the expression x^-5/x^0., 1/x^5], [...</td>\n",
       "      <td>0.442764</td>\n",
       "      <td>2.786178</td>\n",
       "      <td>2</td>\n",
       "      <td>dividingPowers</td>\n",
       "    </tr>\n",
       "    <tr>\n",
       "      <th>2</th>\n",
       "      <td>[[Find the slope between (-5, -3) and (0, -5)....</td>\n",
       "      <td>0.441452</td>\n",
       "      <td>2.792741</td>\n",
       "      <td>4</td>\n",
       "      <td>slopeFromPoints</td>\n",
       "    </tr>\n",
       "    <tr>\n",
       "      <th>3</th>\n",
       "      <td>[[Find the vertex of the equation y=4x^2+-5x+-...</td>\n",
       "      <td>0.226395</td>\n",
       "      <td>3.868027</td>\n",
       "      <td>5</td>\n",
       "      <td>axisOfSymmetryVertex</td>\n",
       "    </tr>\n",
       "    <tr>\n",
       "      <th>4</th>\n",
       "      <td>[[Simplify the expression x^-5/x^0., 1/x^5], [...</td>\n",
       "      <td>0.442764</td>\n",
       "      <td>2.786178</td>\n",
       "      <td>1</td>\n",
       "      <td>dividingPowers</td>\n",
       "    </tr>\n",
       "    <tr>\n",
       "      <th>5</th>\n",
       "      <td>[[Find the slope between (-5, -3) and (0, -5)....</td>\n",
       "      <td>0.441452</td>\n",
       "      <td>2.792741</td>\n",
       "      <td>3</td>\n",
       "      <td>slopeFromPoints</td>\n",
       "    </tr>\n",
       "  </tbody>\n",
       "</table>\n",
       "</div>"
      ],
      "text/plain": [
       "                                                  QA       avg  difficulty  \\\n",
       "0  [[Find the vertex of the equation y=4x^2+-5x+-...  0.226395    3.868027   \n",
       "1  [[Simplify the expression x^-5/x^0., 1/x^5], [...  0.442764    2.786178   \n",
       "2  [[Find the slope between (-5, -3) and (0, -5)....  0.441452    2.792741   \n",
       "3  [[Find the vertex of the equation y=4x^2+-5x+-...  0.226395    3.868027   \n",
       "4  [[Simplify the expression x^-5/x^0., 1/x^5], [...  0.442764    2.786178   \n",
       "5  [[Find the slope between (-5, -3) and (0, -5)....  0.441452    2.792741   \n",
       "\n",
       "   modD               problem  \n",
       "0     6  axisOfSymmetryVertex  \n",
       "1     2        dividingPowers  \n",
       "2     4       slopeFromPoints  \n",
       "3     5  axisOfSymmetryVertex  \n",
       "4     1        dividingPowers  \n",
       "5     3       slopeFromPoints  "
      ]
     },
     "execution_count": 214,
     "metadata": {},
     "output_type": "execute_result"
    }
   ],
   "source": [
    "beta_QAL12"
   ]
  },
  {
   "cell_type": "code",
   "execution_count": 215,
   "metadata": {
    "collapsed": true
   },
   "outputs": [],
   "source": [
    "def Qdividingpowers1():\n",
    "    a = np.random.randint(1,5)\n",
    "    b = np.random.randint(1,5)\n",
    "    q = 'x^(%s)\\over x^(%s) .' %(a,b)\n",
    "    if a==b:\n",
    "        ans = '1'\n",
    "    elif a>b:\n",
    "        ans = 'x^%s' %(a-b)\n",
    "    elif a<b:\n",
    "        ans = '1/x^%s' %(b-a)\n",
    "    return [q, ans]"
   ]
  },
  {
   "cell_type": "code",
   "execution_count": 216,
   "metadata": {
    "collapsed": true
   },
   "outputs": [],
   "source": [
    "def Qdividingpowers2():\n",
    "    a = np.random.randint(-2,9)\n",
    "    b = np.random.randint(-3,9)\n",
    "    q = 'x^(%s)\\over x^(%s) .' %(a,b)\n",
    "    if a==b:\n",
    "        ans = '1'\n",
    "    elif a>b:\n",
    "        ans = 'x^%s' %(a-b)\n",
    "    elif a<b:\n",
    "        ans = '1/x^%s' %(b-a)\n",
    "    return [q, ans]"
   ]
  },
  {
   "cell_type": "code",
   "execution_count": 217,
   "metadata": {
    "collapsed": true
   },
   "outputs": [],
   "source": [
    "def Qslopefrompoints3():\n",
    "    x1 = np.random.randint(-10,10)\n",
    "    x2 = np.random.randint(-10,10)\n",
    "    y1 = np.random.randint(-10,10)\n",
    "    y2 = np.random.randint(-10,10)\n",
    "    q = '(%s, %s) and (%s, %s).' %(x1,y1,x2,y2)\n",
    "    a ='%s/%s'%((y2-y1),(x2-x1))\n",
    "    return [q,a]"
   ]
  },
  {
   "cell_type": "code",
   "execution_count": 218,
   "metadata": {
    "collapsed": true
   },
   "outputs": [],
   "source": [
    "def Qslopefrompoints4():\n",
    "    x1 = np.random.randint(-10,10)\n",
    "    x2 = np.random.randint(-10,10)\n",
    "    y1 = np.random.randint(-10,10)\n",
    "    y2 = np.random.randint(-10,10)\n",
    "    q = '(%s, %s) and (%s, %s).' %(x1,y1,x2,y2)\n",
    "    a ='%s/%s'%((y2-y1),(x2-x1))\n",
    "    return [q,a]"
   ]
  },
  {
   "cell_type": "code",
   "execution_count": 219,
   "metadata": {
    "collapsed": true
   },
   "outputs": [],
   "source": [
    "def vertexfromeq5():\n",
    "    b = np.random.randint(1,5)\n",
    "    c = np.random.randint(1,5)\n",
    "    q = 'y=x^2+%sx+%s' %(b,c)\n",
    "    x = -b/(2.0)\n",
    "    y = (x**2)+b*x+c\n",
    "    ans = '(%s,%s)'%(x,y)\n",
    "    return [q,ans]"
   ]
  },
  {
   "cell_type": "code",
   "execution_count": 220,
   "metadata": {
    "collapsed": true
   },
   "outputs": [],
   "source": [
    "def vertexfromeq6():\n",
    "    a = np.random.randint(-1,5)\n",
    "    b = np.random.randint(-5,5)\n",
    "    c = np.random.randint(-5,5)\n",
    "    q = 'y=%sx^2+%sx+%s' %(a,b,c)\n",
    "    x = -b/(2.0*a)\n",
    "    y = a*(x**2)+b*x+c\n",
    "    ans = '(%s,%s)'%(x,y)\n",
    "    return [q,ans]"
   ]
  },
  {
   "cell_type": "code",
   "execution_count": 221,
   "metadata": {
    "collapsed": false
   },
   "outputs": [
    {
     "ename": "TypeError",
     "evalue": "not enough arguments for format string",
     "output_type": "error",
     "traceback": [
      "\u001b[0;31m---------------------------------------------------------------------------\u001b[0m",
      "\u001b[0;31mTypeError\u001b[0m                                 Traceback (most recent call last)",
      "\u001b[0;32m<ipython-input-221-f3370824b09c>\u001b[0m in \u001b[0;36m<module>\u001b[0;34m()\u001b[0m\n\u001b[1;32m      3\u001b[0m \u001b[0mqas3\u001b[0m \u001b[0;34m=\u001b[0m \u001b[0;34m[\u001b[0m\u001b[0mQslopefrompoints3\u001b[0m\u001b[0;34m(\u001b[0m\u001b[0;34m)\u001b[0m \u001b[0;32mfor\u001b[0m \u001b[0mi\u001b[0m \u001b[0;32min\u001b[0m \u001b[0mrange\u001b[0m\u001b[0;34m(\u001b[0m\u001b[0;36m50\u001b[0m\u001b[0;34m)\u001b[0m\u001b[0;34m]\u001b[0m\u001b[0;34m\u001b[0m\u001b[0m\n\u001b[1;32m      4\u001b[0m \u001b[0mqas4\u001b[0m \u001b[0;34m=\u001b[0m \u001b[0;34m[\u001b[0m\u001b[0mQslopefrompoints4\u001b[0m\u001b[0;34m(\u001b[0m\u001b[0;34m)\u001b[0m \u001b[0;32mfor\u001b[0m \u001b[0mi\u001b[0m \u001b[0;32min\u001b[0m \u001b[0mrange\u001b[0m\u001b[0;34m(\u001b[0m\u001b[0;36m50\u001b[0m\u001b[0;34m)\u001b[0m\u001b[0;34m]\u001b[0m\u001b[0;34m\u001b[0m\u001b[0m\n\u001b[0;32m----> 5\u001b[0;31m \u001b[0mqas5\u001b[0m \u001b[0;34m=\u001b[0m \u001b[0;34m[\u001b[0m\u001b[0mvertexfromeq5\u001b[0m\u001b[0;34m(\u001b[0m\u001b[0;34m)\u001b[0m \u001b[0;32mfor\u001b[0m \u001b[0mi\u001b[0m \u001b[0;32min\u001b[0m \u001b[0mrange\u001b[0m\u001b[0;34m(\u001b[0m\u001b[0;36m50\u001b[0m\u001b[0;34m)\u001b[0m\u001b[0;34m]\u001b[0m\u001b[0;34m\u001b[0m\u001b[0m\n\u001b[0m\u001b[1;32m      6\u001b[0m \u001b[0mqas6\u001b[0m \u001b[0;34m=\u001b[0m \u001b[0;34m[\u001b[0m\u001b[0mvertexfromeq6\u001b[0m\u001b[0;34m(\u001b[0m\u001b[0;34m)\u001b[0m \u001b[0;32mfor\u001b[0m \u001b[0mi\u001b[0m \u001b[0;32min\u001b[0m \u001b[0mrange\u001b[0m\u001b[0;34m(\u001b[0m\u001b[0;36m50\u001b[0m\u001b[0;34m)\u001b[0m\u001b[0;34m]\u001b[0m\u001b[0;34m\u001b[0m\u001b[0m\n\u001b[1;32m      7\u001b[0m \u001b[0mqas_all\u001b[0m \u001b[0;34m=\u001b[0m \u001b[0;34m[\u001b[0m\u001b[0mqas1\u001b[0m\u001b[0;34m,\u001b[0m \u001b[0mqas2\u001b[0m\u001b[0;34m,\u001b[0m\u001b[0mqas3\u001b[0m\u001b[0;34m,\u001b[0m\u001b[0mqas4\u001b[0m\u001b[0;34m,\u001b[0m\u001b[0mqas5\u001b[0m\u001b[0;34m,\u001b[0m\u001b[0mqas6\u001b[0m\u001b[0;34m]\u001b[0m\u001b[0;34m\u001b[0m\u001b[0m\n",
      "\u001b[0;32m<ipython-input-219-0a9629a897d8>\u001b[0m in \u001b[0;36mvertexfromeq5\u001b[0;34m()\u001b[0m\n\u001b[1;32m      2\u001b[0m     \u001b[0mb\u001b[0m \u001b[0;34m=\u001b[0m \u001b[0mnp\u001b[0m\u001b[0;34m.\u001b[0m\u001b[0mrandom\u001b[0m\u001b[0;34m.\u001b[0m\u001b[0mrandint\u001b[0m\u001b[0;34m(\u001b[0m\u001b[0;36m1\u001b[0m\u001b[0;34m,\u001b[0m\u001b[0;36m5\u001b[0m\u001b[0;34m)\u001b[0m\u001b[0;34m\u001b[0m\u001b[0m\n\u001b[1;32m      3\u001b[0m     \u001b[0mc\u001b[0m \u001b[0;34m=\u001b[0m \u001b[0mnp\u001b[0m\u001b[0;34m.\u001b[0m\u001b[0mrandom\u001b[0m\u001b[0;34m.\u001b[0m\u001b[0mrandint\u001b[0m\u001b[0;34m(\u001b[0m\u001b[0;36m1\u001b[0m\u001b[0;34m,\u001b[0m\u001b[0;36m5\u001b[0m\u001b[0;34m)\u001b[0m\u001b[0;34m\u001b[0m\u001b[0m\n\u001b[0;32m----> 4\u001b[0;31m     \u001b[0mq\u001b[0m \u001b[0;34m=\u001b[0m \u001b[0;34m'y=%sx^2+%sx+%s'\u001b[0m \u001b[0;34m%\u001b[0m\u001b[0;34m(\u001b[0m\u001b[0mb\u001b[0m\u001b[0;34m,\u001b[0m\u001b[0mc\u001b[0m\u001b[0;34m)\u001b[0m\u001b[0;34m\u001b[0m\u001b[0m\n\u001b[0m\u001b[1;32m      5\u001b[0m     \u001b[0mx\u001b[0m \u001b[0;34m=\u001b[0m \u001b[0;34m-\u001b[0m\u001b[0mb\u001b[0m\u001b[0;34m/\u001b[0m\u001b[0;34m(\u001b[0m\u001b[0;36m2.0\u001b[0m\u001b[0;34m)\u001b[0m\u001b[0;34m\u001b[0m\u001b[0m\n\u001b[1;32m      6\u001b[0m     \u001b[0my\u001b[0m \u001b[0;34m=\u001b[0m \u001b[0;34m(\u001b[0m\u001b[0mx\u001b[0m\u001b[0;34m**\u001b[0m\u001b[0;36m2\u001b[0m\u001b[0;34m)\u001b[0m\u001b[0;34m+\u001b[0m\u001b[0mb\u001b[0m\u001b[0;34m*\u001b[0m\u001b[0mx\u001b[0m\u001b[0;34m+\u001b[0m\u001b[0mc\u001b[0m\u001b[0;34m\u001b[0m\u001b[0m\n",
      "\u001b[0;31mTypeError\u001b[0m: not enough arguments for format string"
     ]
    }
   ],
   "source": [
    "qas1 = [Qdividingpowers1() for i in range(50)]\n",
    "qas2 = [Qdividingpowers2() for i in range(50)]\n",
    "qas3 = [Qslopefrompoints3() for i in range(50)]\n",
    "qas4 = [Qslopefrompoints4() for i in range(50)]\n",
    "qas5 = [vertexfromeq5() for i in range(50)]\n",
    "qas6 = [vertexfromeq6() for i in range(50)]\n",
    "qas_all = [qas1, qas2,qas3,qas4,qas5,qas6]\n",
    "beta_QAL12['QA']=qas_all"
   ]
  },
  {
   "cell_type": "code",
   "execution_count": null,
   "metadata": {
    "collapsed": true
   },
   "outputs": [],
   "source": []
  }
 ],
 "metadata": {
  "kernelspec": {
   "display_name": "Python 2",
   "language": "python",
   "name": "python2"
  },
  "language_info": {
   "codemirror_mode": {
    "name": "ipython",
    "version": 2
   },
   "file_extension": ".py",
   "mimetype": "text/x-python",
   "name": "python",
   "nbconvert_exporter": "python",
   "pygments_lexer": "ipython2",
   "version": "2.7.12"
  }
 },
 "nbformat": 4,
 "nbformat_minor": 0
}
