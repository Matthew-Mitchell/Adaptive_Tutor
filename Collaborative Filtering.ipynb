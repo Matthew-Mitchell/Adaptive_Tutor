{
 "cells": [
  {
   "cell_type": "code",
   "execution_count": 2,
   "metadata": {
    "collapsed": true
   },
   "outputs": [],
   "source": [
    "import pandas as pd\n",
    "import pickle"
   ]
  },
  {
   "cell_type": "code",
   "execution_count": 3,
   "metadata": {},
   "outputs": [],
   "source": [
    "with open('algebra_students_10plus_problem_types.pkl', 'r') as picklefile:\n",
    "   algebra_students_10plus_problem_types = pickle.load(picklefile)"
   ]
  },
  {
   "cell_type": "code",
   "execution_count": 7,
   "metadata": {},
   "outputs": [
    {
     "name": "stdout",
     "output_type": "stream",
     "text": [
      "<class 'pandas.core.frame.DataFrame'>\n",
      "Index: 142 entries, _ajacoby_idPropertyLvl1 to xGameMasterProduct\n",
      "Columns: 6808 entries, 9842 to 184758\n",
      "dtypes: float64(6808)\n",
      "memory usage: 7.4+ MB\n"
     ]
    }
   ],
   "source": [
    "algebra_students_10plus_problem_types.info()"
   ]
  },
  {
   "cell_type": "code",
   "execution_count": 6,
   "metadata": {},
   "outputs": [
    {
     "data": {
      "text/html": [
       "<div>\n",
       "<table border=\"1\" class=\"dataframe\">\n",
       "  <thead>\n",
       "    <tr style=\"text-align: right;\">\n",
       "      <th>Student_ID</th>\n",
       "      <th>9842</th>\n",
       "      <th>23552</th>\n",
       "      <th>23689</th>\n",
       "      <th>24037</th>\n",
       "      <th>24051</th>\n",
       "      <th>24155</th>\n",
       "      <th>24164</th>\n",
       "      <th>24286</th>\n",
       "      <th>24289</th>\n",
       "      <th>25301</th>\n",
       "      <th>...</th>\n",
       "      <th>179383</th>\n",
       "      <th>179442</th>\n",
       "      <th>179447</th>\n",
       "      <th>179766</th>\n",
       "      <th>180184</th>\n",
       "      <th>180188</th>\n",
       "      <th>180270</th>\n",
       "      <th>182719</th>\n",
       "      <th>182722</th>\n",
       "      <th>184758</th>\n",
       "    </tr>\n",
       "    <tr>\n",
       "      <th>Problem_Type</th>\n",
       "      <th></th>\n",
       "      <th></th>\n",
       "      <th></th>\n",
       "      <th></th>\n",
       "      <th></th>\n",
       "      <th></th>\n",
       "      <th></th>\n",
       "      <th></th>\n",
       "      <th></th>\n",
       "      <th></th>\n",
       "      <th></th>\n",
       "      <th></th>\n",
       "      <th></th>\n",
       "      <th></th>\n",
       "      <th></th>\n",
       "      <th></th>\n",
       "      <th></th>\n",
       "      <th></th>\n",
       "      <th></th>\n",
       "      <th></th>\n",
       "      <th></th>\n",
       "    </tr>\n",
       "  </thead>\n",
       "  <tbody>\n",
       "    <tr>\n",
       "      <th>_ajacoby_idPropertyLvl1</th>\n",
       "      <td>NaN</td>\n",
       "      <td>NaN</td>\n",
       "      <td>NaN</td>\n",
       "      <td>1</td>\n",
       "      <td>NaN</td>\n",
       "      <td>NaN</td>\n",
       "      <td>NaN</td>\n",
       "      <td>0.500000</td>\n",
       "      <td>NaN</td>\n",
       "      <td>NaN</td>\n",
       "      <td>...</td>\n",
       "      <td>0.333333</td>\n",
       "      <td>0.5</td>\n",
       "      <td>NaN</td>\n",
       "      <td>NaN</td>\n",
       "      <td>NaN</td>\n",
       "      <td>NaN</td>\n",
       "      <td>NaN</td>\n",
       "      <td>NaN</td>\n",
       "      <td>NaN</td>\n",
       "      <td>NaN</td>\n",
       "    </tr>\n",
       "    <tr>\n",
       "      <th>_ajacoby_idPropertyLvl2</th>\n",
       "      <td>NaN</td>\n",
       "      <td>NaN</td>\n",
       "      <td>NaN</td>\n",
       "      <td>1</td>\n",
       "      <td>NaN</td>\n",
       "      <td>NaN</td>\n",
       "      <td>NaN</td>\n",
       "      <td>0.448276</td>\n",
       "      <td>NaN</td>\n",
       "      <td>NaN</td>\n",
       "      <td>...</td>\n",
       "      <td>0.363636</td>\n",
       "      <td>0.5</td>\n",
       "      <td>NaN</td>\n",
       "      <td>NaN</td>\n",
       "      <td>NaN</td>\n",
       "      <td>NaN</td>\n",
       "      <td>NaN</td>\n",
       "      <td>NaN</td>\n",
       "      <td>NaN</td>\n",
       "      <td>NaN</td>\n",
       "    </tr>\n",
       "    <tr>\n",
       "      <th>_bmueller_ptWordProblems</th>\n",
       "      <td>NaN</td>\n",
       "      <td>NaN</td>\n",
       "      <td>NaN</td>\n",
       "      <td>NaN</td>\n",
       "      <td>NaN</td>\n",
       "      <td>-1.000000</td>\n",
       "      <td>NaN</td>\n",
       "      <td>NaN</td>\n",
       "      <td>0.5</td>\n",
       "      <td>NaN</td>\n",
       "      <td>...</td>\n",
       "      <td>NaN</td>\n",
       "      <td>NaN</td>\n",
       "      <td>NaN</td>\n",
       "      <td>NaN</td>\n",
       "      <td>NaN</td>\n",
       "      <td>NaN</td>\n",
       "      <td>NaN</td>\n",
       "      <td>NaN</td>\n",
       "      <td>NaN</td>\n",
       "      <td>NaN</td>\n",
       "    </tr>\n",
       "    <tr>\n",
       "      <th>_bmueller_quadFactoredToStandard</th>\n",
       "      <td>-1</td>\n",
       "      <td>0</td>\n",
       "      <td>NaN</td>\n",
       "      <td>NaN</td>\n",
       "      <td>NaN</td>\n",
       "      <td>0.421053</td>\n",
       "      <td>0.363636</td>\n",
       "      <td>0.000000</td>\n",
       "      <td>NaN</td>\n",
       "      <td>NaN</td>\n",
       "      <td>...</td>\n",
       "      <td>NaN</td>\n",
       "      <td>NaN</td>\n",
       "      <td>NaN</td>\n",
       "      <td>NaN</td>\n",
       "      <td>NaN</td>\n",
       "      <td>NaN</td>\n",
       "      <td>NaN</td>\n",
       "      <td>NaN</td>\n",
       "      <td>NaN</td>\n",
       "      <td>0</td>\n",
       "    </tr>\n",
       "    <tr>\n",
       "      <th>_bmueller_quadInterceptCoefficients</th>\n",
       "      <td>NaN</td>\n",
       "      <td>NaN</td>\n",
       "      <td>NaN</td>\n",
       "      <td>NaN</td>\n",
       "      <td>NaN</td>\n",
       "      <td>0.300000</td>\n",
       "      <td>0.428571</td>\n",
       "      <td>NaN</td>\n",
       "      <td>NaN</td>\n",
       "      <td>NaN</td>\n",
       "      <td>...</td>\n",
       "      <td>NaN</td>\n",
       "      <td>NaN</td>\n",
       "      <td>NaN</td>\n",
       "      <td>NaN</td>\n",
       "      <td>NaN</td>\n",
       "      <td>NaN</td>\n",
       "      <td>NaN</td>\n",
       "      <td>NaN</td>\n",
       "      <td>NaN</td>\n",
       "      <td>NaN</td>\n",
       "    </tr>\n",
       "  </tbody>\n",
       "</table>\n",
       "<p>5 rows × 6808 columns</p>\n",
       "</div>"
      ],
      "text/plain": [
       "Student_ID                           9842    23552   23689   24037   24051   \\\n",
       "Problem_Type                                                                  \n",
       "_ajacoby_idPropertyLvl1                 NaN     NaN     NaN       1     NaN   \n",
       "_ajacoby_idPropertyLvl2                 NaN     NaN     NaN       1     NaN   \n",
       "_bmueller_ptWordProblems                NaN     NaN     NaN     NaN     NaN   \n",
       "_bmueller_quadFactoredToStandard         -1       0     NaN     NaN     NaN   \n",
       "_bmueller_quadInterceptCoefficients     NaN     NaN     NaN     NaN     NaN   \n",
       "\n",
       "Student_ID                             24155     24164     24286   24289   \\\n",
       "Problem_Type                                                                \n",
       "_ajacoby_idPropertyLvl1                   NaN       NaN  0.500000     NaN   \n",
       "_ajacoby_idPropertyLvl2                   NaN       NaN  0.448276     NaN   \n",
       "_bmueller_ptWordProblems            -1.000000       NaN       NaN     0.5   \n",
       "_bmueller_quadFactoredToStandard     0.421053  0.363636  0.000000     NaN   \n",
       "_bmueller_quadInterceptCoefficients  0.300000  0.428571       NaN     NaN   \n",
       "\n",
       "Student_ID                           25301    ...      179383  179442  179447  \\\n",
       "Problem_Type                                  ...                               \n",
       "_ajacoby_idPropertyLvl1                 NaN   ...    0.333333     0.5     NaN   \n",
       "_ajacoby_idPropertyLvl2                 NaN   ...    0.363636     0.5     NaN   \n",
       "_bmueller_ptWordProblems                NaN   ...         NaN     NaN     NaN   \n",
       "_bmueller_quadFactoredToStandard        NaN   ...         NaN     NaN     NaN   \n",
       "_bmueller_quadInterceptCoefficients     NaN   ...         NaN     NaN     NaN   \n",
       "\n",
       "Student_ID                           179766  180184  180188  180270  182719  \\\n",
       "Problem_Type                                                                  \n",
       "_ajacoby_idPropertyLvl1                 NaN     NaN     NaN     NaN     NaN   \n",
       "_ajacoby_idPropertyLvl2                 NaN     NaN     NaN     NaN     NaN   \n",
       "_bmueller_ptWordProblems                NaN     NaN     NaN     NaN     NaN   \n",
       "_bmueller_quadFactoredToStandard        NaN     NaN     NaN     NaN     NaN   \n",
       "_bmueller_quadInterceptCoefficients     NaN     NaN     NaN     NaN     NaN   \n",
       "\n",
       "Student_ID                           182722  184758  \n",
       "Problem_Type                                         \n",
       "_ajacoby_idPropertyLvl1                 NaN     NaN  \n",
       "_ajacoby_idPropertyLvl2                 NaN     NaN  \n",
       "_bmueller_ptWordProblems                NaN     NaN  \n",
       "_bmueller_quadFactoredToStandard        NaN       0  \n",
       "_bmueller_quadInterceptCoefficients     NaN     NaN  \n",
       "\n",
       "[5 rows x 6808 columns]"
      ]
     },
     "execution_count": 6,
     "metadata": {},
     "output_type": "execute_result"
    }
   ],
   "source": [
    "algebra_students_10plus_problem_types.head()"
   ]
  },
  {
   "cell_type": "code",
   "execution_count": 8,
   "metadata": {
    "collapsed": true
   },
   "outputs": [],
   "source": [
    "from scipy.spatial.distance import euclidean"
   ]
  },
  {
   "cell_type": "code",
   "execution_count": 12,
   "metadata": {},
   "outputs": [],
   "source": [
    "test_subset = algebra_students_10plus_problem_types[algebra_students_10plus_problem_types.columns[:50]]"
   ]
  },
  {
   "cell_type": "code",
   "execution_count": 1,
   "metadata": {},
   "outputs": [],
   "source": [
    "# for index, student in enumerate(test_subset.columns):\n",
    "#     print index, student"
   ]
  },
  {
   "cell_type": "code",
   "execution_count": 17,
   "metadata": {},
   "outputs": [
    {
     "data": {
      "text/plain": [
       "3.7416573867739413"
      ]
     },
     "execution_count": 17,
     "metadata": {},
     "output_type": "execute_result"
    }
   ],
   "source": [
    "u=[1,2,3]\n",
    "v=[2,4,6]\n",
    "euclidean(u,v)"
   ]
  },
  {
   "cell_type": "code",
   "execution_count": 31,
   "metadata": {
    "collapsed": true
   },
   "outputs": [],
   "source": [
    "studentA = 42503\n",
    "studentB = 42487"
   ]
  },
  {
   "cell_type": "code",
   "execution_count": 32,
   "metadata": {
    "collapsed": true
   },
   "outputs": [],
   "source": [
    "u = test_subset[studentA]\n",
    "v = test_subset[studentB]"
   ]
  },
  {
   "cell_type": "code",
   "execution_count": 33,
   "metadata": {},
   "outputs": [],
   "source": [
    "uv = pd.DataFrame([u,v])\n",
    "uv = uv.dropna(axis=1)"
   ]
  },
  {
   "cell_type": "code",
   "execution_count": 34,
   "metadata": {},
   "outputs": [
    {
     "data": {
      "text/html": [
       "<div>\n",
       "<table border=\"1\" class=\"dataframe\">\n",
       "  <thead>\n",
       "    <tr style=\"text-align: right;\">\n",
       "      <th>Problem_Type</th>\n",
       "      <th>_ajacoby_idPropertyLvl1</th>\n",
       "      <th>_ajacoby_idPropertyLvl2</th>\n",
       "      <th>_jhall_AbsValFunc2</th>\n",
       "      <th>_jhall_SquRootFun2</th>\n",
       "      <th>_jhall_SquRootFunc</th>\n",
       "      <th>combineLikeTerms</th>\n",
       "      <th>literalOneStepLevel1</th>\n",
       "      <th>multiplyBinomials</th>\n",
       "      <th>multiplyPolynomialsLevel1</th>\n",
       "      <th>multiplyPolynomialsLevel2</th>\n",
       "      <th>multiplyPolynomialsLevel3</th>\n",
       "    </tr>\n",
       "  </thead>\n",
       "  <tbody>\n",
       "    <tr>\n",
       "      <th>42503</th>\n",
       "      <td>1</td>\n",
       "      <td>0.500000</td>\n",
       "      <td>0.750000</td>\n",
       "      <td>0.863636</td>\n",
       "      <td>0.826087</td>\n",
       "      <td>0.666667</td>\n",
       "      <td>0.571429</td>\n",
       "      <td>1</td>\n",
       "      <td>0.500000</td>\n",
       "      <td>1</td>\n",
       "      <td>1.0</td>\n",
       "    </tr>\n",
       "    <tr>\n",
       "      <th>42487</th>\n",
       "      <td>1</td>\n",
       "      <td>0.833333</td>\n",
       "      <td>0.818182</td>\n",
       "      <td>0.909091</td>\n",
       "      <td>0.909091</td>\n",
       "      <td>0.714286</td>\n",
       "      <td>0.714286</td>\n",
       "      <td>1</td>\n",
       "      <td>0.833333</td>\n",
       "      <td>1</td>\n",
       "      <td>0.5</td>\n",
       "    </tr>\n",
       "  </tbody>\n",
       "</table>\n",
       "</div>"
      ],
      "text/plain": [
       "Problem_Type  _ajacoby_idPropertyLvl1  _ajacoby_idPropertyLvl2  \\\n",
       "42503                               1                 0.500000   \n",
       "42487                               1                 0.833333   \n",
       "\n",
       "Problem_Type  _jhall_AbsValFunc2  _jhall_SquRootFun2  _jhall_SquRootFunc  \\\n",
       "42503                   0.750000            0.863636            0.826087   \n",
       "42487                   0.818182            0.909091            0.909091   \n",
       "\n",
       "Problem_Type  combineLikeTerms  literalOneStepLevel1  multiplyBinomials  \\\n",
       "42503                 0.666667              0.571429                  1   \n",
       "42487                 0.714286              0.714286                  1   \n",
       "\n",
       "Problem_Type  multiplyPolynomialsLevel1  multiplyPolynomialsLevel2  \\\n",
       "42503                          0.500000                          1   \n",
       "42487                          0.833333                          1   \n",
       "\n",
       "Problem_Type  multiplyPolynomialsLevel3  \n",
       "42503                               1.0  \n",
       "42487                               0.5  "
      ]
     },
     "execution_count": 34,
     "metadata": {},
     "output_type": "execute_result"
    }
   ],
   "source": [
    "uv"
   ]
  },
  {
   "cell_type": "code",
   "execution_count": 35,
   "metadata": {},
   "outputs": [
    {
     "data": {
      "text/plain": [
       "Problem_Type\n",
       "_ajacoby_idPropertyLvl1      1.000000\n",
       "_ajacoby_idPropertyLvl2      0.500000\n",
       "_jhall_AbsValFunc2           0.750000\n",
       "_jhall_SquRootFun2           0.863636\n",
       "_jhall_SquRootFunc           0.826087\n",
       "combineLikeTerms             0.666667\n",
       "literalOneStepLevel1         0.571429\n",
       "multiplyBinomials            1.000000\n",
       "multiplyPolynomialsLevel1    0.500000\n",
       "multiplyPolynomialsLevel2    1.000000\n",
       "multiplyPolynomialsLevel3    1.000000\n",
       "Name: 42503, dtype: float64"
      ]
     },
     "execution_count": 35,
     "metadata": {},
     "output_type": "execute_result"
    }
   ],
   "source": [
    "uv.ix[studentA]"
   ]
  },
  {
   "cell_type": "code",
   "execution_count": 36,
   "metadata": {},
   "outputs": [
    {
     "data": {
      "text/plain": [
       "0.713093606309043"
      ]
     },
     "execution_count": 36,
     "metadata": {},
     "output_type": "execute_result"
    }
   ],
   "source": [
    "euclidean(uv.ix[studentA],uv.ix[studentB])"
   ]
  },
  {
   "cell_type": "code",
   "execution_count": 37,
   "metadata": {},
   "outputs": [
    {
     "data": {
      "text/plain": [
       "11"
      ]
     },
     "execution_count": 37,
     "metadata": {},
     "output_type": "execute_result"
    }
   ],
   "source": [
    "len(uv.columns)"
   ]
  },
  {
   "cell_type": "code",
   "execution_count": 2,
   "metadata": {},
   "outputs": [],
   "source": [
    "#Test of first 50 users\n",
    "euc_dict = {}\n",
    "for index, studentA in enumerate(test_subset.columns):\n",
    "    studentA_data = test_subset[studentA]\n",
    "    studentA_dict = {}\n",
    "    for studentB in test_subset.columns[index:]:\n",
    "        if studentA==studentB:\n",
    "            studentA_dict[studentB] = 0\n",
    "            continue\n",
    "        studentB_data = test_subset[studentB]\n",
    "        AB = pd.DataFrame([studentA_data , studentB_data])\n",
    "        AB = AB.dropna(axis=1)\n",
    "        num_matches = len(AB.columns)\n",
    "        print num_matches\n",
    "        if num_matches == 0:\n",
    "            studentA_dict[studentB] = 100\n",
    "        elif num_matches >= 5:\n",
    "            distance = euclidean(AB.ix[studentA] , AB.ix[studentB])\n",
    "        else:\n",
    "            distance = euclidean(AB.ix[studentA] , AB.ix[studentB])*(5.0/num_matches)\n",
    "        studentA_dict[studentB] = distance\n",
    "    euc_dict[studentA] = studentA_dict\n",
    "        \n",
    "        "
   ]
  },
  {
   "cell_type": "code",
   "execution_count": 49,
   "metadata": {},
   "outputs": [
    {
     "data": {
      "text/html": [
       "<div>\n",
       "<table border=\"1\" class=\"dataframe\">\n",
       "  <thead>\n",
       "    <tr style=\"text-align: right;\">\n",
       "      <th></th>\n",
       "      <th>9842</th>\n",
       "      <th>23552</th>\n",
       "      <th>23689</th>\n",
       "      <th>24037</th>\n",
       "      <th>24051</th>\n",
       "      <th>24155</th>\n",
       "      <th>24164</th>\n",
       "      <th>24286</th>\n",
       "      <th>24289</th>\n",
       "      <th>25301</th>\n",
       "      <th>...</th>\n",
       "      <th>40757</th>\n",
       "      <th>40940</th>\n",
       "      <th>41058</th>\n",
       "      <th>41199</th>\n",
       "      <th>41275</th>\n",
       "      <th>41429</th>\n",
       "      <th>42473</th>\n",
       "      <th>42486</th>\n",
       "      <th>42487</th>\n",
       "      <th>42503</th>\n",
       "    </tr>\n",
       "  </thead>\n",
       "  <tbody>\n",
       "    <tr>\n",
       "      <th>9842</th>\n",
       "      <td>0.000000</td>\n",
       "      <td>NaN</td>\n",
       "      <td>NaN</td>\n",
       "      <td>NaN</td>\n",
       "      <td>NaN</td>\n",
       "      <td>NaN</td>\n",
       "      <td>NaN</td>\n",
       "      <td>NaN</td>\n",
       "      <td>NaN</td>\n",
       "      <td>NaN</td>\n",
       "      <td>...</td>\n",
       "      <td>NaN</td>\n",
       "      <td>NaN</td>\n",
       "      <td>NaN</td>\n",
       "      <td>NaN</td>\n",
       "      <td>NaN</td>\n",
       "      <td>NaN</td>\n",
       "      <td>NaN</td>\n",
       "      <td>NaN</td>\n",
       "      <td>NaN</td>\n",
       "      <td>NaN</td>\n",
       "    </tr>\n",
       "    <tr>\n",
       "      <th>23552</th>\n",
       "      <td>2.945609</td>\n",
       "      <td>0.000000</td>\n",
       "      <td>NaN</td>\n",
       "      <td>NaN</td>\n",
       "      <td>NaN</td>\n",
       "      <td>NaN</td>\n",
       "      <td>NaN</td>\n",
       "      <td>NaN</td>\n",
       "      <td>NaN</td>\n",
       "      <td>NaN</td>\n",
       "      <td>...</td>\n",
       "      <td>NaN</td>\n",
       "      <td>NaN</td>\n",
       "      <td>NaN</td>\n",
       "      <td>NaN</td>\n",
       "      <td>NaN</td>\n",
       "      <td>NaN</td>\n",
       "      <td>NaN</td>\n",
       "      <td>NaN</td>\n",
       "      <td>NaN</td>\n",
       "      <td>NaN</td>\n",
       "    </tr>\n",
       "    <tr>\n",
       "      <th>23689</th>\n",
       "      <td>2.626263</td>\n",
       "      <td>3.141894</td>\n",
       "      <td>0.000000</td>\n",
       "      <td>NaN</td>\n",
       "      <td>NaN</td>\n",
       "      <td>NaN</td>\n",
       "      <td>NaN</td>\n",
       "      <td>NaN</td>\n",
       "      <td>NaN</td>\n",
       "      <td>NaN</td>\n",
       "      <td>...</td>\n",
       "      <td>NaN</td>\n",
       "      <td>NaN</td>\n",
       "      <td>NaN</td>\n",
       "      <td>NaN</td>\n",
       "      <td>NaN</td>\n",
       "      <td>NaN</td>\n",
       "      <td>NaN</td>\n",
       "      <td>NaN</td>\n",
       "      <td>NaN</td>\n",
       "      <td>NaN</td>\n",
       "    </tr>\n",
       "    <tr>\n",
       "      <th>24037</th>\n",
       "      <td>3.760729</td>\n",
       "      <td>3.062718</td>\n",
       "      <td>5.543389</td>\n",
       "      <td>0.000000</td>\n",
       "      <td>NaN</td>\n",
       "      <td>NaN</td>\n",
       "      <td>NaN</td>\n",
       "      <td>NaN</td>\n",
       "      <td>NaN</td>\n",
       "      <td>NaN</td>\n",
       "      <td>...</td>\n",
       "      <td>NaN</td>\n",
       "      <td>NaN</td>\n",
       "      <td>NaN</td>\n",
       "      <td>NaN</td>\n",
       "      <td>NaN</td>\n",
       "      <td>NaN</td>\n",
       "      <td>NaN</td>\n",
       "      <td>NaN</td>\n",
       "      <td>NaN</td>\n",
       "      <td>NaN</td>\n",
       "    </tr>\n",
       "    <tr>\n",
       "      <th>24051</th>\n",
       "      <td>3.326989</td>\n",
       "      <td>3.025823</td>\n",
       "      <td>8.750000</td>\n",
       "      <td>1.315354</td>\n",
       "      <td>0</td>\n",
       "      <td>NaN</td>\n",
       "      <td>NaN</td>\n",
       "      <td>NaN</td>\n",
       "      <td>NaN</td>\n",
       "      <td>NaN</td>\n",
       "      <td>...</td>\n",
       "      <td>NaN</td>\n",
       "      <td>NaN</td>\n",
       "      <td>NaN</td>\n",
       "      <td>NaN</td>\n",
       "      <td>NaN</td>\n",
       "      <td>NaN</td>\n",
       "      <td>NaN</td>\n",
       "      <td>NaN</td>\n",
       "      <td>NaN</td>\n",
       "      <td>NaN</td>\n",
       "    </tr>\n",
       "  </tbody>\n",
       "</table>\n",
       "<p>5 rows × 50 columns</p>\n",
       "</div>"
      ],
      "text/plain": [
       "          9842      23552     23689     24037  24051  24155  24164  24286  \\\n",
       "9842   0.000000       NaN       NaN       NaN    NaN    NaN    NaN    NaN   \n",
       "23552  2.945609  0.000000       NaN       NaN    NaN    NaN    NaN    NaN   \n",
       "23689  2.626263  3.141894  0.000000       NaN    NaN    NaN    NaN    NaN   \n",
       "24037  3.760729  3.062718  5.543389  0.000000    NaN    NaN    NaN    NaN   \n",
       "24051  3.326989  3.025823  8.750000  1.315354      0    NaN    NaN    NaN   \n",
       "\n",
       "       24289  25301  ...    40757  40940  41058  41199  41275  41429  42473  \\\n",
       "9842     NaN    NaN  ...      NaN    NaN    NaN    NaN    NaN    NaN    NaN   \n",
       "23552    NaN    NaN  ...      NaN    NaN    NaN    NaN    NaN    NaN    NaN   \n",
       "23689    NaN    NaN  ...      NaN    NaN    NaN    NaN    NaN    NaN    NaN   \n",
       "24037    NaN    NaN  ...      NaN    NaN    NaN    NaN    NaN    NaN    NaN   \n",
       "24051    NaN    NaN  ...      NaN    NaN    NaN    NaN    NaN    NaN    NaN   \n",
       "\n",
       "       42486  42487  42503  \n",
       "9842     NaN    NaN    NaN  \n",
       "23552    NaN    NaN    NaN  \n",
       "23689    NaN    NaN    NaN  \n",
       "24037    NaN    NaN    NaN  \n",
       "24051    NaN    NaN    NaN  \n",
       "\n",
       "[5 rows x 50 columns]"
      ]
     },
     "execution_count": 49,
     "metadata": {},
     "output_type": "execute_result"
    }
   ],
   "source": [
    "test_euc_matrix = pd.DataFrame.from_dict(euc_dict)\n",
    "test_euc_matrix.head()"
   ]
  },
  {
   "cell_type": "code",
   "execution_count": 59,
   "metadata": {
    "collapsed": true
   },
   "outputs": [],
   "source": [
    "#Test of first 50 users\n",
    "def euc_matrix():\n",
    "    euc_dict = {}\n",
    "    for index, studentA in enumerate(test_subset.columns):\n",
    "        studentA_data = test_subset[studentA]\n",
    "        studentA_dict = {}\n",
    "        for studentB in test_subset.columns[index:]:\n",
    "            if studentA==studentB:\n",
    "                studentA_dict[studentB] = 0\n",
    "                continue\n",
    "            studentB_data = test_subset[studentB]\n",
    "            AB = pd.DataFrame([studentA_data , studentB_data])\n",
    "            AB = AB.dropna(axis=1)\n",
    "            num_matches = len(AB.columns)\n",
    "            if num_matches == 0:\n",
    "                studentA_dict[studentB] = 100\n",
    "            elif num_matches >= 5:\n",
    "                distance = euclidean(AB.ix[studentA] , AB.ix[studentB])\n",
    "            else:\n",
    "                distance = euclidean(AB.ix[studentA] , AB.ix[studentB])*(5.0/num_matches)\n",
    "            studentA_dict[studentB] = distance\n",
    "        euc_dict[studentA] = studentA_dict\n",
    "    return euc_dict\n",
    "        "
   ]
  },
  {
   "cell_type": "code",
   "execution_count": 63,
   "metadata": {},
   "outputs": [
    {
     "name": "stdout",
     "output_type": "stream",
     "text": [
      "1 loops, best of 3: 5.57 s per loop\n"
     ]
    }
   ],
   "source": [
    "%timeit euc_matrix()"
   ]
  },
  {
   "cell_type": "code",
   "execution_count": 62,
   "metadata": {},
   "outputs": [
    {
     "data": {
      "text/plain": [
       "50"
      ]
     },
     "execution_count": 62,
     "metadata": {},
     "output_type": "execute_result"
    }
   ],
   "source": [
    "len(euc_dict)"
   ]
  },
  {
   "cell_type": "code",
   "execution_count": 68,
   "metadata": {},
   "outputs": [
    {
     "data": {
      "text/plain": [
       "0.004456"
      ]
     },
     "execution_count": 68,
     "metadata": {},
     "output_type": "execute_result"
    }
   ],
   "source": [
    "(5.57/((50*50)/2.0))"
   ]
  },
  {
   "cell_type": "code",
   "execution_count": 72,
   "metadata": {},
   "outputs": [
    {
     "data": {
      "text/plain": [
       "28.68479694222222"
      ]
     },
     "execution_count": 72,
     "metadata": {},
     "output_type": "execute_result"
    }
   ],
   "source": [
    "((6808**2)/2.0)*((5.57/((50*50)/2.0)))/3600.0"
   ]
  },
  {
   "cell_type": "code",
   "execution_count": 73,
   "metadata": {
    "collapsed": true
   },
   "outputs": [],
   "source": [
    "#Test of first 50 users\n",
    "def euc_matrix(df):\n",
    "    euc_dict = {}\n",
    "    for index, studentA in enumerate(df.columns):\n",
    "        studentA_data = df[studentA]\n",
    "        studentA_dict = {}\n",
    "        for studentB in df.columns[index:]:\n",
    "            if studentA==studentB:\n",
    "                studentA_dict[studentB] = 0\n",
    "                continue\n",
    "            studentB_data = df[studentB]\n",
    "            AB = pd.DataFrame([studentA_data , studentB_data])\n",
    "            AB = AB.dropna(axis=1)\n",
    "            num_matches = len(AB.columns)\n",
    "            if num_matches == 0:\n",
    "                studentA_dict[studentB] = 100\n",
    "            elif num_matches >= 5:\n",
    "                distance = euclidean(AB.ix[studentA] , AB.ix[studentB])\n",
    "            else:\n",
    "                distance = euclidean(AB.ix[studentA] , AB.ix[studentB])*(5.0/num_matches)\n",
    "            studentA_dict[studentB] = distance\n",
    "        euc_dict[studentA] = studentA_dict\n",
    "    return euc_dict\n",
    "        "
   ]
  },
  {
   "cell_type": "code",
   "execution_count": 74,
   "metadata": {},
   "outputs": [
    {
     "name": "stdout",
     "output_type": "stream",
     "text": [
      "1 loops, best of 3: 6.08 s per loop\n"
     ]
    }
   ],
   "source": [
    "%timeit euc_matrix(test_subset)"
   ]
  },
  {
   "cell_type": "code",
   "execution_count": 75,
   "metadata": {},
   "outputs": [
    {
     "data": {
      "text/plain": [
       "70.71067811865476"
      ]
     },
     "execution_count": 75,
     "metadata": {},
     "output_type": "execute_result"
    }
   ],
   "source": [
    "5000**0.5"
   ]
  },
  {
   "cell_type": "code",
   "execution_count": 76,
   "metadata": {},
   "outputs": [
    {
     "data": {
      "text/plain": [
       "4900"
      ]
     },
     "execution_count": 76,
     "metadata": {},
     "output_type": "execute_result"
    }
   ],
   "source": [
    "70**2"
   ]
  },
  {
   "cell_type": "code",
   "execution_count": 77,
   "metadata": {
    "collapsed": true
   },
   "outputs": [],
   "source": [
    "test_subset2 = algebra_students_10plus_problem_types[algebra_students_10plus_problem_types.columns[:70]]"
   ]
  },
  {
   "cell_type": "code",
   "execution_count": 78,
   "metadata": {},
   "outputs": [
    {
     "name": "stdout",
     "output_type": "stream",
     "text": [
      "1 loops, best of 3: 12 s per loop\n"
     ]
    }
   ],
   "source": [
    "%timeit euc_matrix(test_subset2)"
   ]
  },
  {
   "cell_type": "code",
   "execution_count": 83,
   "metadata": {},
   "outputs": [
    {
     "data": {
      "text/html": [
       "<div>\n",
       "<table border=\"1\" class=\"dataframe\">\n",
       "  <thead>\n",
       "    <tr style=\"text-align: right;\">\n",
       "      <th>Student_ID</th>\n",
       "      <th>9842</th>\n",
       "      <th>23552</th>\n",
       "      <th>23689</th>\n",
       "      <th>24037</th>\n",
       "      <th>24051</th>\n",
       "      <th>24155</th>\n",
       "      <th>24164</th>\n",
       "      <th>24286</th>\n",
       "      <th>24289</th>\n",
       "      <th>25301</th>\n",
       "      <th>...</th>\n",
       "      <th>179383</th>\n",
       "      <th>179442</th>\n",
       "      <th>179447</th>\n",
       "      <th>179766</th>\n",
       "      <th>180184</th>\n",
       "      <th>180188</th>\n",
       "      <th>180270</th>\n",
       "      <th>182719</th>\n",
       "      <th>182722</th>\n",
       "      <th>184758</th>\n",
       "    </tr>\n",
       "    <tr>\n",
       "      <th>Problem_Type</th>\n",
       "      <th></th>\n",
       "      <th></th>\n",
       "      <th></th>\n",
       "      <th></th>\n",
       "      <th></th>\n",
       "      <th></th>\n",
       "      <th></th>\n",
       "      <th></th>\n",
       "      <th></th>\n",
       "      <th></th>\n",
       "      <th></th>\n",
       "      <th></th>\n",
       "      <th></th>\n",
       "      <th></th>\n",
       "      <th></th>\n",
       "      <th></th>\n",
       "      <th></th>\n",
       "      <th></th>\n",
       "      <th></th>\n",
       "      <th></th>\n",
       "      <th></th>\n",
       "    </tr>\n",
       "  </thead>\n",
       "  <tbody>\n",
       "    <tr>\n",
       "      <th>_ajacoby_idPropertyLvl1</th>\n",
       "      <td>NaN</td>\n",
       "      <td>NaN</td>\n",
       "      <td>NaN</td>\n",
       "      <td>1</td>\n",
       "      <td>NaN</td>\n",
       "      <td>NaN</td>\n",
       "      <td>NaN</td>\n",
       "      <td>0.500000</td>\n",
       "      <td>NaN</td>\n",
       "      <td>NaN</td>\n",
       "      <td>...</td>\n",
       "      <td>0.333333</td>\n",
       "      <td>0.5</td>\n",
       "      <td>NaN</td>\n",
       "      <td>NaN</td>\n",
       "      <td>NaN</td>\n",
       "      <td>NaN</td>\n",
       "      <td>NaN</td>\n",
       "      <td>NaN</td>\n",
       "      <td>NaN</td>\n",
       "      <td>NaN</td>\n",
       "    </tr>\n",
       "    <tr>\n",
       "      <th>_ajacoby_idPropertyLvl2</th>\n",
       "      <td>NaN</td>\n",
       "      <td>NaN</td>\n",
       "      <td>NaN</td>\n",
       "      <td>1</td>\n",
       "      <td>NaN</td>\n",
       "      <td>NaN</td>\n",
       "      <td>NaN</td>\n",
       "      <td>0.448276</td>\n",
       "      <td>NaN</td>\n",
       "      <td>NaN</td>\n",
       "      <td>...</td>\n",
       "      <td>0.363636</td>\n",
       "      <td>0.5</td>\n",
       "      <td>NaN</td>\n",
       "      <td>NaN</td>\n",
       "      <td>NaN</td>\n",
       "      <td>NaN</td>\n",
       "      <td>NaN</td>\n",
       "      <td>NaN</td>\n",
       "      <td>NaN</td>\n",
       "      <td>NaN</td>\n",
       "    </tr>\n",
       "    <tr>\n",
       "      <th>_bmueller_ptWordProblems</th>\n",
       "      <td>NaN</td>\n",
       "      <td>NaN</td>\n",
       "      <td>NaN</td>\n",
       "      <td>NaN</td>\n",
       "      <td>NaN</td>\n",
       "      <td>-1.000000</td>\n",
       "      <td>NaN</td>\n",
       "      <td>NaN</td>\n",
       "      <td>0.5</td>\n",
       "      <td>NaN</td>\n",
       "      <td>...</td>\n",
       "      <td>NaN</td>\n",
       "      <td>NaN</td>\n",
       "      <td>NaN</td>\n",
       "      <td>NaN</td>\n",
       "      <td>NaN</td>\n",
       "      <td>NaN</td>\n",
       "      <td>NaN</td>\n",
       "      <td>NaN</td>\n",
       "      <td>NaN</td>\n",
       "      <td>NaN</td>\n",
       "    </tr>\n",
       "    <tr>\n",
       "      <th>_bmueller_quadFactoredToStandard</th>\n",
       "      <td>-1</td>\n",
       "      <td>0</td>\n",
       "      <td>NaN</td>\n",
       "      <td>NaN</td>\n",
       "      <td>NaN</td>\n",
       "      <td>0.421053</td>\n",
       "      <td>0.363636</td>\n",
       "      <td>0.000000</td>\n",
       "      <td>NaN</td>\n",
       "      <td>NaN</td>\n",
       "      <td>...</td>\n",
       "      <td>NaN</td>\n",
       "      <td>NaN</td>\n",
       "      <td>NaN</td>\n",
       "      <td>NaN</td>\n",
       "      <td>NaN</td>\n",
       "      <td>NaN</td>\n",
       "      <td>NaN</td>\n",
       "      <td>NaN</td>\n",
       "      <td>NaN</td>\n",
       "      <td>0</td>\n",
       "    </tr>\n",
       "    <tr>\n",
       "      <th>_bmueller_quadInterceptCoefficients</th>\n",
       "      <td>NaN</td>\n",
       "      <td>NaN</td>\n",
       "      <td>NaN</td>\n",
       "      <td>NaN</td>\n",
       "      <td>NaN</td>\n",
       "      <td>0.300000</td>\n",
       "      <td>0.428571</td>\n",
       "      <td>NaN</td>\n",
       "      <td>NaN</td>\n",
       "      <td>NaN</td>\n",
       "      <td>...</td>\n",
       "      <td>NaN</td>\n",
       "      <td>NaN</td>\n",
       "      <td>NaN</td>\n",
       "      <td>NaN</td>\n",
       "      <td>NaN</td>\n",
       "      <td>NaN</td>\n",
       "      <td>NaN</td>\n",
       "      <td>NaN</td>\n",
       "      <td>NaN</td>\n",
       "      <td>NaN</td>\n",
       "    </tr>\n",
       "  </tbody>\n",
       "</table>\n",
       "<p>5 rows × 6808 columns</p>\n",
       "</div>"
      ],
      "text/plain": [
       "Student_ID                           9842    23552   23689   24037   24051   \\\n",
       "Problem_Type                                                                  \n",
       "_ajacoby_idPropertyLvl1                 NaN     NaN     NaN       1     NaN   \n",
       "_ajacoby_idPropertyLvl2                 NaN     NaN     NaN       1     NaN   \n",
       "_bmueller_ptWordProblems                NaN     NaN     NaN     NaN     NaN   \n",
       "_bmueller_quadFactoredToStandard         -1       0     NaN     NaN     NaN   \n",
       "_bmueller_quadInterceptCoefficients     NaN     NaN     NaN     NaN     NaN   \n",
       "\n",
       "Student_ID                             24155     24164     24286   24289   \\\n",
       "Problem_Type                                                                \n",
       "_ajacoby_idPropertyLvl1                   NaN       NaN  0.500000     NaN   \n",
       "_ajacoby_idPropertyLvl2                   NaN       NaN  0.448276     NaN   \n",
       "_bmueller_ptWordProblems            -1.000000       NaN       NaN     0.5   \n",
       "_bmueller_quadFactoredToStandard     0.421053  0.363636  0.000000     NaN   \n",
       "_bmueller_quadInterceptCoefficients  0.300000  0.428571       NaN     NaN   \n",
       "\n",
       "Student_ID                           25301    ...      179383  179442  179447  \\\n",
       "Problem_Type                                  ...                               \n",
       "_ajacoby_idPropertyLvl1                 NaN   ...    0.333333     0.5     NaN   \n",
       "_ajacoby_idPropertyLvl2                 NaN   ...    0.363636     0.5     NaN   \n",
       "_bmueller_ptWordProblems                NaN   ...         NaN     NaN     NaN   \n",
       "_bmueller_quadFactoredToStandard        NaN   ...         NaN     NaN     NaN   \n",
       "_bmueller_quadInterceptCoefficients     NaN   ...         NaN     NaN     NaN   \n",
       "\n",
       "Student_ID                           179766  180184  180188  180270  182719  \\\n",
       "Problem_Type                                                                  \n",
       "_ajacoby_idPropertyLvl1                 NaN     NaN     NaN     NaN     NaN   \n",
       "_ajacoby_idPropertyLvl2                 NaN     NaN     NaN     NaN     NaN   \n",
       "_bmueller_ptWordProblems                NaN     NaN     NaN     NaN     NaN   \n",
       "_bmueller_quadFactoredToStandard        NaN     NaN     NaN     NaN     NaN   \n",
       "_bmueller_quadInterceptCoefficients     NaN     NaN     NaN     NaN     NaN   \n",
       "\n",
       "Student_ID                           182722  184758  \n",
       "Problem_Type                                         \n",
       "_ajacoby_idPropertyLvl1                 NaN     NaN  \n",
       "_ajacoby_idPropertyLvl2                 NaN     NaN  \n",
       "_bmueller_ptWordProblems                NaN     NaN  \n",
       "_bmueller_quadFactoredToStandard        NaN       0  \n",
       "_bmueller_quadInterceptCoefficients     NaN     NaN  \n",
       "\n",
       "[5 rows x 6808 columns]"
      ]
     },
     "execution_count": 83,
     "metadata": {},
     "output_type": "execute_result"
    }
   ],
   "source": [
    "algebra_students_10plus_problem_types.head()"
   ]
  },
  {
   "cell_type": "code",
   "execution_count": 132,
   "metadata": {
    "collapsed": true
   },
   "outputs": [],
   "source": [
    "def user_neighbors(user, df):\n",
    "    studentA = user\n",
    "    studentA_data = df[user]\n",
    "    studentA_dict = {}\n",
    "    for studentB in df.columns:\n",
    "        if studentA==studentB:\n",
    "            continue\n",
    "        studentB_data = df[studentB]\n",
    "        AB = pd.DataFrame([studentA_data , studentB_data])\n",
    "        AB = AB.dropna(axis=1)\n",
    "        num_matches = len(AB.columns)\n",
    "        if num_matches == 0 or num_matches==1:\n",
    "            continue\n",
    "        elif num_matches >= 5:\n",
    "            distance = euclidean(AB.ix[studentA] , AB.ix[studentB])\n",
    "            studentA_dict[studentB] = distance\n",
    "        else:\n",
    "            continue\n",
    "#             distance = euclidean(AB.ix[studentA] , AB.ix[studentB])*(5.0/num_matches)\n",
    "    return sorted(studentA_dict.iteritems(), key =lambda x: x[1])[:10]"
   ]
  },
  {
   "cell_type": "code",
   "execution_count": 176,
   "metadata": {},
   "outputs": [],
   "source": [
    "neighbors24051 = user_neighbors(24051, algebra_students_10plus_problem_types)"
   ]
  },
  {
   "cell_type": "code",
   "execution_count": 177,
   "metadata": {},
   "outputs": [
    {
     "data": {
      "text/plain": [
       "[(137143, 0.14962159374633316),\n",
       " (133317, 0.17437936593905284),\n",
       " (133692, 0.1830238575331201),\n",
       " (133664, 0.1920913662050471),\n",
       " (147303, 0.20203050891044222),\n",
       " (77079, 0.2118713598481129),\n",
       " (141146, 0.2147661428035951),\n",
       " (162762, 0.22208309066329537),\n",
       " (136846, 0.23202550935227498),\n",
       " (112056, 0.2474358296526967)]"
      ]
     },
     "execution_count": 177,
     "metadata": {},
     "output_type": "execute_result"
    }
   ],
   "source": [
    "neighbors24051"
   ]
  },
  {
   "cell_type": "code",
   "execution_count": 179,
   "metadata": {},
   "outputs": [
    {
     "name": "stdout",
     "output_type": "stream",
     "text": [
      "0.149621593746\n",
      "0.174379365939\n",
      "0.183023857533\n",
      "0.192091366205\n",
      "0.20203050891\n",
      "0.211871359848\n",
      "0.214766142804\n",
      "0.222083090663\n",
      "0.232025509352\n",
      "0.247435829653\n"
     ]
    }
   ],
   "source": [
    "for neighbor in neighbors24051:\n",
    "    print neighbor[1]"
   ]
  },
  {
   "cell_type": "code",
   "execution_count": 130,
   "metadata": {},
   "outputs": [],
   "source": [
    "weights = [value[1] for value in neighbors24051]"
   ]
  },
  {
   "cell_type": "code",
   "execution_count": 131,
   "metadata": {},
   "outputs": [
    {
     "data": {
      "text/plain": [
       "[0.14962159374633316,\n",
       " 0.17437936593905284,\n",
       " 0.1830238575331201,\n",
       " 0.1920913662050471,\n",
       " 0.20203050891044222,\n",
       " 0.2118713598481129,\n",
       " 0.2147661428035951,\n",
       " 0.22208309066329537,\n",
       " 0.23202550935227498,\n",
       " 0.2474358296526967]"
      ]
     },
     "execution_count": 131,
     "metadata": {},
     "output_type": "execute_result"
    }
   ],
   "source": [
    "weights"
   ]
  },
  {
   "cell_type": "code",
   "execution_count": 140,
   "metadata": {
    "collapsed": true
   },
   "outputs": [],
   "source": [
    "(avg, total, items) = (0,0,0)"
   ]
  },
  {
   "cell_type": "code",
   "execution_count": 141,
   "metadata": {},
   "outputs": [
    {
     "data": {
      "text/plain": [
       "0"
      ]
     },
     "execution_count": 141,
     "metadata": {},
     "output_type": "execute_result"
    }
   ],
   "source": [
    "avg"
   ]
  },
  {
   "cell_type": "code",
   "execution_count": 142,
   "metadata": {},
   "outputs": [
    {
     "data": {
      "text/plain": [
       "0"
      ]
     },
     "execution_count": 142,
     "metadata": {},
     "output_type": "execute_result"
    }
   ],
   "source": [
    "total"
   ]
  },
  {
   "cell_type": "code",
   "execution_count": 183,
   "metadata": {},
   "outputs": [],
   "source": [
    "## Refine for definition.. \n",
    "\n",
    "def recommendation(user,df):\n",
    "    # first find nearest neighbor\n",
    "    nearest10 = user_neighbors(user, df)\n",
    "    recommendations = {}\n",
    "    userRatings = df[user]\n",
    "    # now find bands neighbor rated that user didn't\n",
    "    for neighbor in nearest10:\n",
    "        neighbor_name = neighbor[0]\n",
    "        neighbor_dist = neighbor[1]\n",
    "        neighborRatings = df[neighbor_name]\n",
    "        for question in neighborRatings.index:\n",
    "            #Don't recommend problems user has done....**this needs to be updated; user needs to practice too...\n",
    "            #Currently simple average...should be weighted based on distance\n",
    "            if np.isnan(userRatings[question]) and np.isnan(neighborRatings[question])==False: \n",
    "                (avg, total, items) = recommendations.get(question, (0,0,0))\n",
    "                items +=1\n",
    "                total +=neighborRatings[question]\n",
    "                avg = total/items\n",
    "                recommendations[question] = (avg, total, items)\n",
    "    return recommendations  "
   ]
  },
  {
   "cell_type": "code",
   "execution_count": 184,
   "metadata": {},
   "outputs": [],
   "source": [
    "recommendations24051 = recommendation(24051, algebra_students_10plus_problem_types)"
   ]
  },
  {
   "cell_type": "code",
   "execution_count": 189,
   "metadata": {},
   "outputs": [
    {
     "data": {
      "text/plain": [
       "[('differencePerfectSquares', (0.95833333333333326, 1.9166666666666665, 2)),\n",
       " ('gcfFactorVariableOnly', (0.94871794871794879, 2.8461538461538463, 3)),\n",
       " ('commutativeAdditionGraphs', (0.9375, 3.75, 4)),\n",
       " ('parabolaAValue', (0.92307692307692302, 2.7692307692307692, 3)),\n",
       " ('solveTrinomialFactorA1', (0.87012987012987009, 4.3506493506493502, 5)),\n",
       " ('linearSystemGraphicallyL1', (0.86878787878787878, 4.3439393939393938, 5)),\n",
       " ('graphingLines', (0.86376623376623374, 8.6376623376623378, 10)),\n",
       " ('linearSystemGraphically', (0.85317460317460314, 2.5595238095238093, 3)),\n",
       " ('_bmueller_quadInterceptCoefficients',\n",
       "  (0.85164835164835162, 1.7032967032967032, 2)),\n",
       " ('lineFromPointSlope', (0.84210526315789469, 2.5263157894736841, 3)),\n",
       " ('solveTrinomialFactorA23456', (0.8214285714285714, 4.1071428571428568, 5)),\n",
       " ('averageRateOfChangeTable', (0.81759834368530016, 2.4527950310559006, 3)),\n",
       " ('gcfBinomial3', (0.81127450980392157, 1.6225490196078431, 2)),\n",
       " ('solveQuadraticFactoring', (0.79717948717948706, 3.9858974358974355, 5)),\n",
       " ('reducingRadicalsGuided', (0.78787878787878785, 1.5757575757575757, 2)),\n",
       " ('solveLinearSystemGuided', (0.7857142857142857, 1.5714285714285714, 2)),\n",
       " ('vertexForm', (0.77601809954751133, 1.5520361990950227, 2)),\n",
       " ('multiplyBinomials', (0.71933621933621927, 2.1580086580086579, 3)),\n",
       " ('_bpeled_masterProductFactoring',\n",
       "  (0.71474358974358965, 2.8589743589743586, 4)),\n",
       " ('averageRateOfChangeEquation', (0.71248196248196249, 2.1374458874458875, 3)),\n",
       " ('solveLinearSystemElim', (0.66662464985994396, 3.3331232492997196, 5)),\n",
       " ('pointSolvingInequalitySystem',\n",
       "  (0.64520202020202022, 1.9356060606060608, 3)),\n",
       " ('lineFromPointsGraphically', (0.55555555555555547, 1.6666666666666665, 3)),\n",
       " ('intervalNotation', (0.55555555555555547, 1.6666666666666665, 3)),\n",
       " ('areaWordProblems', (0.54791666666666661, 2.1916666666666664, 4)),\n",
       " ('_ajacoby_idPropertyLvl2', (0.44666666666666671, 1.3400000000000001, 3)),\n",
       " ('_jhall_LinEqMovies', (0.42481203007518797, 0.84962406015037595, 2)),\n",
       " ('_bmueller_wordProblemsLinearSystems',\n",
       "  (0.29999999999999999, 0.59999999999999998, 2)),\n",
       " ('quadraticFormulaIrrational1', (0.25, 0.5, 2)),\n",
       " ('axisOfSymmetryVertex', (0.18727598566308243, 0.56182795698924726, 3)),\n",
       " ('quadraticFormulaRational', (0.12171717171717172, 0.4868686868686869, 4)),\n",
       " ('factorTrinomialHard', (0.11111111111111112, 0.33333333333333337, 3)),\n",
       " ('factorTrinomialHardLevel1', (0.0, 0.0, 2)),\n",
       " ('factorTrinomial23456Level0', (-0.15625, -0.3125, 2))]"
      ]
     },
     "execution_count": 189,
     "metadata": {},
     "output_type": "execute_result"
    }
   ],
   "source": [
    "sorted([x for x in recommendations24051.iteritems() if x[1][-1]!=1], key = lambda x: x[1][0], reverse=True)"
   ]
  },
  {
   "cell_type": "code",
   "execution_count": 185,
   "metadata": {
    "collapsed": true
   },
   "outputs": [],
   "source": [
    "recommendations137143 = recommendation(137143, algebra_students_10plus_problem_types)"
   ]
  },
  {
   "cell_type": "code",
   "execution_count": 199,
   "metadata": {},
   "outputs": [],
   "source": [
    "q_difficulty = algebra_students_10plus_problem_types.mean(axis=1)"
   ]
  },
  {
   "cell_type": "code",
   "execution_count": 202,
   "metadata": {},
   "outputs": [
    {
     "data": {
      "text/html": [
       "<div>\n",
       "<table border=\"1\" class=\"dataframe\">\n",
       "  <thead>\n",
       "    <tr style=\"text-align: right;\">\n",
       "      <th></th>\n",
       "      <th>Problem_Type</th>\n",
       "      <th>Mean</th>\n",
       "    </tr>\n",
       "  </thead>\n",
       "  <tbody>\n",
       "    <tr>\n",
       "      <th>0</th>\n",
       "      <td>_ajacoby_idPropertyLvl1</td>\n",
       "      <td>0.586922</td>\n",
       "    </tr>\n",
       "    <tr>\n",
       "      <th>1</th>\n",
       "      <td>_ajacoby_idPropertyLvl2</td>\n",
       "      <td>0.507386</td>\n",
       "    </tr>\n",
       "    <tr>\n",
       "      <th>2</th>\n",
       "      <td>_bmueller_ptWordProblems</td>\n",
       "      <td>0.594412</td>\n",
       "    </tr>\n",
       "    <tr>\n",
       "      <th>3</th>\n",
       "      <td>_bmueller_quadFactoredToStandard</td>\n",
       "      <td>0.306127</td>\n",
       "    </tr>\n",
       "    <tr>\n",
       "      <th>4</th>\n",
       "      <td>_bmueller_quadInterceptCoefficients</td>\n",
       "      <td>0.478771</td>\n",
       "    </tr>\n",
       "  </tbody>\n",
       "</table>\n",
       "</div>"
      ],
      "text/plain": [
       "                          Problem_Type      Mean\n",
       "0              _ajacoby_idPropertyLvl1  0.586922\n",
       "1              _ajacoby_idPropertyLvl2  0.507386\n",
       "2             _bmueller_ptWordProblems  0.594412\n",
       "3     _bmueller_quadFactoredToStandard  0.306127\n",
       "4  _bmueller_quadInterceptCoefficients  0.478771"
      ]
     },
     "execution_count": 202,
     "metadata": {},
     "output_type": "execute_result"
    }
   ],
   "source": [
    "q_difficulty = q_difficulty.reset_index()\n",
    "q_difficulty.columns = ['Problem_Type','Mean']\n",
    "q_difficulty.head()"
   ]
  },
  {
   "cell_type": "code",
   "execution_count": 205,
   "metadata": {
    "collapsed": true
   },
   "outputs": [],
   "source": [
    "q_difficulty['Difficulty'] = 1-q_difficulty.Mean"
   ]
  },
  {
   "cell_type": "code",
   "execution_count": 3,
   "metadata": {},
   "outputs": [],
   "source": [
    "# q_difficulty.sort_index(by='Mean')"
   ]
  },
  {
   "cell_type": "code",
   "execution_count": 213,
   "metadata": {},
   "outputs": [],
   "source": [
    "q10plus = algebra_students_10plus_problem_types[algebra_students_10plus_problem_types.count(axis=1)>10]"
   ]
  },
  {
   "cell_type": "code",
   "execution_count": 214,
   "metadata": {},
   "outputs": [
    {
     "data": {
      "text/html": [
       "<div>\n",
       "<table border=\"1\" class=\"dataframe\">\n",
       "  <thead>\n",
       "    <tr style=\"text-align: right;\">\n",
       "      <th></th>\n",
       "      <th>Problem_Type</th>\n",
       "      <th>Mean</th>\n",
       "    </tr>\n",
       "  </thead>\n",
       "  <tbody>\n",
       "    <tr>\n",
       "      <th>0</th>\n",
       "      <td>_ajacoby_idPropertyLvl1</td>\n",
       "      <td>0.586922</td>\n",
       "    </tr>\n",
       "    <tr>\n",
       "      <th>1</th>\n",
       "      <td>_ajacoby_idPropertyLvl2</td>\n",
       "      <td>0.507386</td>\n",
       "    </tr>\n",
       "    <tr>\n",
       "      <th>2</th>\n",
       "      <td>_bmueller_ptWordProblems</td>\n",
       "      <td>0.594412</td>\n",
       "    </tr>\n",
       "    <tr>\n",
       "      <th>3</th>\n",
       "      <td>_bmueller_quadFactoredToStandard</td>\n",
       "      <td>0.306127</td>\n",
       "    </tr>\n",
       "    <tr>\n",
       "      <th>4</th>\n",
       "      <td>_bmueller_quadInterceptCoefficients</td>\n",
       "      <td>0.478771</td>\n",
       "    </tr>\n",
       "  </tbody>\n",
       "</table>\n",
       "</div>"
      ],
      "text/plain": [
       "                          Problem_Type      Mean\n",
       "0              _ajacoby_idPropertyLvl1  0.586922\n",
       "1              _ajacoby_idPropertyLvl2  0.507386\n",
       "2             _bmueller_ptWordProblems  0.594412\n",
       "3     _bmueller_quadFactoredToStandard  0.306127\n",
       "4  _bmueller_quadInterceptCoefficients  0.478771"
      ]
     },
     "execution_count": 214,
     "metadata": {},
     "output_type": "execute_result"
    }
   ],
   "source": [
    "q_difficulty2 = q10plus.mean(axis=1)\n",
    "q_difficulty2 = q_difficulty2.reset_index()\n",
    "q_difficulty2.columns = ['Problem_Type','Mean']\n",
    "q_difficulty2.head()"
   ]
  },
  {
   "cell_type": "code",
   "execution_count": 297,
   "metadata": {
    "collapsed": true
   },
   "outputs": [],
   "source": [
    "q_difficulty2['Difficulty'] = 1-q_difficulty2.Mean"
   ]
  },
  {
   "cell_type": "code",
   "execution_count": 299,
   "metadata": {},
   "outputs": [
    {
     "data": {
      "text/html": [
       "<div>\n",
       "<table border=\"1\" class=\"dataframe\">\n",
       "  <thead>\n",
       "    <tr style=\"text-align: right;\">\n",
       "      <th></th>\n",
       "      <th>Problem_Type</th>\n",
       "      <th>Mean</th>\n",
       "      <th>Difficulty</th>\n",
       "    </tr>\n",
       "  </thead>\n",
       "  <tbody>\n",
       "    <tr>\n",
       "      <th>87</th>\n",
       "      <td>percentChangeExpressions</td>\n",
       "      <td>-0.288737</td>\n",
       "      <td>1.288737</td>\n",
       "    </tr>\n",
       "    <tr>\n",
       "      <th>111</th>\n",
       "      <td>simplifyRadical</td>\n",
       "      <td>-0.118128</td>\n",
       "      <td>1.118128</td>\n",
       "    </tr>\n",
       "    <tr>\n",
       "      <th>88</th>\n",
       "      <td>percentChangeTwoValues</td>\n",
       "      <td>-0.107544</td>\n",
       "      <td>1.107544</td>\n",
       "    </tr>\n",
       "    <tr>\n",
       "      <th>123</th>\n",
       "      <td>trigFindSideA1</td>\n",
       "      <td>-0.080833</td>\n",
       "      <td>1.080833</td>\n",
       "    </tr>\n",
       "    <tr>\n",
       "      <th>56</th>\n",
       "      <td>graphQuadLinearSystem</td>\n",
       "      <td>-0.053704</td>\n",
       "      <td>1.053704</td>\n",
       "    </tr>\n",
       "    <tr>\n",
       "      <th>105</th>\n",
       "      <td>quadraticWordProblems</td>\n",
       "      <td>-0.030127</td>\n",
       "      <td>1.030127</td>\n",
       "    </tr>\n",
       "    <tr>\n",
       "      <th>106</th>\n",
       "      <td>rangeFromEquation</td>\n",
       "      <td>0.017609</td>\n",
       "      <td>0.982391</td>\n",
       "    </tr>\n",
       "    <tr>\n",
       "      <th>36</th>\n",
       "      <td>averageRateOfChangeEquation</td>\n",
       "      <td>0.056190</td>\n",
       "      <td>0.943810</td>\n",
       "    </tr>\n",
       "    <tr>\n",
       "      <th>12</th>\n",
       "      <td>_bpeled_masterProductFactoring</td>\n",
       "      <td>0.059010</td>\n",
       "      <td>0.940990</td>\n",
       "    </tr>\n",
       "    <tr>\n",
       "      <th>122</th>\n",
       "      <td>trigFindAngleA1</td>\n",
       "      <td>0.059270</td>\n",
       "      <td>0.940730</td>\n",
       "    </tr>\n",
       "  </tbody>\n",
       "</table>\n",
       "</div>"
      ],
      "text/plain": [
       "                       Problem_Type      Mean  Difficulty\n",
       "87         percentChangeExpressions -0.288737    1.288737\n",
       "111                 simplifyRadical -0.118128    1.118128\n",
       "88           percentChangeTwoValues -0.107544    1.107544\n",
       "123                  trigFindSideA1 -0.080833    1.080833\n",
       "56            graphQuadLinearSystem -0.053704    1.053704\n",
       "105           quadraticWordProblems -0.030127    1.030127\n",
       "106               rangeFromEquation  0.017609    0.982391\n",
       "36      averageRateOfChangeEquation  0.056190    0.943810\n",
       "12   _bpeled_masterProductFactoring  0.059010    0.940990\n",
       "122                 trigFindAngleA1  0.059270    0.940730"
      ]
     },
     "execution_count": 299,
     "metadata": {},
     "output_type": "execute_result"
    }
   ],
   "source": [
    "q_difficulty2.sort_index(by='Mean').head(10)"
   ]
  },
  {
   "cell_type": "code",
   "execution_count": 300,
   "metadata": {
    "collapsed": true
   },
   "outputs": [],
   "source": [
    "q_difficulty3 = q_difficulty2[q_difficulty2.Mean>0]"
   ]
  },
  {
   "cell_type": "code",
   "execution_count": 301,
   "metadata": {},
   "outputs": [
    {
     "name": "stdout",
     "output_type": "stream",
     "text": [
      "142\n",
      "130\n",
      "124\n"
     ]
    }
   ],
   "source": [
    "print len(q_difficulty)\n",
    "print len(q_difficulty2)\n",
    "print len(q_difficulty3)"
   ]
  },
  {
   "cell_type": "code",
   "execution_count": 310,
   "metadata": {},
   "outputs": [
    {
     "data": {
      "text/plain": [
       "3.0"
      ]
     },
     "execution_count": 310,
     "metadata": {},
     "output_type": "execute_result"
    }
   ],
   "source": [
    "round(3.2)"
   ]
  },
  {
   "cell_type": "code",
   "execution_count": 307,
   "metadata": {},
   "outputs": [],
   "source": [
    "q_difficulty3.Difficulty=5*(1-q_difficulty3.Mean)"
   ]
  },
  {
   "cell_type": "code",
   "execution_count": 313,
   "metadata": {},
   "outputs": [
    {
     "data": {
      "text/html": [
       "<div>\n",
       "<table border=\"1\" class=\"dataframe\">\n",
       "  <thead>\n",
       "    <tr style=\"text-align: right;\">\n",
       "      <th></th>\n",
       "      <th>Problem_Type</th>\n",
       "      <th>Mean</th>\n",
       "      <th>Difficulty</th>\n",
       "    </tr>\n",
       "  </thead>\n",
       "  <tbody>\n",
       "    <tr>\n",
       "      <th>0</th>\n",
       "      <td>_ajacoby_idPropertyLvl1</td>\n",
       "      <td>0.586922</td>\n",
       "      <td>2.065388</td>\n",
       "    </tr>\n",
       "    <tr>\n",
       "      <th>1</th>\n",
       "      <td>_ajacoby_idPropertyLvl2</td>\n",
       "      <td>0.507386</td>\n",
       "      <td>2.463069</td>\n",
       "    </tr>\n",
       "    <tr>\n",
       "      <th>2</th>\n",
       "      <td>_bmueller_ptWordProblems</td>\n",
       "      <td>0.594412</td>\n",
       "      <td>2.027938</td>\n",
       "    </tr>\n",
       "    <tr>\n",
       "      <th>3</th>\n",
       "      <td>_bmueller_quadFactoredToStandard</td>\n",
       "      <td>0.306127</td>\n",
       "      <td>3.469364</td>\n",
       "    </tr>\n",
       "    <tr>\n",
       "      <th>4</th>\n",
       "      <td>_bmueller_quadInterceptCoefficients</td>\n",
       "      <td>0.478771</td>\n",
       "      <td>2.606143</td>\n",
       "    </tr>\n",
       "  </tbody>\n",
       "</table>\n",
       "</div>"
      ],
      "text/plain": [
       "                          Problem_Type      Mean  Difficulty\n",
       "0              _ajacoby_idPropertyLvl1  0.586922    2.065388\n",
       "1              _ajacoby_idPropertyLvl2  0.507386    2.463069\n",
       "2             _bmueller_ptWordProblems  0.594412    2.027938\n",
       "3     _bmueller_quadFactoredToStandard  0.306127    3.469364\n",
       "4  _bmueller_quadInterceptCoefficients  0.478771    2.606143"
      ]
     },
     "execution_count": 313,
     "metadata": {},
     "output_type": "execute_result"
    }
   ],
   "source": [
    "q_difficulty3.head()"
   ]
  },
  {
   "cell_type": "code",
   "execution_count": 308,
   "metadata": {},
   "outputs": [
    {
     "data": {
      "text/html": [
       "<div>\n",
       "<table border=\"1\" class=\"dataframe\">\n",
       "  <thead>\n",
       "    <tr style=\"text-align: right;\">\n",
       "      <th></th>\n",
       "      <th>Mean</th>\n",
       "      <th>Difficulty</th>\n",
       "    </tr>\n",
       "  </thead>\n",
       "  <tbody>\n",
       "    <tr>\n",
       "      <th>count</th>\n",
       "      <td>124.000000</td>\n",
       "      <td>124.000000</td>\n",
       "    </tr>\n",
       "    <tr>\n",
       "      <th>mean</th>\n",
       "      <td>0.426826</td>\n",
       "      <td>2.865869</td>\n",
       "    </tr>\n",
       "    <tr>\n",
       "      <th>std</th>\n",
       "      <td>0.182725</td>\n",
       "      <td>0.913626</td>\n",
       "    </tr>\n",
       "    <tr>\n",
       "      <th>min</th>\n",
       "      <td>0.017609</td>\n",
       "      <td>0.948454</td>\n",
       "    </tr>\n",
       "    <tr>\n",
       "      <th>25%</th>\n",
       "      <td>0.305907</td>\n",
       "      <td>2.274158</td>\n",
       "    </tr>\n",
       "    <tr>\n",
       "      <th>50%</th>\n",
       "      <td>0.433045</td>\n",
       "      <td>2.834775</td>\n",
       "    </tr>\n",
       "    <tr>\n",
       "      <th>75%</th>\n",
       "      <td>0.545168</td>\n",
       "      <td>3.470467</td>\n",
       "    </tr>\n",
       "    <tr>\n",
       "      <th>max</th>\n",
       "      <td>0.810309</td>\n",
       "      <td>4.911956</td>\n",
       "    </tr>\n",
       "  </tbody>\n",
       "</table>\n",
       "</div>"
      ],
      "text/plain": [
       "             Mean  Difficulty\n",
       "count  124.000000  124.000000\n",
       "mean     0.426826    2.865869\n",
       "std      0.182725    0.913626\n",
       "min      0.017609    0.948454\n",
       "25%      0.305907    2.274158\n",
       "50%      0.433045    2.834775\n",
       "75%      0.545168    3.470467\n",
       "max      0.810309    4.911956"
      ]
     },
     "execution_count": 308,
     "metadata": {},
     "output_type": "execute_result"
    }
   ],
   "source": [
    "q_difficulty3.describe()"
   ]
  },
  {
   "cell_type": "code",
   "execution_count": 319,
   "metadata": {},
   "outputs": [
    {
     "data": {
      "text/plain": [
       "'solveLinearSystemElim'"
      ]
     },
     "execution_count": 319,
     "metadata": {},
     "output_type": "execute_result"
    }
   ],
   "source": [
    "np.random.choice(q_difficulty3.Problem_Type)"
   ]
  },
  {
   "cell_type": "code",
   "execution_count": 311,
   "metadata": {},
   "outputs": [
    {
     "data": {
      "text/plain": [
       "u'/Users/matthewmitchell/Desktop/Delta_Math_Data'"
      ]
     },
     "execution_count": 311,
     "metadata": {},
     "output_type": "execute_result"
    }
   ],
   "source": [
    "pwd"
   ]
  },
  {
   "cell_type": "code",
   "execution_count": 312,
   "metadata": {},
   "outputs": [
    {
     "name": "stdout",
     "output_type": "stream",
     "text": [
      "/Users/matthewmitchell/Desktop/Delta_Math_Data/Problem_Descriptions\n"
     ]
    }
   ],
   "source": [
    "cd Problem_Descriptions/"
   ]
  },
  {
   "cell_type": "code",
   "execution_count": 314,
   "metadata": {
    "collapsed": true
   },
   "outputs": [],
   "source": [
    "q_difficulty3.to_csv('question_difficulty_sep14.csv')"
   ]
  },
  {
   "cell_type": "code",
   "execution_count": 327,
   "metadata": {},
   "outputs": [],
   "source": [
    "questions = q_difficulty3"
   ]
  },
  {
   "cell_type": "code",
   "execution_count": 329,
   "metadata": {},
   "outputs": [
    {
     "data": {
      "text/html": [
       "<div>\n",
       "<table border=\"1\" class=\"dataframe\">\n",
       "  <thead>\n",
       "    <tr style=\"text-align: right;\">\n",
       "      <th></th>\n",
       "      <th>Problem_Type</th>\n",
       "      <th>Mean</th>\n",
       "      <th>Difficulty</th>\n",
       "    </tr>\n",
       "  </thead>\n",
       "  <tbody>\n",
       "    <tr>\n",
       "      <th>0</th>\n",
       "      <td>_ajacoby_idPropertyLvl1</td>\n",
       "      <td>0.586922</td>\n",
       "      <td>2.065388</td>\n",
       "    </tr>\n",
       "    <tr>\n",
       "      <th>1</th>\n",
       "      <td>_ajacoby_idPropertyLvl2</td>\n",
       "      <td>0.507386</td>\n",
       "      <td>2.463069</td>\n",
       "    </tr>\n",
       "    <tr>\n",
       "      <th>2</th>\n",
       "      <td>_bmueller_ptWordProblems</td>\n",
       "      <td>0.594412</td>\n",
       "      <td>2.027938</td>\n",
       "    </tr>\n",
       "    <tr>\n",
       "      <th>3</th>\n",
       "      <td>_bmueller_quadFactoredToStandard</td>\n",
       "      <td>0.306127</td>\n",
       "      <td>3.469364</td>\n",
       "    </tr>\n",
       "    <tr>\n",
       "      <th>4</th>\n",
       "      <td>_bmueller_quadInterceptCoefficients</td>\n",
       "      <td>0.478771</td>\n",
       "      <td>2.606143</td>\n",
       "    </tr>\n",
       "  </tbody>\n",
       "</table>\n",
       "</div>"
      ],
      "text/plain": [
       "                          Problem_Type      Mean  Difficulty\n",
       "0              _ajacoby_idPropertyLvl1  0.586922    2.065388\n",
       "1              _ajacoby_idPropertyLvl2  0.507386    2.463069\n",
       "2             _bmueller_ptWordProblems  0.594412    2.027938\n",
       "3     _bmueller_quadFactoredToStandard  0.306127    3.469364\n",
       "4  _bmueller_quadInterceptCoefficients  0.478771    2.606143"
      ]
     },
     "execution_count": 329,
     "metadata": {},
     "output_type": "execute_result"
    }
   ],
   "source": [
    "questions.head()"
   ]
  },
  {
   "cell_type": "code",
   "execution_count": 333,
   "metadata": {},
   "outputs": [
    {
     "data": {
      "text/plain": [
       "38"
      ]
     },
     "execution_count": 333,
     "metadata": {},
     "output_type": "execute_result"
    }
   ],
   "source": [
    "len(questions[(questions.Difficulty<user_rating+0.5) & (questions.Difficulty>user_rating-0.5) ])"
   ]
  },
  {
   "cell_type": "code",
   "execution_count": 331,
   "metadata": {
    "collapsed": true
   },
   "outputs": [],
   "source": [
    "user_rating=2"
   ]
  },
  {
   "cell_type": "code",
   "execution_count": 324,
   "metadata": {},
   "outputs": [
    {
     "data": {
      "text/plain": [
       "39"
      ]
     },
     "execution_count": 324,
     "metadata": {},
     "output_type": "execute_result"
    }
   ],
   "source": [
    "np.random.choice(range(len(q_difficulty3)))"
   ]
  },
  {
   "cell_type": "markdown",
   "metadata": {},
   "source": [
    "###KMeans on Questions"
   ]
  },
  {
   "cell_type": "code",
   "execution_count": 275,
   "metadata": {
    "collapsed": true
   },
   "outputs": [],
   "source": [
    "from sklearn.cluster import KMeans"
   ]
  },
  {
   "cell_type": "code",
   "execution_count": 278,
   "metadata": {
    "collapsed": true
   },
   "outputs": [],
   "source": [
    "KMeans?"
   ]
  },
  {
   "cell_type": "code",
   "execution_count": 219,
   "metadata": {},
   "outputs": [
    {
     "data": {
      "text/html": [
       "<div>\n",
       "<table border=\"1\" class=\"dataframe\">\n",
       "  <thead>\n",
       "    <tr style=\"text-align: right;\">\n",
       "      <th>Student_ID</th>\n",
       "      <th>9842</th>\n",
       "      <th>23552</th>\n",
       "      <th>23689</th>\n",
       "      <th>24037</th>\n",
       "      <th>24051</th>\n",
       "      <th>24155</th>\n",
       "      <th>24164</th>\n",
       "      <th>24286</th>\n",
       "      <th>24289</th>\n",
       "      <th>25301</th>\n",
       "      <th>...</th>\n",
       "      <th>179383</th>\n",
       "      <th>179442</th>\n",
       "      <th>179447</th>\n",
       "      <th>179766</th>\n",
       "      <th>180184</th>\n",
       "      <th>180188</th>\n",
       "      <th>180270</th>\n",
       "      <th>182719</th>\n",
       "      <th>182722</th>\n",
       "      <th>184758</th>\n",
       "    </tr>\n",
       "    <tr>\n",
       "      <th>Problem_Type</th>\n",
       "      <th></th>\n",
       "      <th></th>\n",
       "      <th></th>\n",
       "      <th></th>\n",
       "      <th></th>\n",
       "      <th></th>\n",
       "      <th></th>\n",
       "      <th></th>\n",
       "      <th></th>\n",
       "      <th></th>\n",
       "      <th></th>\n",
       "      <th></th>\n",
       "      <th></th>\n",
       "      <th></th>\n",
       "      <th></th>\n",
       "      <th></th>\n",
       "      <th></th>\n",
       "      <th></th>\n",
       "      <th></th>\n",
       "      <th></th>\n",
       "      <th></th>\n",
       "    </tr>\n",
       "  </thead>\n",
       "  <tbody>\n",
       "    <tr>\n",
       "      <th>_ajacoby_idPropertyLvl1</th>\n",
       "      <td>NaN</td>\n",
       "      <td>NaN</td>\n",
       "      <td>NaN</td>\n",
       "      <td>1</td>\n",
       "      <td>NaN</td>\n",
       "      <td>NaN</td>\n",
       "      <td>NaN</td>\n",
       "      <td>0.500000</td>\n",
       "      <td>NaN</td>\n",
       "      <td>NaN</td>\n",
       "      <td>...</td>\n",
       "      <td>0.333333</td>\n",
       "      <td>0.5</td>\n",
       "      <td>NaN</td>\n",
       "      <td>NaN</td>\n",
       "      <td>NaN</td>\n",
       "      <td>NaN</td>\n",
       "      <td>NaN</td>\n",
       "      <td>NaN</td>\n",
       "      <td>NaN</td>\n",
       "      <td>NaN</td>\n",
       "    </tr>\n",
       "    <tr>\n",
       "      <th>_ajacoby_idPropertyLvl2</th>\n",
       "      <td>NaN</td>\n",
       "      <td>NaN</td>\n",
       "      <td>NaN</td>\n",
       "      <td>1</td>\n",
       "      <td>NaN</td>\n",
       "      <td>NaN</td>\n",
       "      <td>NaN</td>\n",
       "      <td>0.448276</td>\n",
       "      <td>NaN</td>\n",
       "      <td>NaN</td>\n",
       "      <td>...</td>\n",
       "      <td>0.363636</td>\n",
       "      <td>0.5</td>\n",
       "      <td>NaN</td>\n",
       "      <td>NaN</td>\n",
       "      <td>NaN</td>\n",
       "      <td>NaN</td>\n",
       "      <td>NaN</td>\n",
       "      <td>NaN</td>\n",
       "      <td>NaN</td>\n",
       "      <td>NaN</td>\n",
       "    </tr>\n",
       "    <tr>\n",
       "      <th>_bmueller_ptWordProblems</th>\n",
       "      <td>NaN</td>\n",
       "      <td>NaN</td>\n",
       "      <td>NaN</td>\n",
       "      <td>NaN</td>\n",
       "      <td>NaN</td>\n",
       "      <td>-1.000000</td>\n",
       "      <td>NaN</td>\n",
       "      <td>NaN</td>\n",
       "      <td>0.5</td>\n",
       "      <td>NaN</td>\n",
       "      <td>...</td>\n",
       "      <td>NaN</td>\n",
       "      <td>NaN</td>\n",
       "      <td>NaN</td>\n",
       "      <td>NaN</td>\n",
       "      <td>NaN</td>\n",
       "      <td>NaN</td>\n",
       "      <td>NaN</td>\n",
       "      <td>NaN</td>\n",
       "      <td>NaN</td>\n",
       "      <td>NaN</td>\n",
       "    </tr>\n",
       "    <tr>\n",
       "      <th>_bmueller_quadFactoredToStandard</th>\n",
       "      <td>-1</td>\n",
       "      <td>0</td>\n",
       "      <td>NaN</td>\n",
       "      <td>NaN</td>\n",
       "      <td>NaN</td>\n",
       "      <td>0.421053</td>\n",
       "      <td>0.363636</td>\n",
       "      <td>0.000000</td>\n",
       "      <td>NaN</td>\n",
       "      <td>NaN</td>\n",
       "      <td>...</td>\n",
       "      <td>NaN</td>\n",
       "      <td>NaN</td>\n",
       "      <td>NaN</td>\n",
       "      <td>NaN</td>\n",
       "      <td>NaN</td>\n",
       "      <td>NaN</td>\n",
       "      <td>NaN</td>\n",
       "      <td>NaN</td>\n",
       "      <td>NaN</td>\n",
       "      <td>0</td>\n",
       "    </tr>\n",
       "    <tr>\n",
       "      <th>_bmueller_quadInterceptCoefficients</th>\n",
       "      <td>NaN</td>\n",
       "      <td>NaN</td>\n",
       "      <td>NaN</td>\n",
       "      <td>NaN</td>\n",
       "      <td>NaN</td>\n",
       "      <td>0.300000</td>\n",
       "      <td>0.428571</td>\n",
       "      <td>NaN</td>\n",
       "      <td>NaN</td>\n",
       "      <td>NaN</td>\n",
       "      <td>...</td>\n",
       "      <td>NaN</td>\n",
       "      <td>NaN</td>\n",
       "      <td>NaN</td>\n",
       "      <td>NaN</td>\n",
       "      <td>NaN</td>\n",
       "      <td>NaN</td>\n",
       "      <td>NaN</td>\n",
       "      <td>NaN</td>\n",
       "      <td>NaN</td>\n",
       "      <td>NaN</td>\n",
       "    </tr>\n",
       "  </tbody>\n",
       "</table>\n",
       "<p>5 rows × 6808 columns</p>\n",
       "</div>"
      ],
      "text/plain": [
       "Student_ID                           9842    23552   23689   24037   24051   \\\n",
       "Problem_Type                                                                  \n",
       "_ajacoby_idPropertyLvl1                 NaN     NaN     NaN       1     NaN   \n",
       "_ajacoby_idPropertyLvl2                 NaN     NaN     NaN       1     NaN   \n",
       "_bmueller_ptWordProblems                NaN     NaN     NaN     NaN     NaN   \n",
       "_bmueller_quadFactoredToStandard         -1       0     NaN     NaN     NaN   \n",
       "_bmueller_quadInterceptCoefficients     NaN     NaN     NaN     NaN     NaN   \n",
       "\n",
       "Student_ID                             24155     24164     24286   24289   \\\n",
       "Problem_Type                                                                \n",
       "_ajacoby_idPropertyLvl1                   NaN       NaN  0.500000     NaN   \n",
       "_ajacoby_idPropertyLvl2                   NaN       NaN  0.448276     NaN   \n",
       "_bmueller_ptWordProblems            -1.000000       NaN       NaN     0.5   \n",
       "_bmueller_quadFactoredToStandard     0.421053  0.363636  0.000000     NaN   \n",
       "_bmueller_quadInterceptCoefficients  0.300000  0.428571       NaN     NaN   \n",
       "\n",
       "Student_ID                           25301    ...      179383  179442  179447  \\\n",
       "Problem_Type                                  ...                               \n",
       "_ajacoby_idPropertyLvl1                 NaN   ...    0.333333     0.5     NaN   \n",
       "_ajacoby_idPropertyLvl2                 NaN   ...    0.363636     0.5     NaN   \n",
       "_bmueller_ptWordProblems                NaN   ...         NaN     NaN     NaN   \n",
       "_bmueller_quadFactoredToStandard        NaN   ...         NaN     NaN     NaN   \n",
       "_bmueller_quadInterceptCoefficients     NaN   ...         NaN     NaN     NaN   \n",
       "\n",
       "Student_ID                           179766  180184  180188  180270  182719  \\\n",
       "Problem_Type                                                                  \n",
       "_ajacoby_idPropertyLvl1                 NaN     NaN     NaN     NaN     NaN   \n",
       "_ajacoby_idPropertyLvl2                 NaN     NaN     NaN     NaN     NaN   \n",
       "_bmueller_ptWordProblems                NaN     NaN     NaN     NaN     NaN   \n",
       "_bmueller_quadFactoredToStandard        NaN     NaN     NaN     NaN     NaN   \n",
       "_bmueller_quadInterceptCoefficients     NaN     NaN     NaN     NaN     NaN   \n",
       "\n",
       "Student_ID                           182722  184758  \n",
       "Problem_Type                                         \n",
       "_ajacoby_idPropertyLvl1                 NaN     NaN  \n",
       "_ajacoby_idPropertyLvl2                 NaN     NaN  \n",
       "_bmueller_ptWordProblems                NaN     NaN  \n",
       "_bmueller_quadFactoredToStandard        NaN       0  \n",
       "_bmueller_quadInterceptCoefficients     NaN     NaN  \n",
       "\n",
       "[5 rows x 6808 columns]"
      ]
     },
     "execution_count": 219,
     "metadata": {},
     "output_type": "execute_result"
    }
   ],
   "source": [
    "algebra_students_10plus_problem_types.head()"
   ]
  },
  {
   "cell_type": "code",
   "execution_count": null,
   "metadata": {
    "collapsed": true
   },
   "outputs": [],
   "source": []
  },
  {
   "cell_type": "code",
   "execution_count": 262,
   "metadata": {},
   "outputs": [],
   "source": [
    "df = algebra_students_10plus_problem_types.transpose()"
   ]
  },
  {
   "cell_type": "code",
   "execution_count": 263,
   "metadata": {},
   "outputs": [
    {
     "data": {
      "text/html": [
       "<div>\n",
       "<table border=\"1\" class=\"dataframe\">\n",
       "  <thead>\n",
       "    <tr style=\"text-align: right;\">\n",
       "      <th>Problem_Type</th>\n",
       "      <th>_ajacoby_idPropertyLvl1</th>\n",
       "      <th>_ajacoby_idPropertyLvl2</th>\n",
       "      <th>_bmueller_ptWordProblems</th>\n",
       "      <th>_bmueller_quadFactoredToStandard</th>\n",
       "      <th>_bmueller_quadInterceptCoefficients</th>\n",
       "      <th>_bmueller_quadStandardCoefficients</th>\n",
       "      <th>_bmueller_quadVertexCoefficients</th>\n",
       "      <th>_bmueller_quadVertexToStandard</th>\n",
       "      <th>_bmueller_rateOfChangeUnits</th>\n",
       "      <th>_bmueller_tableToEquation1</th>\n",
       "      <th>...</th>\n",
       "      <th>solveTrinomialFactorA23456</th>\n",
       "      <th>standardToSlopeIntForm</th>\n",
       "      <th>trigFindAngleA1</th>\n",
       "      <th>trigFindSideA1</th>\n",
       "      <th>vertexForm</th>\n",
       "      <th>writeLineEquation</th>\n",
       "      <th>xGameLevel1</th>\n",
       "      <th>xGameLevel2</th>\n",
       "      <th>xGameLevel3</th>\n",
       "      <th>xGameMasterProduct</th>\n",
       "    </tr>\n",
       "    <tr>\n",
       "      <th>Student_ID</th>\n",
       "      <th></th>\n",
       "      <th></th>\n",
       "      <th></th>\n",
       "      <th></th>\n",
       "      <th></th>\n",
       "      <th></th>\n",
       "      <th></th>\n",
       "      <th></th>\n",
       "      <th></th>\n",
       "      <th></th>\n",
       "      <th></th>\n",
       "      <th></th>\n",
       "      <th></th>\n",
       "      <th></th>\n",
       "      <th></th>\n",
       "      <th></th>\n",
       "      <th></th>\n",
       "      <th></th>\n",
       "      <th></th>\n",
       "      <th></th>\n",
       "      <th></th>\n",
       "    </tr>\n",
       "  </thead>\n",
       "  <tbody>\n",
       "    <tr>\n",
       "      <th>9842</th>\n",
       "      <td>NaN</td>\n",
       "      <td>NaN</td>\n",
       "      <td>NaN</td>\n",
       "      <td>-1</td>\n",
       "      <td>NaN</td>\n",
       "      <td>NaN</td>\n",
       "      <td>NaN</td>\n",
       "      <td>NaN</td>\n",
       "      <td>NaN</td>\n",
       "      <td>NaN</td>\n",
       "      <td>...</td>\n",
       "      <td>NaN</td>\n",
       "      <td>0.125000</td>\n",
       "      <td>NaN</td>\n",
       "      <td>NaN</td>\n",
       "      <td>NaN</td>\n",
       "      <td>NaN</td>\n",
       "      <td>NaN</td>\n",
       "      <td>NaN</td>\n",
       "      <td>NaN</td>\n",
       "      <td>NaN</td>\n",
       "    </tr>\n",
       "    <tr>\n",
       "      <th>23552</th>\n",
       "      <td>NaN</td>\n",
       "      <td>NaN</td>\n",
       "      <td>NaN</td>\n",
       "      <td>0</td>\n",
       "      <td>NaN</td>\n",
       "      <td>0.545455</td>\n",
       "      <td>0.294118</td>\n",
       "      <td>0.75</td>\n",
       "      <td>NaN</td>\n",
       "      <td>-1</td>\n",
       "      <td>...</td>\n",
       "      <td>NaN</td>\n",
       "      <td>0.333333</td>\n",
       "      <td>NaN</td>\n",
       "      <td>NaN</td>\n",
       "      <td>NaN</td>\n",
       "      <td>0.75</td>\n",
       "      <td>NaN</td>\n",
       "      <td>NaN</td>\n",
       "      <td>NaN</td>\n",
       "      <td>NaN</td>\n",
       "    </tr>\n",
       "    <tr>\n",
       "      <th>23689</th>\n",
       "      <td>NaN</td>\n",
       "      <td>NaN</td>\n",
       "      <td>NaN</td>\n",
       "      <td>NaN</td>\n",
       "      <td>NaN</td>\n",
       "      <td>NaN</td>\n",
       "      <td>NaN</td>\n",
       "      <td>NaN</td>\n",
       "      <td>NaN</td>\n",
       "      <td>NaN</td>\n",
       "      <td>...</td>\n",
       "      <td>-0.5</td>\n",
       "      <td>NaN</td>\n",
       "      <td>NaN</td>\n",
       "      <td>NaN</td>\n",
       "      <td>NaN</td>\n",
       "      <td>NaN</td>\n",
       "      <td>NaN</td>\n",
       "      <td>NaN</td>\n",
       "      <td>NaN</td>\n",
       "      <td>NaN</td>\n",
       "    </tr>\n",
       "    <tr>\n",
       "      <th>24037</th>\n",
       "      <td>1</td>\n",
       "      <td>1</td>\n",
       "      <td>NaN</td>\n",
       "      <td>NaN</td>\n",
       "      <td>NaN</td>\n",
       "      <td>NaN</td>\n",
       "      <td>NaN</td>\n",
       "      <td>NaN</td>\n",
       "      <td>NaN</td>\n",
       "      <td>NaN</td>\n",
       "      <td>...</td>\n",
       "      <td>NaN</td>\n",
       "      <td>1.000000</td>\n",
       "      <td>NaN</td>\n",
       "      <td>NaN</td>\n",
       "      <td>NaN</td>\n",
       "      <td>0.60</td>\n",
       "      <td>NaN</td>\n",
       "      <td>NaN</td>\n",
       "      <td>NaN</td>\n",
       "      <td>NaN</td>\n",
       "    </tr>\n",
       "    <tr>\n",
       "      <th>24051</th>\n",
       "      <td>NaN</td>\n",
       "      <td>NaN</td>\n",
       "      <td>NaN</td>\n",
       "      <td>NaN</td>\n",
       "      <td>NaN</td>\n",
       "      <td>NaN</td>\n",
       "      <td>NaN</td>\n",
       "      <td>NaN</td>\n",
       "      <td>NaN</td>\n",
       "      <td>NaN</td>\n",
       "      <td>...</td>\n",
       "      <td>NaN</td>\n",
       "      <td>1.000000</td>\n",
       "      <td>NaN</td>\n",
       "      <td>NaN</td>\n",
       "      <td>NaN</td>\n",
       "      <td>1.00</td>\n",
       "      <td>NaN</td>\n",
       "      <td>NaN</td>\n",
       "      <td>NaN</td>\n",
       "      <td>NaN</td>\n",
       "    </tr>\n",
       "  </tbody>\n",
       "</table>\n",
       "<p>5 rows × 142 columns</p>\n",
       "</div>"
      ],
      "text/plain": [
       "Problem_Type  _ajacoby_idPropertyLvl1  _ajacoby_idPropertyLvl2  \\\n",
       "Student_ID                                                       \n",
       "9842                              NaN                      NaN   \n",
       "23552                             NaN                      NaN   \n",
       "23689                             NaN                      NaN   \n",
       "24037                               1                        1   \n",
       "24051                             NaN                      NaN   \n",
       "\n",
       "Problem_Type  _bmueller_ptWordProblems  _bmueller_quadFactoredToStandard  \\\n",
       "Student_ID                                                                 \n",
       "9842                               NaN                                -1   \n",
       "23552                              NaN                                 0   \n",
       "23689                              NaN                               NaN   \n",
       "24037                              NaN                               NaN   \n",
       "24051                              NaN                               NaN   \n",
       "\n",
       "Problem_Type  _bmueller_quadInterceptCoefficients  \\\n",
       "Student_ID                                          \n",
       "9842                                          NaN   \n",
       "23552                                         NaN   \n",
       "23689                                         NaN   \n",
       "24037                                         NaN   \n",
       "24051                                         NaN   \n",
       "\n",
       "Problem_Type  _bmueller_quadStandardCoefficients  \\\n",
       "Student_ID                                         \n",
       "9842                                         NaN   \n",
       "23552                                   0.545455   \n",
       "23689                                        NaN   \n",
       "24037                                        NaN   \n",
       "24051                                        NaN   \n",
       "\n",
       "Problem_Type  _bmueller_quadVertexCoefficients  \\\n",
       "Student_ID                                       \n",
       "9842                                       NaN   \n",
       "23552                                 0.294118   \n",
       "23689                                      NaN   \n",
       "24037                                      NaN   \n",
       "24051                                      NaN   \n",
       "\n",
       "Problem_Type  _bmueller_quadVertexToStandard  _bmueller_rateOfChangeUnits  \\\n",
       "Student_ID                                                                  \n",
       "9842                                     NaN                          NaN   \n",
       "23552                                   0.75                          NaN   \n",
       "23689                                    NaN                          NaN   \n",
       "24037                                    NaN                          NaN   \n",
       "24051                                    NaN                          NaN   \n",
       "\n",
       "Problem_Type  _bmueller_tableToEquation1         ...          \\\n",
       "Student_ID                                       ...           \n",
       "9842                                 NaN         ...           \n",
       "23552                                 -1         ...           \n",
       "23689                                NaN         ...           \n",
       "24037                                NaN         ...           \n",
       "24051                                NaN         ...           \n",
       "\n",
       "Problem_Type  solveTrinomialFactorA23456  standardToSlopeIntForm  \\\n",
       "Student_ID                                                         \n",
       "9842                                 NaN                0.125000   \n",
       "23552                                NaN                0.333333   \n",
       "23689                               -0.5                     NaN   \n",
       "24037                                NaN                1.000000   \n",
       "24051                                NaN                1.000000   \n",
       "\n",
       "Problem_Type  trigFindAngleA1  trigFindSideA1  vertexForm  writeLineEquation  \\\n",
       "Student_ID                                                                     \n",
       "9842                      NaN             NaN         NaN                NaN   \n",
       "23552                     NaN             NaN         NaN               0.75   \n",
       "23689                     NaN             NaN         NaN                NaN   \n",
       "24037                     NaN             NaN         NaN               0.60   \n",
       "24051                     NaN             NaN         NaN               1.00   \n",
       "\n",
       "Problem_Type  xGameLevel1  xGameLevel2  xGameLevel3  xGameMasterProduct  \n",
       "Student_ID                                                               \n",
       "9842                  NaN          NaN          NaN                 NaN  \n",
       "23552                 NaN          NaN          NaN                 NaN  \n",
       "23689                 NaN          NaN          NaN                 NaN  \n",
       "24037                 NaN          NaN          NaN                 NaN  \n",
       "24051                 NaN          NaN          NaN                 NaN  \n",
       "\n",
       "[5 rows x 142 columns]"
      ]
     },
     "execution_count": 263,
     "metadata": {},
     "output_type": "execute_result"
    }
   ],
   "source": [
    "df.head()"
   ]
  },
  {
   "cell_type": "code",
   "execution_count": 266,
   "metadata": {
    "collapsed": true
   },
   "outputs": [],
   "source": [
    "df = df.fillna(df.mean(axis=0))"
   ]
  },
  {
   "cell_type": "code",
   "execution_count": 267,
   "metadata": {},
   "outputs": [
    {
     "data": {
      "text/html": [
       "<div>\n",
       "<table border=\"1\" class=\"dataframe\">\n",
       "  <thead>\n",
       "    <tr style=\"text-align: right;\">\n",
       "      <th>Problem_Type</th>\n",
       "      <th>_ajacoby_idPropertyLvl1</th>\n",
       "      <th>_ajacoby_idPropertyLvl2</th>\n",
       "      <th>_bmueller_ptWordProblems</th>\n",
       "      <th>_bmueller_quadFactoredToStandard</th>\n",
       "      <th>_bmueller_quadInterceptCoefficients</th>\n",
       "      <th>_bmueller_quadStandardCoefficients</th>\n",
       "      <th>_bmueller_quadVertexCoefficients</th>\n",
       "      <th>_bmueller_quadVertexToStandard</th>\n",
       "      <th>_bmueller_rateOfChangeUnits</th>\n",
       "      <th>_bmueller_tableToEquation1</th>\n",
       "      <th>...</th>\n",
       "      <th>solveTrinomialFactorA23456</th>\n",
       "      <th>standardToSlopeIntForm</th>\n",
       "      <th>trigFindAngleA1</th>\n",
       "      <th>trigFindSideA1</th>\n",
       "      <th>vertexForm</th>\n",
       "      <th>writeLineEquation</th>\n",
       "      <th>xGameLevel1</th>\n",
       "      <th>xGameLevel2</th>\n",
       "      <th>xGameLevel3</th>\n",
       "      <th>xGameMasterProduct</th>\n",
       "    </tr>\n",
       "    <tr>\n",
       "      <th>Student_ID</th>\n",
       "      <th></th>\n",
       "      <th></th>\n",
       "      <th></th>\n",
       "      <th></th>\n",
       "      <th></th>\n",
       "      <th></th>\n",
       "      <th></th>\n",
       "      <th></th>\n",
       "      <th></th>\n",
       "      <th></th>\n",
       "      <th></th>\n",
       "      <th></th>\n",
       "      <th></th>\n",
       "      <th></th>\n",
       "      <th></th>\n",
       "      <th></th>\n",
       "      <th></th>\n",
       "      <th></th>\n",
       "      <th></th>\n",
       "      <th></th>\n",
       "      <th></th>\n",
       "    </tr>\n",
       "  </thead>\n",
       "  <tbody>\n",
       "    <tr>\n",
       "      <th>9842</th>\n",
       "      <td>0.586922</td>\n",
       "      <td>0.507386</td>\n",
       "      <td>0.594412</td>\n",
       "      <td>-1.000000</td>\n",
       "      <td>0.478771</td>\n",
       "      <td>0.424498</td>\n",
       "      <td>0.468979</td>\n",
       "      <td>0.262753</td>\n",
       "      <td>0.425657</td>\n",
       "      <td>0.405235</td>\n",
       "      <td>...</td>\n",
       "      <td>0.499193</td>\n",
       "      <td>0.125000</td>\n",
       "      <td>0.05927</td>\n",
       "      <td>-0.080833</td>\n",
       "      <td>0.291134</td>\n",
       "      <td>0.514493</td>\n",
       "      <td>0.766741</td>\n",
       "      <td>0.638553</td>\n",
       "      <td>0.574799</td>\n",
       "      <td>0.142683</td>\n",
       "    </tr>\n",
       "    <tr>\n",
       "      <th>23552</th>\n",
       "      <td>0.586922</td>\n",
       "      <td>0.507386</td>\n",
       "      <td>0.594412</td>\n",
       "      <td>0.000000</td>\n",
       "      <td>0.478771</td>\n",
       "      <td>0.545455</td>\n",
       "      <td>0.294118</td>\n",
       "      <td>0.750000</td>\n",
       "      <td>0.425657</td>\n",
       "      <td>-1.000000</td>\n",
       "      <td>...</td>\n",
       "      <td>0.499193</td>\n",
       "      <td>0.333333</td>\n",
       "      <td>0.05927</td>\n",
       "      <td>-0.080833</td>\n",
       "      <td>0.291134</td>\n",
       "      <td>0.750000</td>\n",
       "      <td>0.766741</td>\n",
       "      <td>0.638553</td>\n",
       "      <td>0.574799</td>\n",
       "      <td>0.142683</td>\n",
       "    </tr>\n",
       "    <tr>\n",
       "      <th>23689</th>\n",
       "      <td>0.586922</td>\n",
       "      <td>0.507386</td>\n",
       "      <td>0.594412</td>\n",
       "      <td>0.306127</td>\n",
       "      <td>0.478771</td>\n",
       "      <td>0.424498</td>\n",
       "      <td>0.468979</td>\n",
       "      <td>0.262753</td>\n",
       "      <td>0.425657</td>\n",
       "      <td>0.405235</td>\n",
       "      <td>...</td>\n",
       "      <td>-0.500000</td>\n",
       "      <td>0.408613</td>\n",
       "      <td>0.05927</td>\n",
       "      <td>-0.080833</td>\n",
       "      <td>0.291134</td>\n",
       "      <td>0.514493</td>\n",
       "      <td>0.766741</td>\n",
       "      <td>0.638553</td>\n",
       "      <td>0.574799</td>\n",
       "      <td>0.142683</td>\n",
       "    </tr>\n",
       "    <tr>\n",
       "      <th>24037</th>\n",
       "      <td>1.000000</td>\n",
       "      <td>1.000000</td>\n",
       "      <td>0.594412</td>\n",
       "      <td>0.306127</td>\n",
       "      <td>0.478771</td>\n",
       "      <td>0.424498</td>\n",
       "      <td>0.468979</td>\n",
       "      <td>0.262753</td>\n",
       "      <td>0.425657</td>\n",
       "      <td>0.405235</td>\n",
       "      <td>...</td>\n",
       "      <td>0.499193</td>\n",
       "      <td>1.000000</td>\n",
       "      <td>0.05927</td>\n",
       "      <td>-0.080833</td>\n",
       "      <td>0.291134</td>\n",
       "      <td>0.600000</td>\n",
       "      <td>0.766741</td>\n",
       "      <td>0.638553</td>\n",
       "      <td>0.574799</td>\n",
       "      <td>0.142683</td>\n",
       "    </tr>\n",
       "    <tr>\n",
       "      <th>24051</th>\n",
       "      <td>0.586922</td>\n",
       "      <td>0.507386</td>\n",
       "      <td>0.594412</td>\n",
       "      <td>0.306127</td>\n",
       "      <td>0.478771</td>\n",
       "      <td>0.424498</td>\n",
       "      <td>0.468979</td>\n",
       "      <td>0.262753</td>\n",
       "      <td>0.425657</td>\n",
       "      <td>0.405235</td>\n",
       "      <td>...</td>\n",
       "      <td>0.499193</td>\n",
       "      <td>1.000000</td>\n",
       "      <td>0.05927</td>\n",
       "      <td>-0.080833</td>\n",
       "      <td>0.291134</td>\n",
       "      <td>1.000000</td>\n",
       "      <td>0.766741</td>\n",
       "      <td>0.638553</td>\n",
       "      <td>0.574799</td>\n",
       "      <td>0.142683</td>\n",
       "    </tr>\n",
       "  </tbody>\n",
       "</table>\n",
       "<p>5 rows × 142 columns</p>\n",
       "</div>"
      ],
      "text/plain": [
       "Problem_Type  _ajacoby_idPropertyLvl1  _ajacoby_idPropertyLvl2  \\\n",
       "Student_ID                                                       \n",
       "9842                         0.586922                 0.507386   \n",
       "23552                        0.586922                 0.507386   \n",
       "23689                        0.586922                 0.507386   \n",
       "24037                        1.000000                 1.000000   \n",
       "24051                        0.586922                 0.507386   \n",
       "\n",
       "Problem_Type  _bmueller_ptWordProblems  _bmueller_quadFactoredToStandard  \\\n",
       "Student_ID                                                                 \n",
       "9842                          0.594412                         -1.000000   \n",
       "23552                         0.594412                          0.000000   \n",
       "23689                         0.594412                          0.306127   \n",
       "24037                         0.594412                          0.306127   \n",
       "24051                         0.594412                          0.306127   \n",
       "\n",
       "Problem_Type  _bmueller_quadInterceptCoefficients  \\\n",
       "Student_ID                                          \n",
       "9842                                     0.478771   \n",
       "23552                                    0.478771   \n",
       "23689                                    0.478771   \n",
       "24037                                    0.478771   \n",
       "24051                                    0.478771   \n",
       "\n",
       "Problem_Type  _bmueller_quadStandardCoefficients  \\\n",
       "Student_ID                                         \n",
       "9842                                    0.424498   \n",
       "23552                                   0.545455   \n",
       "23689                                   0.424498   \n",
       "24037                                   0.424498   \n",
       "24051                                   0.424498   \n",
       "\n",
       "Problem_Type  _bmueller_quadVertexCoefficients  \\\n",
       "Student_ID                                       \n",
       "9842                                  0.468979   \n",
       "23552                                 0.294118   \n",
       "23689                                 0.468979   \n",
       "24037                                 0.468979   \n",
       "24051                                 0.468979   \n",
       "\n",
       "Problem_Type  _bmueller_quadVertexToStandard  _bmueller_rateOfChangeUnits  \\\n",
       "Student_ID                                                                  \n",
       "9842                                0.262753                     0.425657   \n",
       "23552                               0.750000                     0.425657   \n",
       "23689                               0.262753                     0.425657   \n",
       "24037                               0.262753                     0.425657   \n",
       "24051                               0.262753                     0.425657   \n",
       "\n",
       "Problem_Type  _bmueller_tableToEquation1         ...          \\\n",
       "Student_ID                                       ...           \n",
       "9842                            0.405235         ...           \n",
       "23552                          -1.000000         ...           \n",
       "23689                           0.405235         ...           \n",
       "24037                           0.405235         ...           \n",
       "24051                           0.405235         ...           \n",
       "\n",
       "Problem_Type  solveTrinomialFactorA23456  standardToSlopeIntForm  \\\n",
       "Student_ID                                                         \n",
       "9842                            0.499193                0.125000   \n",
       "23552                           0.499193                0.333333   \n",
       "23689                          -0.500000                0.408613   \n",
       "24037                           0.499193                1.000000   \n",
       "24051                           0.499193                1.000000   \n",
       "\n",
       "Problem_Type  trigFindAngleA1  trigFindSideA1  vertexForm  writeLineEquation  \\\n",
       "Student_ID                                                                     \n",
       "9842                  0.05927       -0.080833    0.291134           0.514493   \n",
       "23552                 0.05927       -0.080833    0.291134           0.750000   \n",
       "23689                 0.05927       -0.080833    0.291134           0.514493   \n",
       "24037                 0.05927       -0.080833    0.291134           0.600000   \n",
       "24051                 0.05927       -0.080833    0.291134           1.000000   \n",
       "\n",
       "Problem_Type  xGameLevel1  xGameLevel2  xGameLevel3  xGameMasterProduct  \n",
       "Student_ID                                                               \n",
       "9842             0.766741     0.638553     0.574799            0.142683  \n",
       "23552            0.766741     0.638553     0.574799            0.142683  \n",
       "23689            0.766741     0.638553     0.574799            0.142683  \n",
       "24037            0.766741     0.638553     0.574799            0.142683  \n",
       "24051            0.766741     0.638553     0.574799            0.142683  \n",
       "\n",
       "[5 rows x 142 columns]"
      ]
     },
     "execution_count": 267,
     "metadata": {},
     "output_type": "execute_result"
    }
   ],
   "source": [
    "df.head()"
   ]
  },
  {
   "cell_type": "code",
   "execution_count": 387,
   "metadata": {
    "scrolled": true
   },
   "outputs": [
    {
     "data": {
      "text/plain": [
       "<matplotlib.axes._subplots.AxesSubplot at 0x118261f90>"
      ]
     },
     "execution_count": 387,
     "metadata": {},
     "output_type": "execute_result"
    },
    {
     "data": {
      "image/png": "[encoded data removed]",
      "text/plain": [
       "<matplotlib.figure.Figure at 0x11f231690>"
      ]
     },
     "metadata": {},
     "output_type": "display_data"
    }
   ],
   "source": [
    "df.mean(axis=0).hist()"
   ]
  },
  {
   "cell_type": "code",
   "execution_count": 226,
   "metadata": {},
   "outputs": [],
   "source": [
    "q_submissions = algebra_students_10plus_problem_types.count(axis=1)"
   ]
  },
  {
   "cell_type": "code",
   "execution_count": 4,
   "metadata": {},
   "outputs": [],
   "source": [
    "# q_submissions"
   ]
  },
  {
   "cell_type": "code",
   "execution_count": 228,
   "metadata": {},
   "outputs": [
    {
     "data": {
      "text/html": [
       "<div>\n",
       "<table border=\"1\" class=\"dataframe\">\n",
       "  <thead>\n",
       "    <tr style=\"text-align: right;\">\n",
       "      <th></th>\n",
       "      <th>Problem_Type</th>\n",
       "      <th>Mean</th>\n",
       "      <th>Difficulty</th>\n",
       "    </tr>\n",
       "  </thead>\n",
       "  <tbody>\n",
       "    <tr>\n",
       "      <th>0</th>\n",
       "      <td>_ajacoby_idPropertyLvl1</td>\n",
       "      <td>0.586922</td>\n",
       "      <td>0.413078</td>\n",
       "    </tr>\n",
       "    <tr>\n",
       "      <th>1</th>\n",
       "      <td>_ajacoby_idPropertyLvl2</td>\n",
       "      <td>0.507386</td>\n",
       "      <td>0.492614</td>\n",
       "    </tr>\n",
       "    <tr>\n",
       "      <th>2</th>\n",
       "      <td>_bmueller_ptWordProblems</td>\n",
       "      <td>0.594412</td>\n",
       "      <td>0.405588</td>\n",
       "    </tr>\n",
       "    <tr>\n",
       "      <th>3</th>\n",
       "      <td>_bmueller_quadFactoredToStandard</td>\n",
       "      <td>0.306127</td>\n",
       "      <td>0.693873</td>\n",
       "    </tr>\n",
       "    <tr>\n",
       "      <th>4</th>\n",
       "      <td>_bmueller_quadInterceptCoefficients</td>\n",
       "      <td>0.478771</td>\n",
       "      <td>0.521229</td>\n",
       "    </tr>\n",
       "  </tbody>\n",
       "</table>\n",
       "</div>"
      ],
      "text/plain": [
       "                          Problem_Type      Mean  Difficulty\n",
       "0              _ajacoby_idPropertyLvl1  0.586922    0.413078\n",
       "1              _ajacoby_idPropertyLvl2  0.507386    0.492614\n",
       "2             _bmueller_ptWordProblems  0.594412    0.405588\n",
       "3     _bmueller_quadFactoredToStandard  0.306127    0.693873\n",
       "4  _bmueller_quadInterceptCoefficients  0.478771    0.521229"
      ]
     },
     "execution_count": 228,
     "metadata": {},
     "output_type": "execute_result"
    }
   ],
   "source": [
    "q_difficulty.head()"
   ]
  },
  {
   "cell_type": "code",
   "execution_count": 229,
   "metadata": {
    "collapsed": true
   },
   "outputs": [],
   "source": [
    "q_difficulty['Submissions'] = q_submissions"
   ]
  },
  {
   "cell_type": "code",
   "execution_count": 234,
   "metadata": {},
   "outputs": [],
   "source": [
    "q_data = q_difficulty.set_index('Problem_Type')"
   ]
  },
  {
   "cell_type": "code",
   "execution_count": 235,
   "metadata": {
    "collapsed": true
   },
   "outputs": [],
   "source": [
    "q_data['Submissions'] = q_submissions"
   ]
  },
  {
   "cell_type": "code",
   "execution_count": 236,
   "metadata": {},
   "outputs": [
    {
     "data": {
      "text/html": [
       "<div>\n",
       "<table border=\"1\" class=\"dataframe\">\n",
       "  <thead>\n",
       "    <tr style=\"text-align: right;\">\n",
       "      <th></th>\n",
       "      <th>Mean</th>\n",
       "      <th>Difficulty</th>\n",
       "      <th>Submissions</th>\n",
       "    </tr>\n",
       "    <tr>\n",
       "      <th>Problem_Type</th>\n",
       "      <th></th>\n",
       "      <th></th>\n",
       "      <th></th>\n",
       "    </tr>\n",
       "  </thead>\n",
       "  <tbody>\n",
       "    <tr>\n",
       "      <th>_ajacoby_idPropertyLvl1</th>\n",
       "      <td>0.586922</td>\n",
       "      <td>0.413078</td>\n",
       "      <td>1554</td>\n",
       "    </tr>\n",
       "    <tr>\n",
       "      <th>_ajacoby_idPropertyLvl2</th>\n",
       "      <td>0.507386</td>\n",
       "      <td>0.492614</td>\n",
       "      <td>1928</td>\n",
       "    </tr>\n",
       "    <tr>\n",
       "      <th>_bmueller_ptWordProblems</th>\n",
       "      <td>0.594412</td>\n",
       "      <td>0.405588</td>\n",
       "      <td>210</td>\n",
       "    </tr>\n",
       "    <tr>\n",
       "      <th>_bmueller_quadFactoredToStandard</th>\n",
       "      <td>0.306127</td>\n",
       "      <td>0.693873</td>\n",
       "      <td>585</td>\n",
       "    </tr>\n",
       "    <tr>\n",
       "      <th>_bmueller_quadInterceptCoefficients</th>\n",
       "      <td>0.478771</td>\n",
       "      <td>0.521229</td>\n",
       "      <td>542</td>\n",
       "    </tr>\n",
       "  </tbody>\n",
       "</table>\n",
       "</div>"
      ],
      "text/plain": [
       "                                         Mean  Difficulty  Submissions\n",
       "Problem_Type                                                          \n",
       "_ajacoby_idPropertyLvl1              0.586922    0.413078         1554\n",
       "_ajacoby_idPropertyLvl2              0.507386    0.492614         1928\n",
       "_bmueller_ptWordProblems             0.594412    0.405588          210\n",
       "_bmueller_quadFactoredToStandard     0.306127    0.693873          585\n",
       "_bmueller_quadInterceptCoefficients  0.478771    0.521229          542"
      ]
     },
     "execution_count": 236,
     "metadata": {},
     "output_type": "execute_result"
    }
   ],
   "source": [
    "q_data.head()"
   ]
  },
  {
   "cell_type": "code",
   "execution_count": 248,
   "metadata": {
    "collapsed": true
   },
   "outputs": [],
   "source": [
    "%matplotlib inline"
   ]
  },
  {
   "cell_type": "code",
   "execution_count": 249,
   "metadata": {},
   "outputs": [
    {
     "data": {
      "text/plain": [
       "<matplotlib.axes._subplots.AxesSubplot at 0x11f164d50>"
      ]
     },
     "execution_count": 249,
     "metadata": {},
     "output_type": "execute_result"
    },
    {
     "data": {
      "image/png": "[encoded data removed]",
      "text/plain": [
       "<matplotlib.figure.Figure at 0x11f11ad10>"
      ]
     },
     "metadata": {},
     "output_type": "display_data"
    }
   ],
   "source": [
    "q_data.Submissions.hist()"
   ]
  },
  {
   "cell_type": "code",
   "execution_count": 250,
   "metadata": {},
   "outputs": [
    {
     "data": {
      "text/plain": [
       "76"
      ]
     },
     "execution_count": 250,
     "metadata": {},
     "output_type": "execute_result"
    }
   ],
   "source": [
    "len(q_data[q_data.Submissions>500])"
   ]
  },
  {
   "cell_type": "code",
   "execution_count": 388,
   "metadata": {},
   "outputs": [
    {
     "data": {
      "text/html": [
       "<div>\n",
       "<table border=\"1\" class=\"dataframe\">\n",
       "  <thead>\n",
       "    <tr style=\"text-align: right;\">\n",
       "      <th></th>\n",
       "      <th>Mean</th>\n",
       "      <th>Difficulty</th>\n",
       "      <th>Submissions</th>\n",
       "    </tr>\n",
       "    <tr>\n",
       "      <th>Problem_Type</th>\n",
       "      <th></th>\n",
       "      <th></th>\n",
       "      <th></th>\n",
       "    </tr>\n",
       "  </thead>\n",
       "  <tbody>\n",
       "  </tbody>\n",
       "</table>\n",
       "</div>"
      ],
      "text/plain": [
       "Empty DataFrame\n",
       "Columns: [Mean, Difficulty, Submissions]\n",
       "Index: []"
      ]
     },
     "execution_count": 388,
     "metadata": {},
     "output_type": "execute_result"
    }
   ],
   "source": [
    "q_data[(q_data.Difficulty>2)]"
   ]
  },
  {
   "cell_type": "code",
   "execution_count": 381,
   "metadata": {},
   "outputs": [
    {
     "data": {
      "text/html": [
       "<div>\n",
       "<table border=\"1\" class=\"dataframe\">\n",
       "  <thead>\n",
       "    <tr style=\"text-align: right;\">\n",
       "      <th></th>\n",
       "      <th>Mean</th>\n",
       "      <th>Difficulty</th>\n",
       "      <th>Submissions</th>\n",
       "    </tr>\n",
       "  </thead>\n",
       "  <tbody>\n",
       "    <tr>\n",
       "      <th>count</th>\n",
       "      <td>141.000000</td>\n",
       "      <td>141.000000</td>\n",
       "      <td>142.00000</td>\n",
       "    </tr>\n",
       "    <tr>\n",
       "      <th>mean</th>\n",
       "      <td>0.389226</td>\n",
       "      <td>0.610774</td>\n",
       "      <td>916.43662</td>\n",
       "    </tr>\n",
       "    <tr>\n",
       "      <th>std</th>\n",
       "      <td>0.269869</td>\n",
       "      <td>0.269869</td>\n",
       "      <td>994.34286</td>\n",
       "    </tr>\n",
       "    <tr>\n",
       "      <th>min</th>\n",
       "      <td>-1.000000</td>\n",
       "      <td>0.094444</td>\n",
       "      <td>0.00000</td>\n",
       "    </tr>\n",
       "    <tr>\n",
       "      <th>25%</th>\n",
       "      <td>0.264734</td>\n",
       "      <td>0.455640</td>\n",
       "      <td>187.00000</td>\n",
       "    </tr>\n",
       "    <tr>\n",
       "      <th>50%</th>\n",
       "      <td>0.424498</td>\n",
       "      <td>0.575502</td>\n",
       "      <td>584.00000</td>\n",
       "    </tr>\n",
       "    <tr>\n",
       "      <th>75%</th>\n",
       "      <td>0.544360</td>\n",
       "      <td>0.735266</td>\n",
       "      <td>1331.50000</td>\n",
       "    </tr>\n",
       "    <tr>\n",
       "      <th>max</th>\n",
       "      <td>0.905556</td>\n",
       "      <td>2.000000</td>\n",
       "      <td>4330.00000</td>\n",
       "    </tr>\n",
       "  </tbody>\n",
       "</table>\n",
       "</div>"
      ],
      "text/plain": [
       "             Mean  Difficulty  Submissions\n",
       "count  141.000000  141.000000    142.00000\n",
       "mean     0.389226    0.610774    916.43662\n",
       "std      0.269869    0.269869    994.34286\n",
       "min     -1.000000    0.094444      0.00000\n",
       "25%      0.264734    0.455640    187.00000\n",
       "50%      0.424498    0.575502    584.00000\n",
       "75%      0.544360    0.735266   1331.50000\n",
       "max      0.905556    2.000000   4330.00000"
      ]
     },
     "execution_count": 381,
     "metadata": {},
     "output_type": "execute_result"
    }
   ],
   "source": [
    "q_data.describe()"
   ]
  },
  {
   "cell_type": "code",
   "execution_count": 5,
   "metadata": {},
   "outputs": [],
   "source": [
    "# q_data.sort(columns='Submissions', ascending=False)"
   ]
  },
  {
   "cell_type": "code",
   "execution_count": 243,
   "metadata": {
    "collapsed": true
   },
   "outputs": [],
   "source": [
    "q_data.sort?"
   ]
  },
  {
   "cell_type": "code",
   "execution_count": 252,
   "metadata": {},
   "outputs": [
    {
     "data": {
      "text/plain": [
       "True"
      ]
     },
     "execution_count": 252,
     "metadata": {},
     "output_type": "execute_result"
    }
   ],
   "source": [
    "5 in range(10)"
   ]
  },
  {
   "cell_type": "code",
   "execution_count": 412,
   "metadata": {},
   "outputs": [],
   "source": [
    "def Qslopefrompoints():\n",
    "    x1 = np.random.randint(-10,10)\n",
    "    x2 = np.random.randint(-10,10)\n",
    "    y1 = np.random.randint(-10,10)\n",
    "    y2 = np.random.randint(-10,10)\n",
    "    q = 'Find the slope between (%s, %s) and (%s, %s).' %(x1,y1,x2,y2)\n",
    "    a ='%s/%s'%((y2-y1),(x2-x1))\n",
    "    return [q,a]"
   ]
  },
  {
   "cell_type": "code",
   "execution_count": 413,
   "metadata": {},
   "outputs": [],
   "source": [
    "qas=[]\n",
    "for i in range(50):\n",
    "    qas.append(Qslopefrompoints())"
   ]
  },
  {
   "cell_type": "code",
   "execution_count": 414,
   "metadata": {
    "collapsed": true
   },
   "outputs": [],
   "source": [
    "def printQ():\n",
    "    qa = qas[np.random.choice(range(50))]\n",
    "    q=qa[0]\n",
    "    a=qa[1]\n",
    "    print 'Find the slope between %s.' %q\n",
    "    print 'Answer:', a"
   ]
  },
  {
   "cell_type": "code",
   "execution_count": 415,
   "metadata": {},
   "outputs": [
    {
     "name": "stdout",
     "output_type": "stream",
     "text": [
      "Find the slope between (8, -3) and (-7, 1).\n",
      "Answer: 4/-15\n"
     ]
    }
   ],
   "source": [
    "printQ()"
   ]
  },
  {
   "cell_type": "code",
   "execution_count": 401,
   "metadata": {},
   "outputs": [],
   "source": [
    "qas1 = qas"
   ]
  },
  {
   "cell_type": "code",
   "execution_count": 6,
   "metadata": {},
   "outputs": [],
   "source": [
    "# qas"
   ]
  },
  {
   "cell_type": "code",
   "execution_count": 420,
   "metadata": {},
   "outputs": [],
   "source": [
    "for qa in qas:\n",
    "    qa[0] = 'Find the slope between %s.' %qa[0]"
   ]
  },
  {
   "cell_type": "code",
   "execution_count": 7,
   "metadata": {},
   "outputs": [],
   "source": [
    "# qas"
   ]
  },
  {
   "cell_type": "code",
   "execution_count": 403,
   "metadata": {
    "collapsed": true
   },
   "outputs": [],
   "source": [
    "qas = []"
   ]
  },
  {
   "cell_type": "code",
   "execution_count": 404,
   "metadata": {
    "collapsed": true
   },
   "outputs": [],
   "source": [
    "qas.append(qas1)"
   ]
  },
  {
   "cell_type": "code",
   "execution_count": 356,
   "metadata": {},
   "outputs": [
    {
     "data": {
      "text/html": [
       "<div>\n",
       "<table border=\"1\" class=\"dataframe\">\n",
       "  <thead>\n",
       "    <tr style=\"text-align: right;\">\n",
       "      <th></th>\n",
       "      <th>Problem_Type</th>\n",
       "      <th>Mean</th>\n",
       "      <th>Difficulty</th>\n",
       "    </tr>\n",
       "  </thead>\n",
       "  <tbody>\n",
       "    <tr>\n",
       "      <th>0</th>\n",
       "      <td>_ajacoby_idPropertyLvl1</td>\n",
       "      <td>0.586922</td>\n",
       "      <td>2.065388</td>\n",
       "    </tr>\n",
       "    <tr>\n",
       "      <th>1</th>\n",
       "      <td>_ajacoby_idPropertyLvl2</td>\n",
       "      <td>0.507386</td>\n",
       "      <td>2.463069</td>\n",
       "    </tr>\n",
       "    <tr>\n",
       "      <th>2</th>\n",
       "      <td>_bmueller_ptWordProblems</td>\n",
       "      <td>0.594412</td>\n",
       "      <td>2.027938</td>\n",
       "    </tr>\n",
       "    <tr>\n",
       "      <th>3</th>\n",
       "      <td>_bmueller_quadFactoredToStandard</td>\n",
       "      <td>0.306127</td>\n",
       "      <td>3.469364</td>\n",
       "    </tr>\n",
       "    <tr>\n",
       "      <th>4</th>\n",
       "      <td>_bmueller_quadInterceptCoefficients</td>\n",
       "      <td>0.478771</td>\n",
       "      <td>2.606143</td>\n",
       "    </tr>\n",
       "  </tbody>\n",
       "</table>\n",
       "</div>"
      ],
      "text/plain": [
       "                          Problem_Type      Mean  Difficulty\n",
       "0              _ajacoby_idPropertyLvl1  0.586922    2.065388\n",
       "1              _ajacoby_idPropertyLvl2  0.507386    2.463069\n",
       "2             _bmueller_ptWordProblems  0.594412    2.027938\n",
       "3     _bmueller_quadFactoredToStandard  0.306127    3.469364\n",
       "4  _bmueller_quadInterceptCoefficients  0.478771    2.606143"
      ]
     },
     "execution_count": 356,
     "metadata": {},
     "output_type": "execute_result"
    }
   ],
   "source": [
    "questions.head()"
   ]
  },
  {
   "cell_type": "code",
   "execution_count": 359,
   "metadata": {},
   "outputs": [
    {
     "name": "stderr",
     "output_type": "stream",
     "text": [
      "/Users/matthewmitchell/anaconda/lib/python2.7/site-packages/IPython/kernel/__main__.py:1: SettingWithCopyWarning: \n",
      "A value is trying to be set on a copy of a slice from a DataFrame.\n",
      "Try using .loc[row_indexer,col_indexer] = value instead\n",
      "\n",
      "See the the caveats in the documentation: http://pandas.pydata.org/pandas-docs/stable/indexing.html#indexing-view-versus-copy\n",
      "  if __name__ == '__main__':\n"
     ]
    }
   ],
   "source": [
    "questions['QAS']=questions.Problem_Type"
   ]
  },
  {
   "cell_type": "code",
   "execution_count": 365,
   "metadata": {},
   "outputs": [],
   "source": [
    "questions[questions.Problem_Type=='slopeFromPoints'].QAS = [qas]"
   ]
  },
  {
   "cell_type": "code",
   "execution_count": 367,
   "metadata": {},
   "outputs": [
    {
     "data": {
      "text/plain": [
       "113    slopeFromPoints\n",
       "Name: QAS, dtype: object"
      ]
     },
     "execution_count": 367,
     "metadata": {},
     "output_type": "execute_result"
    }
   ],
   "source": [
    "questions[questions.Problem_Type=='slopeFromPoints'].QAS"
   ]
  },
  {
   "cell_type": "code",
   "execution_count": 373,
   "metadata": {},
   "outputs": [],
   "source": [
    "questions.ix[113].QAS=[qas]"
   ]
  },
  {
   "cell_type": "code",
   "execution_count": 374,
   "metadata": {},
   "outputs": [
    {
     "data": {
      "text/plain": [
       "Problem_Type    slopeFromPoints\n",
       "Mean                  0.4414518\n",
       "Difficulty             2.792741\n",
       "QAS             slopeFromPoints\n",
       "Name: 113, dtype: object"
      ]
     },
     "execution_count": 374,
     "metadata": {},
     "output_type": "execute_result"
    }
   ],
   "source": [
    "questions.ix[113]"
   ]
  },
  {
   "cell_type": "code",
   "execution_count": 375,
   "metadata": {},
   "outputs": [
    {
     "data": {
      "text/plain": [
       "('(-9, 1) and (4, 2)', '1/13')"
      ]
     },
     "execution_count": 375,
     "metadata": {},
     "output_type": "execute_result"
    }
   ],
   "source": [
    "qas[0]"
   ]
  },
  {
   "cell_type": "code",
   "execution_count": 376,
   "metadata": {},
   "outputs": [
    {
     "data": {
      "text/html": [
       "<div>\n",
       "<table border=\"1\" class=\"dataframe\">\n",
       "  <thead>\n",
       "    <tr style=\"text-align: right;\">\n",
       "      <th></th>\n",
       "      <th>Problem_Type</th>\n",
       "      <th>Mean</th>\n",
       "      <th>Difficulty</th>\n",
       "      <th>QAS</th>\n",
       "    </tr>\n",
       "  </thead>\n",
       "  <tbody>\n",
       "    <tr>\n",
       "      <th>13</th>\n",
       "      <td>_jhall_AbsValFunc2</td>\n",
       "      <td>0.693587</td>\n",
       "      <td>1.532066</td>\n",
       "      <td>_jhall_AbsValFunc2</td>\n",
       "    </tr>\n",
       "    <tr>\n",
       "      <th>17</th>\n",
       "      <td>_jhall_CLTAlgTiles</td>\n",
       "      <td>0.695247</td>\n",
       "      <td>1.523765</td>\n",
       "      <td>_jhall_CLTAlgTiles</td>\n",
       "    </tr>\n",
       "    <tr>\n",
       "      <th>19</th>\n",
       "      <td>_jhall_CLTAlgTiles3</td>\n",
       "      <td>0.746374</td>\n",
       "      <td>1.268130</td>\n",
       "      <td>_jhall_CLTAlgTiles3</td>\n",
       "    </tr>\n",
       "    <tr>\n",
       "      <th>22</th>\n",
       "      <td>_jhall_FuncNotGraphL2</td>\n",
       "      <td>0.775308</td>\n",
       "      <td>1.123458</td>\n",
       "      <td>_jhall_FuncNotGraphL2</td>\n",
       "    </tr>\n",
       "    <tr>\n",
       "      <th>23</th>\n",
       "      <td>_jhall_IdPoints</td>\n",
       "      <td>0.810309</td>\n",
       "      <td>0.948454</td>\n",
       "      <td>_jhall_IdPoints</td>\n",
       "    </tr>\n",
       "    <tr>\n",
       "      <th>27</th>\n",
       "      <td>_jhall_SquRootFun2</td>\n",
       "      <td>0.715451</td>\n",
       "      <td>1.422747</td>\n",
       "      <td>_jhall_SquRootFun2</td>\n",
       "    </tr>\n",
       "    <tr>\n",
       "      <th>28</th>\n",
       "      <td>_jhall_SquRootFunc</td>\n",
       "      <td>0.684002</td>\n",
       "      <td>1.579988</td>\n",
       "      <td>_jhall_SquRootFunc</td>\n",
       "    </tr>\n",
       "    <tr>\n",
       "      <th>29</th>\n",
       "      <td>_jhall_TablePatterns</td>\n",
       "      <td>0.802062</td>\n",
       "      <td>0.989688</td>\n",
       "      <td>_jhall_TablePatterns</td>\n",
       "    </tr>\n",
       "    <tr>\n",
       "      <th>31</th>\n",
       "      <td>_jhall_simpleproportions</td>\n",
       "      <td>0.638477</td>\n",
       "      <td>1.807616</td>\n",
       "      <td>_jhall_simpleproportions</td>\n",
       "    </tr>\n",
       "    <tr>\n",
       "      <th>32</th>\n",
       "      <td>_jprairie_intervalNotation</td>\n",
       "      <td>0.663047</td>\n",
       "      <td>1.684764</td>\n",
       "      <td>_jprairie_intervalNotation</td>\n",
       "    </tr>\n",
       "    <tr>\n",
       "      <th>33</th>\n",
       "      <td>_jprairie_setComplement</td>\n",
       "      <td>0.742081</td>\n",
       "      <td>1.289597</td>\n",
       "      <td>_jprairie_setComplement</td>\n",
       "    </tr>\n",
       "    <tr>\n",
       "      <th>47</th>\n",
       "      <td>factorTrinomialHard</td>\n",
       "      <td>0.602177</td>\n",
       "      <td>1.989117</td>\n",
       "      <td>factorTrinomialHard</td>\n",
       "    </tr>\n",
       "    <tr>\n",
       "      <th>60</th>\n",
       "      <td>identifyFunctionPointsL1</td>\n",
       "      <td>0.693718</td>\n",
       "      <td>1.531412</td>\n",
       "      <td>identifyFunctionPointsL1</td>\n",
       "    </tr>\n",
       "    <tr>\n",
       "      <th>61</th>\n",
       "      <td>identifyFunctionTypeGraph</td>\n",
       "      <td>0.638816</td>\n",
       "      <td>1.805922</td>\n",
       "      <td>identifyFunctionTypeGraph</td>\n",
       "    </tr>\n",
       "    <tr>\n",
       "      <th>69</th>\n",
       "      <td>linearEquations</td>\n",
       "      <td>0.603348</td>\n",
       "      <td>1.983259</td>\n",
       "      <td>linearEquations</td>\n",
       "    </tr>\n",
       "    <tr>\n",
       "      <th>76</th>\n",
       "      <td>meanGraphicallySpread</td>\n",
       "      <td>0.726709</td>\n",
       "      <td>1.366453</td>\n",
       "      <td>meanGraphicallySpread</td>\n",
       "    </tr>\n",
       "    <tr>\n",
       "      <th>118</th>\n",
       "      <td>solveQuadraticRational</td>\n",
       "      <td>0.600368</td>\n",
       "      <td>1.998161</td>\n",
       "      <td>solveQuadraticRational</td>\n",
       "    </tr>\n",
       "    <tr>\n",
       "      <th>126</th>\n",
       "      <td>xGameLevel1</td>\n",
       "      <td>0.766741</td>\n",
       "      <td>1.166297</td>\n",
       "      <td>xGameLevel1</td>\n",
       "    </tr>\n",
       "    <tr>\n",
       "      <th>127</th>\n",
       "      <td>xGameLevel2</td>\n",
       "      <td>0.638553</td>\n",
       "      <td>1.807234</td>\n",
       "      <td>xGameLevel2</td>\n",
       "    </tr>\n",
       "  </tbody>\n",
       "</table>\n",
       "</div>"
      ],
      "text/plain": [
       "                   Problem_Type      Mean  Difficulty  \\\n",
       "13           _jhall_AbsValFunc2  0.693587    1.532066   \n",
       "17           _jhall_CLTAlgTiles  0.695247    1.523765   \n",
       "19          _jhall_CLTAlgTiles3  0.746374    1.268130   \n",
       "22        _jhall_FuncNotGraphL2  0.775308    1.123458   \n",
       "23              _jhall_IdPoints  0.810309    0.948454   \n",
       "27           _jhall_SquRootFun2  0.715451    1.422747   \n",
       "28           _jhall_SquRootFunc  0.684002    1.579988   \n",
       "29         _jhall_TablePatterns  0.802062    0.989688   \n",
       "31     _jhall_simpleproportions  0.638477    1.807616   \n",
       "32   _jprairie_intervalNotation  0.663047    1.684764   \n",
       "33      _jprairie_setComplement  0.742081    1.289597   \n",
       "47          factorTrinomialHard  0.602177    1.989117   \n",
       "60     identifyFunctionPointsL1  0.693718    1.531412   \n",
       "61    identifyFunctionTypeGraph  0.638816    1.805922   \n",
       "69              linearEquations  0.603348    1.983259   \n",
       "76        meanGraphicallySpread  0.726709    1.366453   \n",
       "118      solveQuadraticRational  0.600368    1.998161   \n",
       "126                 xGameLevel1  0.766741    1.166297   \n",
       "127                 xGameLevel2  0.638553    1.807234   \n",
       "\n",
       "                            QAS  \n",
       "13           _jhall_AbsValFunc2  \n",
       "17           _jhall_CLTAlgTiles  \n",
       "19          _jhall_CLTAlgTiles3  \n",
       "22        _jhall_FuncNotGraphL2  \n",
       "23              _jhall_IdPoints  \n",
       "27           _jhall_SquRootFun2  \n",
       "28           _jhall_SquRootFunc  \n",
       "29         _jhall_TablePatterns  \n",
       "31     _jhall_simpleproportions  \n",
       "32   _jprairie_intervalNotation  \n",
       "33      _jprairie_setComplement  \n",
       "47          factorTrinomialHard  \n",
       "60     identifyFunctionPointsL1  \n",
       "61    identifyFunctionTypeGraph  \n",
       "69              linearEquations  \n",
       "76        meanGraphicallySpread  \n",
       "118      solveQuadraticRational  \n",
       "126                 xGameLevel1  \n",
       "127                 xGameLevel2  "
      ]
     },
     "execution_count": 376,
     "metadata": {},
     "output_type": "execute_result"
    }
   ],
   "source": [
    "questions[questions.Difficulty<2]"
   ]
  },
  {
   "cell_type": "code",
   "execution_count": null,
   "metadata": {
    "collapsed": true
   },
   "outputs": [],
   "source": []
  }
 ],
 "metadata": {
  "kernelspec": {
   "display_name": "Python 3",
   "language": "python",
   "name": "python3"
  },
  "language_info": {
   "codemirror_mode": {
    "name": "ipython",
    "version": 3
   },
   "file_extension": ".py",
   "mimetype": "text/x-python",
   "name": "python",
   "nbconvert_exporter": "python",
   "pygments_lexer": "ipython3",
   "version": "3.6.3"
  }
 },
 "nbformat": 4,
 "nbformat_minor": 1
}
