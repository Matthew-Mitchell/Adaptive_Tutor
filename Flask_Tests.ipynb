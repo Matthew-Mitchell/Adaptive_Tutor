{
 "cells": [
  {
   "cell_type": "code",
   "execution_count": 1,
   "metadata": {
    "collapsed": true
   },
   "outputs": [],
   "source": [
    "import pandas as pd\n",
    "import numpy as np"
   ]
  },
  {
   "cell_type": "code",
   "execution_count": 2,
   "metadata": {
    "collapsed": false
   },
   "outputs": [
    {
     "data": {
      "text/plain": [
       "u'/Users/matthewmitchell/Desktop/Delta_Math_Data/my_app'"
      ]
     },
     "execution_count": 2,
     "metadata": {},
     "output_type": "execute_result"
    }
   ],
   "source": [
    "pwd"
   ]
  },
  {
   "cell_type": "code",
   "execution_count": 3,
   "metadata": {
    "collapsed": false
   },
   "outputs": [
    {
     "name": "stdout",
     "output_type": "stream",
     "text": [
      "Flask_Tests.ipynb              app.py                         question_difficulty_sep14.csv  \u001b[34mtemplates\u001b[m\u001b[m/\r\n"
     ]
    }
   ],
   "source": [
    "ls"
   ]
  },
  {
   "cell_type": "code",
   "execution_count": 8,
   "metadata": {
    "collapsed": false
   },
   "outputs": [],
   "source": [
    "questions = pd.read_csv(\"question_difficulty_sep14.csv\")\n",
    "questions.columns=['index','problem','avg','difficulty']"
   ]
  },
  {
   "cell_type": "code",
   "execution_count": 9,
   "metadata": {
    "collapsed": false
   },
   "outputs": [
    {
     "data": {
      "text/plain": [
       "'_bmueller_quadVertexToStandard'"
      ]
     },
     "execution_count": 9,
     "metadata": {},
     "output_type": "execute_result"
    }
   ],
   "source": [
    "np.random.choice(questions.problem)"
   ]
  },
  {
   "cell_type": "code",
   "execution_count": 10,
   "metadata": {
    "collapsed": false
   },
   "outputs": [
    {
     "data": {
      "text/plain": [
       "124"
      ]
     },
     "execution_count": 10,
     "metadata": {},
     "output_type": "execute_result"
    }
   ],
   "source": [
    "len(questions)"
   ]
  },
  {
   "cell_type": "code",
   "execution_count": 11,
   "metadata": {
    "collapsed": false
   },
   "outputs": [
    {
     "data": {
      "text/html": [
       "<div>\n",
       "<table border=\"1\" class=\"dataframe\">\n",
       "  <thead>\n",
       "    <tr style=\"text-align: right;\">\n",
       "      <th></th>\n",
       "      <th>index</th>\n",
       "      <th>problem</th>\n",
       "      <th>avg</th>\n",
       "      <th>difficulty</th>\n",
       "    </tr>\n",
       "  </thead>\n",
       "  <tbody>\n",
       "    <tr>\n",
       "      <th>0</th>\n",
       "      <td>0</td>\n",
       "      <td>_ajacoby_idPropertyLvl1</td>\n",
       "      <td>0.586922</td>\n",
       "      <td>2.065388</td>\n",
       "    </tr>\n",
       "    <tr>\n",
       "      <th>1</th>\n",
       "      <td>1</td>\n",
       "      <td>_ajacoby_idPropertyLvl2</td>\n",
       "      <td>0.507386</td>\n",
       "      <td>2.463069</td>\n",
       "    </tr>\n",
       "    <tr>\n",
       "      <th>2</th>\n",
       "      <td>2</td>\n",
       "      <td>_bmueller_ptWordProblems</td>\n",
       "      <td>0.594412</td>\n",
       "      <td>2.027938</td>\n",
       "    </tr>\n",
       "    <tr>\n",
       "      <th>3</th>\n",
       "      <td>3</td>\n",
       "      <td>_bmueller_quadFactoredToStandard</td>\n",
       "      <td>0.306127</td>\n",
       "      <td>3.469364</td>\n",
       "    </tr>\n",
       "    <tr>\n",
       "      <th>4</th>\n",
       "      <td>4</td>\n",
       "      <td>_bmueller_quadInterceptCoefficients</td>\n",
       "      <td>0.478771</td>\n",
       "      <td>2.606143</td>\n",
       "    </tr>\n",
       "  </tbody>\n",
       "</table>\n",
       "</div>"
      ],
      "text/plain": [
       "   index                              problem       avg  difficulty\n",
       "0      0              _ajacoby_idPropertyLvl1  0.586922    2.065388\n",
       "1      1              _ajacoby_idPropertyLvl2  0.507386    2.463069\n",
       "2      2             _bmueller_ptWordProblems  0.594412    2.027938\n",
       "3      3     _bmueller_quadFactoredToStandard  0.306127    3.469364\n",
       "4      4  _bmueller_quadInterceptCoefficients  0.478771    2.606143"
      ]
     },
     "execution_count": 11,
     "metadata": {},
     "output_type": "execute_result"
    }
   ],
   "source": [
    "questions.head()"
   ]
  },
  {
   "cell_type": "code",
   "execution_count": 13,
   "metadata": {
    "collapsed": false
   },
   "outputs": [
    {
     "data": {
      "text/plain": [
       "'_ajacoby_idPropertyLvl2'"
      ]
     },
     "execution_count": 13,
     "metadata": {},
     "output_type": "execute_result"
    }
   ],
   "source": [
    "questions.ix[1].problem"
   ]
  },
  {
   "cell_type": "code",
   "execution_count": 14,
   "metadata": {
    "collapsed": false
   },
   "outputs": [
    {
     "data": {
      "text/plain": [
       "2.46306873207"
      ]
     },
     "execution_count": 14,
     "metadata": {},
     "output_type": "execute_result"
    }
   ],
   "source": [
    "questions.ix[1].difficulty"
   ]
  },
  {
   "cell_type": "code",
   "execution_count": 15,
   "metadata": {
    "collapsed": false
   },
   "outputs": [
    {
     "data": {
      "text/plain": [
       "index                               1\n",
       "problem       _ajacoby_idPropertyLvl2\n",
       "avg                         0.5073863\n",
       "difficulty                   2.463069\n",
       "Name: 1, dtype: object"
      ]
     },
     "execution_count": 15,
     "metadata": {},
     "output_type": "execute_result"
    }
   ],
   "source": [
    "questions.ix[1]"
   ]
  },
  {
   "cell_type": "code",
   "execution_count": 16,
   "metadata": {
    "collapsed": false
   },
   "outputs": [],
   "source": [
    "user_qs = questions[(questions.difficulty<2+0.5) & (questions.difficulty>2-0.5) ]"
   ]
  },
  {
   "cell_type": "code",
   "execution_count": 17,
   "metadata": {
    "collapsed": false
   },
   "outputs": [
    {
     "data": {
      "text/html": [
       "<div>\n",
       "<table border=\"1\" class=\"dataframe\">\n",
       "  <thead>\n",
       "    <tr style=\"text-align: right;\">\n",
       "      <th></th>\n",
       "      <th>index</th>\n",
       "      <th>avg</th>\n",
       "      <th>difficulty</th>\n",
       "    </tr>\n",
       "  </thead>\n",
       "  <tbody>\n",
       "    <tr>\n",
       "      <th>count</th>\n",
       "      <td>124.000000</td>\n",
       "      <td>124.000000</td>\n",
       "      <td>124.000000</td>\n",
       "    </tr>\n",
       "    <tr>\n",
       "      <th>mean</th>\n",
       "      <td>63.024194</td>\n",
       "      <td>0.426826</td>\n",
       "      <td>2.865869</td>\n",
       "    </tr>\n",
       "    <tr>\n",
       "      <th>std</th>\n",
       "      <td>37.659895</td>\n",
       "      <td>0.182725</td>\n",
       "      <td>0.913626</td>\n",
       "    </tr>\n",
       "    <tr>\n",
       "      <th>min</th>\n",
       "      <td>0.000000</td>\n",
       "      <td>0.017609</td>\n",
       "      <td>0.948454</td>\n",
       "    </tr>\n",
       "    <tr>\n",
       "      <th>25%</th>\n",
       "      <td>30.750000</td>\n",
       "      <td>0.305907</td>\n",
       "      <td>2.274158</td>\n",
       "    </tr>\n",
       "    <tr>\n",
       "      <th>50%</th>\n",
       "      <td>62.500000</td>\n",
       "      <td>0.433045</td>\n",
       "      <td>2.834775</td>\n",
       "    </tr>\n",
       "    <tr>\n",
       "      <th>75%</th>\n",
       "      <td>95.250000</td>\n",
       "      <td>0.545168</td>\n",
       "      <td>3.470467</td>\n",
       "    </tr>\n",
       "    <tr>\n",
       "      <th>max</th>\n",
       "      <td>129.000000</td>\n",
       "      <td>0.810309</td>\n",
       "      <td>4.911956</td>\n",
       "    </tr>\n",
       "  </tbody>\n",
       "</table>\n",
       "</div>"
      ],
      "text/plain": [
       "            index         avg  difficulty\n",
       "count  124.000000  124.000000  124.000000\n",
       "mean    63.024194    0.426826    2.865869\n",
       "std     37.659895    0.182725    0.913626\n",
       "min      0.000000    0.017609    0.948454\n",
       "25%     30.750000    0.305907    2.274158\n",
       "50%     62.500000    0.433045    2.834775\n",
       "75%     95.250000    0.545168    3.470467\n",
       "max    129.000000    0.810309    4.911956"
      ]
     },
     "execution_count": 17,
     "metadata": {},
     "output_type": "execute_result"
    }
   ],
   "source": [
    "questions.describe()"
   ]
  },
  {
   "cell_type": "code",
   "execution_count": 18,
   "metadata": {
    "collapsed": false
   },
   "outputs": [
    {
     "data": {
      "text/html": [
       "<div>\n",
       "<table border=\"1\" class=\"dataframe\">\n",
       "  <thead>\n",
       "    <tr style=\"text-align: right;\">\n",
       "      <th></th>\n",
       "      <th>index</th>\n",
       "      <th>avg</th>\n",
       "      <th>difficulty</th>\n",
       "    </tr>\n",
       "  </thead>\n",
       "  <tbody>\n",
       "    <tr>\n",
       "      <th>count</th>\n",
       "      <td>38.000000</td>\n",
       "      <td>38.000000</td>\n",
       "      <td>38.000000</td>\n",
       "    </tr>\n",
       "    <tr>\n",
       "      <th>mean</th>\n",
       "      <td>59.763158</td>\n",
       "      <td>0.579604</td>\n",
       "      <td>2.101980</td>\n",
       "    </tr>\n",
       "    <tr>\n",
       "      <th>std</th>\n",
       "      <td>40.883773</td>\n",
       "      <td>0.055162</td>\n",
       "      <td>0.275808</td>\n",
       "    </tr>\n",
       "    <tr>\n",
       "      <th>min</th>\n",
       "      <td>0.000000</td>\n",
       "      <td>0.504115</td>\n",
       "      <td>1.523765</td>\n",
       "    </tr>\n",
       "    <tr>\n",
       "      <th>25%</th>\n",
       "      <td>28.500000</td>\n",
       "      <td>0.540285</td>\n",
       "      <td>1.991378</td>\n",
       "    </tr>\n",
       "    <tr>\n",
       "      <th>50%</th>\n",
       "      <td>50.500000</td>\n",
       "      <td>0.569323</td>\n",
       "      <td>2.153383</td>\n",
       "    </tr>\n",
       "    <tr>\n",
       "      <th>75%</th>\n",
       "      <td>97.500000</td>\n",
       "      <td>0.601724</td>\n",
       "      <td>2.298573</td>\n",
       "    </tr>\n",
       "    <tr>\n",
       "      <th>max</th>\n",
       "      <td>128.000000</td>\n",
       "      <td>0.695247</td>\n",
       "      <td>2.479424</td>\n",
       "    </tr>\n",
       "  </tbody>\n",
       "</table>\n",
       "</div>"
      ],
      "text/plain": [
       "            index        avg  difficulty\n",
       "count   38.000000  38.000000   38.000000\n",
       "mean    59.763158   0.579604    2.101980\n",
       "std     40.883773   0.055162    0.275808\n",
       "min      0.000000   0.504115    1.523765\n",
       "25%     28.500000   0.540285    1.991378\n",
       "50%     50.500000   0.569323    2.153383\n",
       "75%     97.500000   0.601724    2.298573\n",
       "max    128.000000   0.695247    2.479424"
      ]
     },
     "execution_count": 18,
     "metadata": {},
     "output_type": "execute_result"
    }
   ],
   "source": [
    "user_qs.describe()"
   ]
  },
  {
   "cell_type": "code",
   "execution_count": 22,
   "metadata": {
    "collapsed": false
   },
   "outputs": [
    {
     "data": {
      "text/html": [
       "<div>\n",
       "<table border=\"1\" class=\"dataframe\">\n",
       "  <thead>\n",
       "    <tr style=\"text-align: right;\">\n",
       "      <th></th>\n",
       "      <th>index</th>\n",
       "      <th>problem</th>\n",
       "      <th>avg</th>\n",
       "      <th>difficulty</th>\n",
       "    </tr>\n",
       "  </thead>\n",
       "  <tbody>\n",
       "    <tr>\n",
       "      <th>12</th>\n",
       "      <td>12</td>\n",
       "      <td>_bpeled_masterProductFactoring</td>\n",
       "      <td>0.059010</td>\n",
       "      <td>4.704949</td>\n",
       "    </tr>\n",
       "    <tr>\n",
       "      <th>24</th>\n",
       "      <td>24</td>\n",
       "      <td>_jhall_LinEqMovies</td>\n",
       "      <td>0.159740</td>\n",
       "      <td>4.201301</td>\n",
       "    </tr>\n",
       "    <tr>\n",
       "      <th>36</th>\n",
       "      <td>36</td>\n",
       "      <td>averageRateOfChangeEquation</td>\n",
       "      <td>0.056190</td>\n",
       "      <td>4.719048</td>\n",
       "    </tr>\n",
       "    <tr>\n",
       "      <th>37</th>\n",
       "      <td>37</td>\n",
       "      <td>averageRateOfChangeGraph</td>\n",
       "      <td>0.100976</td>\n",
       "      <td>4.495120</td>\n",
       "    </tr>\n",
       "    <tr>\n",
       "      <th>45</th>\n",
       "      <td>45</td>\n",
       "      <td>drawStoryGraph</td>\n",
       "      <td>0.141712</td>\n",
       "      <td>4.291438</td>\n",
       "    </tr>\n",
       "    <tr>\n",
       "      <th>58</th>\n",
       "      <td>59</td>\n",
       "      <td>identifyFractions</td>\n",
       "      <td>0.071305</td>\n",
       "      <td>4.643473</td>\n",
       "    </tr>\n",
       "    <tr>\n",
       "      <th>73</th>\n",
       "      <td>74</td>\n",
       "      <td>meanFromFrequency</td>\n",
       "      <td>0.106817</td>\n",
       "      <td>4.465914</td>\n",
       "    </tr>\n",
       "    <tr>\n",
       "      <th>86</th>\n",
       "      <td>89</td>\n",
       "      <td>percentDifferenceLevel1</td>\n",
       "      <td>0.150928</td>\n",
       "      <td>4.245361</td>\n",
       "    </tr>\n",
       "    <tr>\n",
       "      <th>90</th>\n",
       "      <td>93</td>\n",
       "      <td>percentIncreaseDecreaseWordL2</td>\n",
       "      <td>0.063392</td>\n",
       "      <td>4.683039</td>\n",
       "    </tr>\n",
       "    <tr>\n",
       "      <th>92</th>\n",
       "      <td>95</td>\n",
       "      <td>pointSlopeForm</td>\n",
       "      <td>0.076262</td>\n",
       "      <td>4.618688</td>\n",
       "    </tr>\n",
       "    <tr>\n",
       "      <th>96</th>\n",
       "      <td>99</td>\n",
       "      <td>pythagoreanTheorem</td>\n",
       "      <td>0.127495</td>\n",
       "      <td>4.362526</td>\n",
       "    </tr>\n",
       "    <tr>\n",
       "      <th>102</th>\n",
       "      <td>106</td>\n",
       "      <td>rangeFromEquation</td>\n",
       "      <td>0.017609</td>\n",
       "      <td>4.911956</td>\n",
       "    </tr>\n",
       "    <tr>\n",
       "      <th>117</th>\n",
       "      <td>122</td>\n",
       "      <td>trigFindAngleA1</td>\n",
       "      <td>0.059270</td>\n",
       "      <td>4.703652</td>\n",
       "    </tr>\n",
       "    <tr>\n",
       "      <th>123</th>\n",
       "      <td>129</td>\n",
       "      <td>xGameMasterProduct</td>\n",
       "      <td>0.142683</td>\n",
       "      <td>4.286586</td>\n",
       "    </tr>\n",
       "  </tbody>\n",
       "</table>\n",
       "</div>"
      ],
      "text/plain": [
       "     index                         problem       avg  difficulty\n",
       "12      12  _bpeled_masterProductFactoring  0.059010    4.704949\n",
       "24      24              _jhall_LinEqMovies  0.159740    4.201301\n",
       "36      36     averageRateOfChangeEquation  0.056190    4.719048\n",
       "37      37        averageRateOfChangeGraph  0.100976    4.495120\n",
       "45      45                  drawStoryGraph  0.141712    4.291438\n",
       "58      59               identifyFractions  0.071305    4.643473\n",
       "73      74               meanFromFrequency  0.106817    4.465914\n",
       "86      89         percentDifferenceLevel1  0.150928    4.245361\n",
       "90      93   percentIncreaseDecreaseWordL2  0.063392    4.683039\n",
       "92      95                  pointSlopeForm  0.076262    4.618688\n",
       "96      99              pythagoreanTheorem  0.127495    4.362526\n",
       "102    106               rangeFromEquation  0.017609    4.911956\n",
       "117    122                 trigFindAngleA1  0.059270    4.703652\n",
       "123    129              xGameMasterProduct  0.142683    4.286586"
      ]
     },
     "execution_count": 22,
     "metadata": {},
     "output_type": "execute_result"
    }
   ],
   "source": [
    "questions[(questions.difficulty>4)]"
   ]
  },
  {
   "cell_type": "code",
   "execution_count": null,
   "metadata": {
    "collapsed": true
   },
   "outputs": [],
   "source": []
  }
 ],
 "metadata": {
  "kernelspec": {
   "display_name": "Python 2",
   "language": "python",
   "name": "python2"
  },
  "language_info": {
   "codemirror_mode": {
    "name": "ipython",
    "version": 2
   },
   "file_extension": ".py",
   "mimetype": "text/x-python",
   "name": "python",
   "nbconvert_exporter": "python",
   "pygments_lexer": "ipython2",
   "version": "2.7.12"
  }
 },
 "nbformat": 4,
 "nbformat_minor": 0
}
